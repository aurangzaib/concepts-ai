{
 "cells": [
  {
   "cell_type": "markdown",
   "metadata": {},
   "source": [
    "# **Deep Learning with Python**\n",
    "**Francois Chollet (2E, 2021)**\n",
    "\n",
    "## List of Chapters\n",
    "\n",
    "1. What is deep learning?   \n",
    "2.  The mathematical building blocks of neural networks\n",
    "3.  Introduction to Keras and TensorFlow 68\n",
    "4.  Getting started with neural networks: Classification and regression\n",
    "5.  Fundamentals of machine learning\n",
    "6.  The universal workflow of machine learning\n",
    "7.  Working with Keras: A deep dive\n",
    "8.  Introduction to deep learning for computer vision\n",
    "9.  Advanced deep learning for computer vision\n",
    "10. Deep learning for timeseries\n",
    "11. Deep learning for text\n",
    "12. Generative deep learning\n",
    "13. Best practices for the real world\n",
    "14. Conclusions"
   ]
  }
 ],
 "metadata": {
  "language_info": {
   "name": "python"
  }
 },
 "nbformat": 4,
 "nbformat_minor": 2
}
