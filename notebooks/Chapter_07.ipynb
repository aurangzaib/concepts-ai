{
    "cells": [
        {
            "cell_type": "markdown",
            "metadata": {},
            "source": [
                "---\n",
                "**Chapter 07**\n",
                "# **Working with Keras: A deep dive**\n",
                "---"
            ]
        },
        {
            "cell_type": "code",
            "execution_count": 1,
            "metadata": {},
            "outputs": [
                {
                    "data": {
                        "text/plain": [
                            "<module 'modules.Common' from '/Users/siddiqui/Projects/concepts/concepts-ai/notebooks/../modules/Common.py'>"
                        ]
                    },
                    "execution_count": 1,
                    "metadata": {},
                    "output_type": "execute_result"
                }
            ],
            "source": [
                "# System Libraries\n",
                "from tensorflow import keras\n",
                "import tensorflow as tf\n",
                "import numpy as np\n",
                "import importlib\n",
                "import sys\n",
                "\n",
                "sys.path.append(\"../\")\n",
                "\n",
                "# User Libraries\n",
                "from modules import Chapter_01\n",
                "from modules import Common\n",
                "\n",
                "# Reload Libraries\n",
                "importlib.reload(Chapter_01)\n",
                "importlib.reload(Common)"
            ]
        },
        {
            "cell_type": "markdown",
            "metadata": {},
            "source": [
                "---\n",
                "# **Graphviz**\n",
                "---"
            ]
        },
        {
            "cell_type": "markdown",
            "metadata": {},
            "source": [
                "| Step |Detail |\n",
                "| --- | ---|\n",
                "| Step 01 | pip install pydot |\n",
                "| Step 02 (Linux) | sudo apt install graphviz |\n",
                "| Step 02 (Mac)   | brew install graphviz |\n",
                "| Step 03 (Linux) | pip install pygraphviz |\n",
                "| Step 03 (Mac) | [pygraphviz on M2 Mac](https://github.com/pygraphviz/pygraphviz/issues/398#issuecomment-1516213484) |\n"
            ]
        },
        {
            "cell_type": "markdown",
            "metadata": {},
            "source": [
                "---\n",
                "# **Model Pattern — Keras.Sequential**\n",
                "---"
            ]
        },
        {
            "cell_type": "markdown",
            "metadata": {},
            "source": [
                "### <ins />**1. Single Input/Output**"
            ]
        },
        {
            "cell_type": "markdown",
            "metadata": {},
            "source": [
                "**Using build**"
            ]
        },
        {
            "cell_type": "code",
            "execution_count": 2,
            "metadata": {},
            "outputs": [
                {
                    "name": "stdout",
                    "output_type": "stream",
                    "text": [
                        "Model: \"example_sequential_api_1\"\n",
                        "_________________________________________________________________\n",
                        " Layer (type)                Output Shape              Param #   \n",
                        "=================================================================\n",
                        " dense (Dense)               (None, 64)                256       \n",
                        "                                                                 \n",
                        " dense_1 (Dense)             (None, 1)                 65        \n",
                        "                                                                 \n",
                        "=================================================================\n",
                        "Total params: 321 (1.25 KB)\n",
                        "Trainable params: 321 (1.25 KB)\n",
                        "Non-trainable params: 0 (0.00 Byte)\n",
                        "_________________________________________________________________\n"
                    ]
                }
            ],
            "source": [
                "model = keras.Sequential(name=\"example_sequential_api_1\")\n",
                "model.add(keras.layers.Dense(units=64, activation=tf.nn.relu))\n",
                "model.add(keras.layers.Dense(units=1, activation=tf.nn.sigmoid))\n",
                "model.build(input_shape=(None, 3))  # N batches, 3 features\n",
                "model.summary()"
            ]
        },
        {
            "cell_type": "markdown",
            "metadata": {},
            "source": [
                "**Using Input**"
            ]
        },
        {
            "cell_type": "code",
            "execution_count": 3,
            "metadata": {},
            "outputs": [
                {
                    "name": "stdout",
                    "output_type": "stream",
                    "text": [
                        "Model: \"sequential\"\n",
                        "_________________________________________________________________\n",
                        " Layer (type)                Output Shape              Param #   \n",
                        "=================================================================\n",
                        " Feature (Dense)             (None, 64)                256       \n",
                        "                                                                 \n",
                        " O_Output (Dense)            (None, 1)                 65        \n",
                        "                                                                 \n",
                        "=================================================================\n",
                        "Total params: 321 (1.25 KB)\n",
                        "Trainable params: 321 (1.25 KB)\n",
                        "Non-trainable params: 0 (0.00 Byte)\n",
                        "_________________________________________________________________\n"
                    ]
                },
                {
                    "data": {
                        "image/png": "[encoded data removed]",
                        "text/plain": [
                            "<IPython.core.display.Image object>"
                        ]
                    },
                    "execution_count": 3,
                    "metadata": {},
                    "output_type": "execute_result"
                }
            ],
            "source": [
                "model = keras.Sequential()\n",
                "model.add(keras.layers.Input(shape=((3,)), name=\"I_Input\"))\n",
                "model.add(keras.layers.Dense(units=64, activation=tf.nn.relu, name=\"Feature\"))\n",
                "model.add(keras.layers.Dense(units=1, activation=tf.nn.sigmoid, name=\"O_Output\"))\n",
                "model.summary()\n",
                "keras.utils.plot_model(model, \"../resources/images/tmp/model.png\", show_shapes=True)"
            ]
        },
        {
            "cell_type": "markdown",
            "metadata": {},
            "source": [
                "**Difference between layer and model**"
            ]
        },
        {
            "cell_type": "markdown",
            "metadata": {},
            "source": [
                "Model has fit / evaluate / predict / save methods"
            ]
        },
        {
            "cell_type": "markdown",
            "metadata": {},
            "source": [
                "### <ins />**2. Multi Input/Output**"
            ]
        },
        {
            "cell_type": "markdown",
            "metadata": {},
            "source": [
                "> Sequential API works only with single input/output"
            ]
        },
        {
            "cell_type": "markdown",
            "metadata": {},
            "source": [
                "---\n",
                "# **Model Pattern — Keras.Model**\n",
                "---"
            ]
        },
        {
            "cell_type": "markdown",
            "metadata": {},
            "source": [
                "### <ins />**1. Single Input/Output**"
            ]
        },
        {
            "cell_type": "code",
            "execution_count": 4,
            "metadata": {},
            "outputs": [
                {
                    "name": "stdout",
                    "output_type": "stream",
                    "text": [
                        "Model: \"model\"\n",
                        "_________________________________________________________________\n",
                        " Layer (type)                Output Shape              Param #   \n",
                        "=================================================================\n",
                        " I_Input (InputLayer)        [(None, 3)]               0         \n",
                        "                                                                 \n",
                        " Feature (Dense)             (None, 64)                256       \n",
                        "                                                                 \n",
                        " O_Output (Dense)            (None, 1)                 65        \n",
                        "                                                                 \n",
                        "=================================================================\n",
                        "Total params: 321 (1.25 KB)\n",
                        "Trainable params: 321 (1.25 KB)\n",
                        "Non-trainable params: 0 (0.00 Byte)\n",
                        "_________________________________________________________________\n"
                    ]
                },
                {
                    "data": {
                        "image/png": "[encoded data removed]",
                        "text/plain": [
                            "<IPython.core.display.Image object>"
                        ]
                    },
                    "execution_count": 4,
                    "metadata": {},
                    "output_type": "execute_result"
                }
            ],
            "source": [
                "inputs = keras.layers.Input(shape=((3,)), name=\"I_Input\")\n",
                "features = keras.layers.Dense(units=64, activation=tf.nn.relu, name=\"Feature\")(inputs)\n",
                "outputs = keras.layers.Dense(units=1, activation=tf.nn.sigmoid, name=\"O_Output\")(features)\n",
                "model = keras.Model(inputs=inputs, outputs=outputs)\n",
                "model.summary()\n",
                "keras.utils.plot_model(model, \"../resources/images/tmp/model.png\", show_shapes=True)"
            ]
        },
        {
            "cell_type": "markdown",
            "metadata": {},
            "source": [
                "### <ins />**2. Dataset**"
            ]
        },
        {
            "cell_type": "markdown",
            "metadata": {},
            "source": [
                "**Description:**\n",
                "- Customer ticket management system\n",
                "\n",
                "**Input:**\n",
                "- Title of ticket\n",
                "- Text of ticket\n",
                "- Tag of ticket\n",
                "\n",
                "**Output:**\n",
                "- Priority of ticket\n",
                "- Department of ticket\n",
                "- Difficulty of ticket"
            ]
        },
        {
            "cell_type": "code",
            "execution_count": 5,
            "metadata": {},
            "outputs": [],
            "source": [
                "# ------------------------------\n",
                "# Shapes\n",
                "# ------------------------------\n",
                "num_samples = 1280\n",
                "num_words = 1000\n",
                "num_tags = 10\n",
                "num_priorities = 1\n",
                "num_departments = 4\n",
                "num_difficulties = 3\n",
                "# ------------------------------\n",
                "# Inputs\n",
                "# ------------------------------\n",
                "I_title = np.random.randint(low=0, high=2, size=(num_samples, num_words))\n",
                "I_text = np.random.randint(low=0, high=2, size=(num_samples, num_words))\n",
                "I_tag = np.random.randint(low=0, high=2, size=(num_samples, num_tags))\n",
                "# ------------------------------\n",
                "# Outputs\n",
                "# ------------------------------\n",
                "O_priority = np.random.random(size=(num_samples, num_priorities))\n",
                "O_department = np.random.randint(low=0, high=2, size=(num_samples, num_departments))\n",
                "O_difficulty = np.random.randint(low=0, high=2, size=(num_samples, num_difficulties))"
            ]
        },
        {
            "cell_type": "markdown",
            "metadata": {},
            "source": [
                "### <ins />**3. Model Layers**"
            ]
        },
        {
            "cell_type": "code",
            "execution_count": 6,
            "metadata": {},
            "outputs": [],
            "source": [
                "# ------------------------------\n",
                "# Inputs\n",
                "# ------------------------------\n",
                "L_title = keras.layers.Input(shape=(num_words,), name=\"I_title\")\n",
                "L_text = keras.layers.Input(shape=(num_words,), name=\"I_text\")\n",
                "L_tag = keras.layers.Input(shape=(num_tags,), name=\"I_tag\")\n",
                "inputs = keras.layers.Concatenate(name=\"Mixing\")([L_title, L_text, L_tag])\n",
                "# ------------------------------\n",
                "# Features\n",
                "# ------------------------------\n",
                "features = keras.layers.Dense(units=64, activation=tf.nn.relu, name=\"Feature\")(inputs)\n",
                "# ------------------------------\n",
                "# Outputs\n",
                "# ------------------------------\n",
                "L_priority = keras.layers.Dense(units=num_priorities, activation=tf.nn.sigmoid, name=\"O_priority\")(features)\n",
                "L_department = keras.layers.Dense(units=num_departments, activation=tf.nn.softmax, name=\"O_department\")(features)"
            ]
        },
        {
            "cell_type": "markdown",
            "metadata": {},
            "source": [
                "### <ins />**4. Model Creation**"
            ]
        },
        {
            "cell_type": "code",
            "execution_count": 7,
            "metadata": {},
            "outputs": [],
            "source": [
                "model = keras.Model(inputs=[L_title, L_text, L_tag], outputs=[L_priority, L_department])"
            ]
        },
        {
            "cell_type": "markdown",
            "metadata": {},
            "source": [
                "### <ins />**5. Model Summary**"
            ]
        },
        {
            "cell_type": "code",
            "execution_count": 8,
            "metadata": {},
            "outputs": [
                {
                    "name": "stdout",
                    "output_type": "stream",
                    "text": [
                        "Model: \"model_1\"\n",
                        "__________________________________________________________________________________________________\n",
                        " Layer (type)                Output Shape                 Param #   Connected to                  \n",
                        "==================================================================================================\n",
                        " I_title (InputLayer)        [(None, 1000)]               0         []                            \n",
                        "                                                                                                  \n",
                        " I_text (InputLayer)         [(None, 1000)]               0         []                            \n",
                        "                                                                                                  \n",
                        " I_tag (InputLayer)          [(None, 10)]                 0         []                            \n",
                        "                                                                                                  \n",
                        " Mixing (Concatenate)        (None, 2010)                 0         ['I_title[0][0]',             \n",
                        "                                                                     'I_text[0][0]',              \n",
                        "                                                                     'I_tag[0][0]']               \n",
                        "                                                                                                  \n",
                        " Feature (Dense)             (None, 64)                   128704    ['Mixing[0][0]']              \n",
                        "                                                                                                  \n",
                        " O_priority (Dense)          (None, 1)                    65        ['Feature[0][0]']             \n",
                        "                                                                                                  \n",
                        " O_department (Dense)        (None, 4)                    260       ['Feature[0][0]']             \n",
                        "                                                                                                  \n",
                        "==================================================================================================\n",
                        "Total params: 129029 (504.02 KB)\n",
                        "Trainable params: 129029 (504.02 KB)\n",
                        "Non-trainable params: 0 (0.00 Byte)\n",
                        "__________________________________________________________________________________________________\n"
                    ]
                }
            ],
            "source": [
                "model.summary()"
            ]
        },
        {
            "cell_type": "markdown",
            "metadata": {},
            "source": [
                "### <ins />**7. Model Graph**"
            ]
        },
        {
            "cell_type": "code",
            "execution_count": 9,
            "metadata": {},
            "outputs": [
                {
                    "data": {
                        "image/png": "[encoded data removed]",
                        "text/plain": [
                            "<IPython.core.display.Image object>"
                        ]
                    },
                    "execution_count": 9,
                    "metadata": {},
                    "output_type": "execute_result"
                }
            ],
            "source": [
                "keras.utils.plot_model(model, \"../resources/images/tmp/model.png\", show_shapes=True)"
            ]
        },
        {
            "cell_type": "markdown",
            "metadata": {},
            "source": [
                "### <ins />**8. Model Feature Extraction**"
            ]
        },
        {
            "cell_type": "markdown",
            "metadata": {},
            "source": [
                "**Problem:**\n",
                "- Add a new output in the model\n",
                "- Do not change original model\n",
                "\n",
                "**Solution:**\n",
                "- Extract features from existing model\n",
                "- Create new model using extracted features"
            ]
        },
        {
            "cell_type": "code",
            "execution_count": 10,
            "metadata": {},
            "outputs": [
                {
                    "name": "stdout",
                    "output_type": "stream",
                    "text": [
                        "Model: \"model_2\"\n",
                        "__________________________________________________________________________________________________\n",
                        " Layer (type)                Output Shape                 Param #   Connected to                  \n",
                        "==================================================================================================\n",
                        " I_title (InputLayer)        [(None, 1000)]               0         []                            \n",
                        "                                                                                                  \n",
                        " I_text (InputLayer)         [(None, 1000)]               0         []                            \n",
                        "                                                                                                  \n",
                        " I_tag (InputLayer)          [(None, 10)]                 0         []                            \n",
                        "                                                                                                  \n",
                        " Mixing (Concatenate)        (None, 2010)                 0         ['I_title[0][0]',             \n",
                        "                                                                     'I_text[0][0]',              \n",
                        "                                                                     'I_tag[0][0]']               \n",
                        "                                                                                                  \n",
                        " Feature (Dense)             (None, 64)                   128704    ['Mixing[0][0]']              \n",
                        "                                                                                                  \n",
                        " O_priority (Dense)          (None, 1)                    65        ['Feature[0][0]']             \n",
                        "                                                                                                  \n",
                        " O_department (Dense)        (None, 4)                    260       ['Feature[0][0]']             \n",
                        "                                                                                                  \n",
                        " O_difficulty (Dense)        (None, 3)                    195       ['Feature[0][0]']             \n",
                        "                                                                                                  \n",
                        "==================================================================================================\n",
                        "Total params: 129224 (504.78 KB)\n",
                        "Trainable params: 129224 (504.78 KB)\n",
                        "Non-trainable params: 0 (0.00 Byte)\n",
                        "__________________________________________________________________________________________________\n"
                    ]
                },
                {
                    "data": {
                        "image/png": "[encoded data removed]",
                        "text/plain": [
                            "<IPython.core.display.Image object>"
                        ]
                    },
                    "execution_count": 10,
                    "metadata": {},
                    "output_type": "execute_result"
                }
            ],
            "source": [
                "# ------------------------------\n",
                "# Features\n",
                "# ------------------------------\n",
                "features = model.layers[4].output\n",
                "L_difficulty = keras.layers.Dense(units=num_difficulties, activation=tf.nn.softmax, name=\"O_difficulty\")(features)\n",
                "full_model = keras.Model(inputs=[L_title, L_text, L_tag], outputs=[L_priority, L_department, L_difficulty])\n",
                "full_model.summary()\n",
                "keras.utils.plot_model(full_model, \"../resources/images/tmp/model.png\", show_shapes=True)"
            ]
        },
        {
            "cell_type": "markdown",
            "metadata": {},
            "source": [
                "### <ins />**9. Model Configuration**"
            ]
        },
        {
            "cell_type": "code",
            "execution_count": 11,
            "metadata": {},
            "outputs": [],
            "source": [
                "# ------------------------------\n",
                "# Array notation can also be used\n",
                "# ------------------------------\n",
                "full_model.compile(\n",
                "    optimizer=keras.optimizers.legacy.RMSprop(),\n",
                "    loss={\n",
                "        \"O_priority\": keras.losses.MeanSquaredError(),\n",
                "        \"O_department\": keras.losses.CategoricalCrossentropy(),\n",
                "        \"O_difficulty\": keras.losses.CategoricalCrossentropy(),\n",
                "    },\n",
                "    metrics={\n",
                "        \"O_priority\": keras.metrics.MeanAbsoluteError(),\n",
                "        \"O_department\": keras.metrics.CategoricalAccuracy(),\n",
                "        \"O_difficulty\": keras.metrics.CategoricalAccuracy(),\n",
                "    },\n",
                ")"
            ]
        },
        {
            "cell_type": "markdown",
            "metadata": {},
            "source": [
                "### <ins />**10. Model Training**"
            ]
        },
        {
            "cell_type": "code",
            "execution_count": 12,
            "metadata": {},
            "outputs": [],
            "source": [
                "epochs = 1\n",
                "history = full_model.fit(\n",
                "    x={\n",
                "        \"I_title\": I_title,\n",
                "        \"I_text\": I_text,\n",
                "        \"I_tag\": I_tag,\n",
                "    },\n",
                "    y={\n",
                "        \"O_priority\": O_priority,\n",
                "        \"O_department\": O_department,\n",
                "        \"O_difficulty\": O_difficulty,\n",
                "    },\n",
                "    epochs=epochs,\n",
                "    verbose=False,\n",
                ")"
            ]
        },
        {
            "cell_type": "markdown",
            "metadata": {},
            "source": [
                "### <ins />**11. Model Evaluation**"
            ]
        },
        {
            "cell_type": "code",
            "execution_count": 13,
            "metadata": {},
            "outputs": [
                {
                    "data": {
                        "text/plain": [
                            "[5.898326396942139,\n",
                            " 0.1534949094057083,\n",
                            " 3.6516501903533936,\n",
                            " 2.0931806564331055,\n",
                            " 0.32172828912734985,\n",
                            " 0.27031248807907104,\n",
                            " 0.12265624850988388]"
                        ]
                    },
                    "execution_count": 13,
                    "metadata": {},
                    "output_type": "execute_result"
                }
            ],
            "source": [
                "full_model.evaluate(\n",
                "    x={\n",
                "        \"I_title\": I_title,\n",
                "        \"I_text\": I_text,\n",
                "        \"I_tag\": I_tag,\n",
                "    },\n",
                "    y={\n",
                "        \"O_priority\": O_priority,\n",
                "        \"O_department\": O_department,\n",
                "        \"O_difficulty\": O_difficulty,\n",
                "    },\n",
                "    verbose=False,\n",
                ")"
            ]
        },
        {
            "cell_type": "markdown",
            "metadata": {},
            "source": [
                "### <ins />**12. Model Prediction**"
            ]
        },
        {
            "cell_type": "code",
            "execution_count": 14,
            "metadata": {},
            "outputs": [],
            "source": [
                "P_priority, P_department, P_difficulty = full_model.predict(\n",
                "    x={\n",
                "        \"I_title\": I_title,\n",
                "        \"I_text\": I_text,\n",
                "        \"I_tag\": I_tag,\n",
                "    },\n",
                "    verbose=False,\n",
                ")"
            ]
        },
        {
            "cell_type": "markdown",
            "metadata": {},
            "source": [
                "---\n",
                "# **Model Pattern — Subclass Keras.Model**\n",
                "---"
            ]
        },
        {
            "cell_type": "markdown",
            "metadata": {},
            "source": [
                "### <ins />**1. Model Subclass**"
            ]
        },
        {
            "cell_type": "code",
            "execution_count": 15,
            "metadata": {},
            "outputs": [],
            "source": [
                "class MyClass(keras.Model):\n",
                "    # ------------------------------\n",
                "    # Define Layers\n",
                "    # ------------------------------\n",
                "    def __init__(self):\n",
                "        super().__init__()\n",
                "        self.concat_layer = keras.layers.Concatenate()\n",
                "        self.mixing_layer = keras.layers.Dense(units=64, activation=tf.nn.relu)\n",
                "        self.priority_scorer = keras.layers.Dense(units=num_priorities, activation=tf.nn.sigmoid)\n",
                "        self.department_classifier = keras.layers.Dense(units=num_departments, activation=tf.nn.softmax)\n",
                "\n",
                "    # ------------------------------\n",
                "    # Define Forward Pass (Prediction)\n",
                "    # ------------------------------\n",
                "    def call(self, inputs):\n",
                "        title, text, tag = inputs\n",
                "        features = self.concat_layer(inputs)\n",
                "        features = self.mixing_layer(features)\n",
                "        P_priority = self.priority_scorer(features)\n",
                "        P_department = self.department_classifier(features)\n",
                "        return P_priority, P_department"
            ]
        },
        {
            "cell_type": "markdown",
            "metadata": {},
            "source": [
                "### <ins />**2. Model Creation**"
            ]
        },
        {
            "cell_type": "code",
            "execution_count": 16,
            "metadata": {},
            "outputs": [],
            "source": [
                "subclass_model = MyClass()"
            ]
        },
        {
            "cell_type": "markdown",
            "metadata": {},
            "source": [
                "### <ins />**3. Model Configuration**"
            ]
        },
        {
            "cell_type": "code",
            "execution_count": 17,
            "metadata": {},
            "outputs": [],
            "source": [
                "subclass_model.compile(\n",
                "    optimizer=keras.optimizers.legacy.RMSprop(),\n",
                "    loss=[keras.losses.MeanSquaredError(), keras.losses.CategoricalCrossentropy()],\n",
                "    metrics=[keras.metrics.MeanAbsoluteError(), keras.metrics.CategoricalAccuracy()],\n",
                ")"
            ]
        },
        {
            "cell_type": "markdown",
            "metadata": {},
            "source": [
                "### <ins />**4. Model Training**"
            ]
        },
        {
            "cell_type": "code",
            "execution_count": 18,
            "metadata": {},
            "outputs": [],
            "source": [
                "epochs = 1\n",
                "history = subclass_model.fit(\n",
                "    x=[I_title, I_text, I_tag],\n",
                "    y=[O_priority, O_department],\n",
                "    epochs=epochs,\n",
                "    verbose=False,\n",
                ")"
            ]
        },
        {
            "cell_type": "markdown",
            "metadata": {},
            "source": [
                "### <ins />**5. Model Evaluation**"
            ]
        },
        {
            "cell_type": "code",
            "execution_count": 19,
            "metadata": {},
            "outputs": [
                {
                    "data": {
                        "text/plain": [
                            "[4.63195276260376,\n",
                            " 0.32998019456863403,\n",
                            " 4.301970958709717,\n",
                            " 0.5006338357925415,\n",
                            " 1.0,\n",
                            " 0.49511465430259705,\n",
                            " 0.542187511920929]"
                        ]
                    },
                    "execution_count": 19,
                    "metadata": {},
                    "output_type": "execute_result"
                }
            ],
            "source": [
                "subclass_model.evaluate(\n",
                "    x=[I_title, I_text, I_tag],\n",
                "    y=[O_priority, O_department],\n",
                "    verbose=False,\n",
                ")"
            ]
        },
        {
            "cell_type": "markdown",
            "metadata": {},
            "source": [
                "### <ins />**6. Model Prediction**"
            ]
        },
        {
            "cell_type": "code",
            "execution_count": 20,
            "metadata": {},
            "outputs": [
                {
                    "name": "stdout",
                    "output_type": "stream",
                    "text": [
                        "40/40 [==============================] - 0s 743us/step\n"
                    ]
                },
                {
                    "data": {
                        "text/plain": [
                            "(array([[1.],\n",
                            "        [1.],\n",
                            "        [1.],\n",
                            "        ...,\n",
                            "        [1.],\n",
                            "        [1.],\n",
                            "        [1.]], dtype=float32),\n",
                            " array([[0.6827505 , 0.03468957, 0.24118678, 0.04137315],\n",
                            "        [0.45018065, 0.06959058, 0.4555081 , 0.0247207 ],\n",
                            "        [0.71963465, 0.08596122, 0.15758182, 0.03682226],\n",
                            "        ...,\n",
                            "        [0.7140971 , 0.02667703, 0.20501098, 0.05421486],\n",
                            "        [0.65522146, 0.02087043, 0.31733793, 0.00657018],\n",
                            "        [0.2917232 , 0.0440154 , 0.6400762 , 0.02418515]], dtype=float32))"
                        ]
                    },
                    "execution_count": 20,
                    "metadata": {},
                    "output_type": "execute_result"
                }
            ],
            "source": [
                "subclass_model.predict([I_title, I_text, I_tag])"
            ]
        },
        {
            "cell_type": "markdown",
            "metadata": {},
            "source": [
                "### <ins />**7. Model Summary**"
            ]
        },
        {
            "cell_type": "code",
            "execution_count": 21,
            "metadata": {},
            "outputs": [
                {
                    "name": "stdout",
                    "output_type": "stream",
                    "text": [
                        "Model: \"my_class\"\n",
                        "_________________________________________________________________\n",
                        " Layer (type)                Output Shape              Param #   \n",
                        "=================================================================\n",
                        " concatenate (Concatenate)   multiple                  0         \n",
                        "                                                                 \n",
                        " dense_2 (Dense)             multiple                  128704    \n",
                        "                                                                 \n",
                        " dense_3 (Dense)             multiple                  65        \n",
                        "                                                                 \n",
                        " dense_4 (Dense)             multiple                  260       \n",
                        "                                                                 \n",
                        "=================================================================\n",
                        "Total params: 129029 (504.02 KB)\n",
                        "Trainable params: 129029 (504.02 KB)\n",
                        "Non-trainable params: 0 (0.00 Byte)\n",
                        "_________________________________________________________________\n"
                    ]
                }
            ],
            "source": [
                "subclass_model.summary()"
            ]
        },
        {
            "cell_type": "markdown",
            "metadata": {},
            "source": [
                "### <ins />**8. Model Graph**"
            ]
        },
        {
            "cell_type": "code",
            "execution_count": 22,
            "metadata": {},
            "outputs": [
                {
                    "data": {
                        "image/png": "[encoded data removed]",
                        "text/plain": [
                            "<IPython.core.display.Image object>"
                        ]
                    },
                    "execution_count": 22,
                    "metadata": {},
                    "output_type": "execute_result"
                }
            ],
            "source": [
                "keras.utils.plot_model(subclass_model, \"../resources/images/tmp/multi_io_model_subclass.png\", show_shapes=True)"
            ]
        },
        {
            "cell_type": "markdown",
            "metadata": {},
            "source": [
                "### <ins />**9. Disadvantages**"
            ]
        },
        {
            "cell_type": "markdown",
            "metadata": {},
            "source": [
                "- Summary does not work completely (layers added are not shown)\n",
                "- Graph (plot_model) does not work\n",
                "- More boilerplate code required\n",
                "- Forward pass is a black box\n",
                "- Bigger error surface area\n",
                "- More debugging required\n"
            ]
        },
        {
            "cell_type": "markdown",
            "metadata": {},
            "source": [
                "---\n",
                "# **Mixing Module Patterns**\n",
                "---"
            ]
        },
        {
            "cell_type": "markdown",
            "metadata": {},
            "source": [
                "### <ins />**1. Functional model including Subclass model**"
            ]
        },
        {
            "cell_type": "markdown",
            "metadata": {},
            "source": [
                "### <ins />**2. Subclass model including Functional model**"
            ]
        },
        {
            "cell_type": "markdown",
            "metadata": {},
            "source": [
                "### <ins />**3. Conclusion**"
            ]
        },
        {
            "cell_type": "markdown",
            "metadata": {},
            "source": [
                "- Subclass layers with functional model provides development flexibility and simplicity"
            ]
        },
        {
            "cell_type": "markdown",
            "metadata": {},
            "source": [
                "---\n",
                "# **Builtin fit, evaluation, prediction methods**\n",
                "---"
            ]
        },
        {
            "cell_type": "markdown",
            "metadata": {},
            "source": [
                "### <ins />**1. Mnist using Functional model**"
            ]
        },
        {
            "cell_type": "code",
            "execution_count": 23,
            "metadata": {},
            "outputs": [],
            "source": [
                "(x_train, y_train), (x_test, y_test) = Chapter_01.prepare()\n",
                "# ---------------------------------\n",
                "# Forward Propagation Configuration\n",
                "# ---------------------------------\n",
                "inputs = keras.layers.Input(shape=(28 * 28))\n",
                "features = keras.layers.Dense(units=256, activation=tf.nn.relu)(inputs)\n",
                "features = keras.layers.Dropout(0.01)(features)\n",
                "outputs = keras.layers.Dense(units=10, activation=tf.nn.softmax)(features)\n",
                "model = keras.Model(inputs=inputs, outputs=outputs)\n",
                "# ---------------------------------\n",
                "# Backward Propagation Configuration\n",
                "# ---------------------------------\n",
                "model.compile(\n",
                "    optimizer=keras.optimizers.legacy.RMSprop(),\n",
                "    loss=keras.losses.SparseCategoricalCrossentropy(),\n",
                "    metrics=[keras.metrics.SparseCategoricalAccuracy()],\n",
                ")\n",
                "history = Chapter_01.train(x=x_train, y=y_train, epochs=2, model=model)\n",
                "Chapter_01.evaluate(x=x_test, y=y_test, model=model, silent=True)\n",
                "Chapter_01.predict(x=x_test, y=y_test, model=model, silent=True)"
            ]
        },
        {
            "cell_type": "markdown",
            "metadata": {},
            "source": [
                "### <ins />**2. Custom Metrics**"
            ]
        },
        {
            "cell_type": "markdown",
            "metadata": {},
            "source": [
                "- Metrics measure the performance of model on train dataset versus test dataset\n",
                "- keras.metrics **does not** update its variables in backpropagation\n",
                "- The following are the methods for custom metrics:\n",
                "  - update_state()\n",
                "  - results()\n",
                "  - reset_state()\n",
                "- Note: keras.layers update its variables in backpropagation unlike keras.metrics"
            ]
        },
        {
            "cell_type": "code",
            "execution_count": 24,
            "metadata": {},
            "outputs": [],
            "source": [
                "class RootMeanSquaredError(keras.metrics.Metric):\n",
                "    def __init__(self, name=\"rmse\", **kwargs):\n",
                "        # Metric Constructor\n",
                "        super().__init__(name=name, **kwargs)\n",
                "        # Create Weights\n",
                "        self.mse_sum = self.add_weight(name=\"mse_sum\", initializer=\"zeros\")\n",
                "        self.num_samples = self.add_weight(name=\"num_samples\", initializer=\"zeros\", dtype=\"int32\")\n",
                "\n",
                "    def update_state(self, y_true, y_pred, sample_weight=None):\n",
                "        # y_true and y_pred are labels of a batch\n",
                "        # y_true must be a probability distribution\n",
                "        # Number of labels in the batch\n",
                "        num_labels = tf.shape(y_pred)[1]\n",
                "        y_true = tf.one_hot(y_true, depth=num_labels)\n",
                "        mse = tf.reduce_mean(tf.square(y_true - y_pred))\n",
                "        # Total number of samples in a batch\n",
                "        num_samples = tf.shape(y_pred)[0]\n",
                "        # Update weights\n",
                "        self.mse_sum.assign_add(mse)\n",
                "        self.num_samples.assign_add(num_samples)\n",
                "\n",
                "    def result(self):\n",
                "        # Root mean square averaged across all samples in a batch\n",
                "        return tf.sqrt(self.mse_sum / tf.cast(self.num_samples, tf.float32))\n",
                "\n",
                "    def reset_state(self):\n",
                "        self.mse_sum.assign(0.0)\n",
                "        self.num_samples.assign(0)"
            ]
        },
        {
            "cell_type": "code",
            "execution_count": 25,
            "metadata": {},
            "outputs": [
                {
                    "name": "stdout",
                    "output_type": "stream",
                    "text": [
                        "History:  dict_keys(['loss', 'sparse_categorical_accuracy', 'rmse', 'val_loss', 'val_sparse_categorical_accuracy', 'val_rmse'])\n",
                        "Root Mean Squared Error:  0.06931321322917938\n",
                        "Crossentropy:  0.32796502113342285\n",
                        "Accuracy:  0.9128000140190125\n"
                    ]
                }
            ],
            "source": [
                "model = Chapter_01.get_function_model(with_compile=False)\n",
                "model.compile(\n",
                "    loss=keras.losses.SparseCategoricalCrossentropy(),\n",
                "    metrics=[keras.metrics.SparseCategoricalAccuracy(), RootMeanSquaredError()],\n",
                "    optimizer=keras.optimizers.legacy.RMSprop(),\n",
                ")\n",
                "history = model.fit(\n",
                "    x=x_train,\n",
                "    y=y_train,\n",
                "    validation_split=0.3,\n",
                "    epochs=5,\n",
                "    batch_size=5000,\n",
                "    verbose=False,\n",
                ")\n",
                "test_loss, test_acc, test_rmse = model.evaluate(x=x_test, y=y_test, verbose=False)\n",
                "print(\"History: \", history.history.keys())\n",
                "print(\"Root Mean Squared Error: \", test_rmse)\n",
                "print(\"Crossentropy: \", test_loss)\n",
                "print(\"Accuracy: \", test_acc)"
            ]
        },
        {
            "cell_type": "markdown",
            "metadata": {},
            "source": [
                "### <ins />**3. Builtin Callbacks**"
            ]
        },
        {
            "cell_type": "markdown",
            "metadata": {},
            "source": [
                "**Common Callbacks**\n",
                "  1. LearningRateScheduler\n",
                "  2. ReduceLROnPlateau\n",
                "  3. ModelCheckpoint\n",
                "  4. EarlyStopping\n",
                "  5. TensorBoard\n",
                "  6. CSVLogger"
            ]
        },
        {
            "cell_type": "code",
            "execution_count": 26,
            "metadata": {},
            "outputs": [],
            "source": [
                "callbacks = [\n",
                "    # Stop training once metric stops improving for n epochs\n",
                "    keras.callbacks.EarlyStopping(\n",
                "        monitor=\"val_sparse_categorical_accuracy\",\n",
                "        patience=2,  # how many epoch\n",
                "    ),\n",
                "    # Save model when metric improves\n",
                "    keras.callbacks.ModelCheckpoint(\n",
                "        filepath=\"../resources/models/tmp/checkpoint.keras\",\n",
                "        monitor=\"val_loss\",\n",
                "        save_best_only=True,\n",
                "    ),\n",
                "    # TensorBoard\n",
                "    keras.callbacks.TensorBoard(log_dir=\"../resources/logs\"),\n",
                "]"
            ]
        },
        {
            "cell_type": "code",
            "execution_count": 27,
            "metadata": {},
            "outputs": [
                {
                    "name": "stdout",
                    "output_type": "stream",
                    "text": [
                        "Metrics: \n",
                        "loss, sparse_categorical_accuracy, val_loss, val_sparse_categorical_accuracy, \n"
                    ]
                },
                {
                    "data": {
                        "image/png": "[encoded data removed]",
                        "text/plain": [
                            "<Figure size 2000x1000 with 2 Axes>"
                        ]
                    },
                    "metadata": {},
                    "output_type": "display_data"
                }
            ],
            "source": [
                "model = Chapter_01.get_function_model(with_compile=True)\n",
                "history = model.fit(\n",
                "    x=x_train,\n",
                "    y=y_train,\n",
                "    validation_split=0.3,\n",
                "    epochs=50,\n",
                "    batch_size=5000,\n",
                "    callbacks=[callbacks],\n",
                "    verbose=False,\n",
                ")\n",
                "Chapter_01.evaluate(x=x_test, y=y_test, model=model, silent=True)\n",
                "Chapter_01.predict(x=x_test, y=y_test, model=model, silent=True)\n",
                "Common.plot(data=[history], labels=[\"callback\"])"
            ]
        },
        {
            "cell_type": "markdown",
            "metadata": {},
            "source": [
                "### <ins />**4. Custom Callbacks**"
            ]
        },
        {
            "cell_type": "markdown",
            "metadata": {},
            "source": [
                "**Callback Events**\n",
                "\n",
                "| Event | Output |\n",
                "| --- | ---|\n",
                "| on_batch_start |  batch, logs |\n",
                "| on_batch_end |  batch, logs |\n",
                "| on_epoch_start |  epoch, logs |\n",
                "| on_epoch_end |  epoch, logs |\n",
                "| on_train_start | logs |\n",
                "| on_train_end | logs |  \n",
                "   "
            ]
        },
        {
            "cell_type": "code",
            "execution_count": 28,
            "metadata": {},
            "outputs": [],
            "source": [
                "class CustomCallback(keras.callbacks.Callback):\n",
                "    def on_batch_begin(self, batch, logs):\n",
                "        print(\"Batch {} begins\".format(batch + 1))\n",
                "\n",
                "    def on_batch_end(self, batch, logs):\n",
                "        print(\"Batch {} ends\".format(batch + 1))\n",
                "\n",
                "    def on_epoch_begin(self, epoch, logs):\n",
                "        print(\"Epoch {} begins\".format(epoch + 1))\n",
                "\n",
                "    def on_epoch_end(self, epoch, logs):\n",
                "        print(\"Epoch {} ends\".format(epoch + 1))\n",
                "\n",
                "    def on_train_begin(self, logs):\n",
                "        print(\"Train begins\")\n",
                "\n",
                "    def on_train_end(self, logs):\n",
                "        print(\"Train ends\")\n",
                "\n",
                "\n",
                "callbacks = CustomCallback()"
            ]
        },
        {
            "cell_type": "code",
            "execution_count": 29,
            "metadata": {},
            "outputs": [
                {
                    "name": "stdout",
                    "output_type": "stream",
                    "text": [
                        "Train begins\n",
                        "Epoch 1 begins\n",
                        "Batch 1 begins\n",
                        "Batch 1 ends\n",
                        "Batch 2 begins\n",
                        "Batch 2 ends\n",
                        "Batch 3 begins\n",
                        "Batch 3 ends\n",
                        "Batch 4 begins\n",
                        "Batch 4 ends\n",
                        "Epoch 1 ends\n",
                        "Epoch 2 begins\n",
                        "Batch 1 begins\n",
                        "Batch 1 ends\n",
                        "Batch 2 begins\n",
                        "Batch 2 ends\n",
                        "Batch 3 begins\n",
                        "Batch 3 ends\n",
                        "Batch 4 begins\n",
                        "Batch 4 ends\n",
                        "Epoch 2 ends\n",
                        "Train ends\n"
                    ]
                }
            ],
            "source": [
                "model = Chapter_01.get_function_model()\n",
                "history = model.fit(\n",
                "    x=x_train,\n",
                "    y=y_train,\n",
                "    validation_split=0.3,\n",
                "    epochs=2,\n",
                "    batch_size=12000,\n",
                "    callbacks=[callbacks],\n",
                "    verbose=False,\n",
                ")"
            ]
        },
        {
            "cell_type": "markdown",
            "metadata": {},
            "source": [
                "### <ins />**5. Save and Load Model**"
            ]
        },
        {
            "cell_type": "code",
            "execution_count": 30,
            "metadata": {},
            "outputs": [
                {
                    "data": {
                        "text/plain": [
                            "<keras.src.engine.functional.Functional at 0x2f188b4d0>"
                        ]
                    },
                    "execution_count": 30,
                    "metadata": {},
                    "output_type": "execute_result"
                }
            ],
            "source": [
                "filepath = \"../resources/models/tmp/model.keras\"\n",
                "model.save(filepath)\n",
                "keras.models.load_model(filepath)"
            ]
        },
        {
            "cell_type": "markdown",
            "metadata": {},
            "source": [
                "### <ins />**6. TensorBoard**"
            ]
        },
        {
            "cell_type": "code",
            "execution_count": 31,
            "metadata": {},
            "outputs": [
                {
                    "data": {
                        "text/plain": [
                            "<keras.src.callbacks.History at 0x2ddff6dd0>"
                        ]
                    },
                    "execution_count": 31,
                    "metadata": {},
                    "output_type": "execute_result"
                }
            ],
            "source": [
                "# ------------------------------\n",
                "# Callback Tensorboard\n",
                "# ------------------------------\n",
                "model = Chapter_01.get_function_model()\n",
                "Chapter_01.train(\n",
                "    x=x_train,\n",
                "    y=y_train,\n",
                "    model=model,\n",
                "    epochs=10,\n",
                "    batch_size=12000,\n",
                "    callbacks=[keras.callbacks.TensorBoard(log_dir=\"../resources/logs\")],\n",
                ")\n",
                "# ------------------------------\n",
                "# Run Tensorboard (Terminal)\n",
                "# ------------------------------\n",
                "# conda activate env\n",
                "# tensorboard --logdir resources/logs"
            ]
        },
        {
            "cell_type": "markdown",
            "metadata": {},
            "source": [
                "### <ins />**7. Training vs Inference**"
            ]
        },
        {
            "cell_type": "markdown",
            "metadata": {},
            "source": [
                "##### **Trainable weight**\n",
                "- These weights are meant to be updated via backpropagation\n",
                "- E.g. kernels and biases\n",
                "\n",
                "##### **Non-Trainable weight**\n",
                "- These weights are meant to be updated via forwardpropagation\n",
                "- E.g. custom RootMeanSquared metric\n",
                "- E.g. builtin BatchNormalization layer"
            ]
        },
        {
            "cell_type": "markdown",
            "metadata": {},
            "source": [
                "### <ins />**8. Low-level Metrics**"
            ]
        },
        {
            "cell_type": "markdown",
            "metadata": {},
            "source": [
                "1. metric.update_state\n",
                "2. metric.result\n",
                "3. metric.reset_state"
            ]
        },
        {
            "cell_type": "markdown",
            "metadata": {},
            "source": [
                "##### **SparseCategoricalAccuracy**"
            ]
        },
        {
            "cell_type": "code",
            "execution_count": 32,
            "metadata": {},
            "outputs": [
                {
                    "name": "stdout",
                    "output_type": "stream",
                    "text": [
                        "tf.Tensor(\n",
                        "[[1. 0. 0.]\n",
                        " [0. 1. 0.]\n",
                        " [0. 0. 1.]], shape=(3, 3), dtype=float32)\n",
                        "tf.Tensor(1.0, shape=(), dtype=float32)\n"
                    ]
                }
            ],
            "source": [
                "metric = keras.metrics.SparseCategoricalAccuracy()\n",
                "predictions = [[1, 0, 0], [0, 1, 0], [0, 0, 1]]\n",
                "targets = [0, 1, 2]\n",
                "targets_onehot = tf.one_hot(targets, depth=tf.shape(predictions)[1])\n",
                "metric.update_state(targets, predictions)\n",
                "result = metric.result()\n",
                "metric.reset_state()\n",
                "print(targets_onehot)\n",
                "print(result)"
            ]
        },
        {
            "cell_type": "markdown",
            "metadata": {},
            "source": [
                "##### **Mean**"
            ]
        },
        {
            "cell_type": "code",
            "execution_count": 33,
            "metadata": {},
            "outputs": [
                {
                    "name": "stdout",
                    "output_type": "stream",
                    "text": [
                        "tf.Tensor(6.3333335, shape=(), dtype=float32)\n"
                    ]
                }
            ],
            "source": [
                "mean = keras.metrics.Mean()\n",
                "values = [1, 5, 13]\n",
                "mean.update_state(values)\n",
                "result = mean.result()\n",
                "mean.reset_state()\n",
                "print(result)"
            ]
        },
        {
            "cell_type": "markdown",
            "metadata": {},
            "source": [
                ".\n",
                "\n",
                ".\n",
                "\n",
                ".\n",
                "\n",
                "---\n",
                "---\n",
                "---\n",
                "\n",
                ".\n",
                "\n",
                ".\n",
                "\n",
                "."
            ]
        },
        {
            "cell_type": "markdown",
            "metadata": {},
            "source": [
                "---\n",
                "# **Builtin fit with custom train_step method**\n",
                "---"
            ]
        },
        {
            "cell_type": "markdown",
            "metadata": {},
            "source": [
                "### <ins />**1. Custom train_step**\n",
                "\n",
                "- Model with custom train_step\n",
                "- Loss, Metrics, Optimizer are provided by user using model.compile\n",
                "- Custom Loss, Metrics, Optimizer can also be used inside train_step"
            ]
        },
        {
            "cell_type": "code",
            "execution_count": 34,
            "metadata": {},
            "outputs": [],
            "source": [
                "class CustomModel(keras.Model):\n",
                "    def train_step(self, data):\n",
                "        inputs, targets = data\n",
                "        # ---------------------------------\n",
                "        # Forward Propagation\n",
                "        # ---------------------------------\n",
                "        with tf.GradientTape() as tape:\n",
                "            # self is used as model itself is a class\n",
                "            predictions = self(inputs, training=True)\n",
                "            losses = self.compiled_loss(targets, predictions)\n",
                "        # ---------------------------------\n",
                "        # Backward Propagation\n",
                "        # ---------------------------------\n",
                "        gradients = tape.gradient(losses, model.trainable_weights)\n",
                "        self.optimizer.apply_gradients(zip(gradients, model.trainable_weights))\n",
                "        # ---------------------------------\n",
                "        # Update Metrics\n",
                "        # ---------------------------------\n",
                "        self.compiled_metrics.update_state(targets, predictions)\n",
                "        return {metric.name: metric.result() for metric in self.metrics}"
            ]
        },
        {
            "cell_type": "markdown",
            "metadata": {},
            "source": [
                "### <ins />**2. Model**"
            ]
        },
        {
            "cell_type": "code",
            "execution_count": 35,
            "metadata": {},
            "outputs": [],
            "source": [
                "L_inputs = keras.layers.Input(shape=(28 * 28,), name=\"Input\")\n",
                "L_features = keras.layers.Dense(units=512, activation=tf.nn.relu, name=\"Dense_Feature\")(L_inputs)\n",
                "L_features = keras.layers.Dropout(rate=0.01, name=\"Dropout_Feature\")(L_features)\n",
                "L_outputs = keras.layers.Dense(units=10, activation=tf.nn.softmax, name=\"Output\")(L_features)\n",
                "model = CustomModel(inputs=L_inputs, outputs=L_outputs)"
            ]
        },
        {
            "cell_type": "markdown",
            "metadata": {},
            "source": [
                "### <ins />**3. Training**"
            ]
        },
        {
            "cell_type": "code",
            "execution_count": 36,
            "metadata": {},
            "outputs": [
                {
                    "name": "stderr",
                    "output_type": "stream",
                    "text": [
                        "WARNING:absl:At this time, the v2.11+ optimizer `tf.keras.optimizers.RMSprop` runs slowly on M1/M2 Macs, please use the legacy Keras optimizer instead, located at `tf.keras.optimizers.legacy.RMSprop`.\n"
                    ]
                },
                {
                    "name": "stdout",
                    "output_type": "stream",
                    "text": [
                        "Epoch 1/2\n",
                        "1875/1875 [==============================] - 5s 2ms/step - loss: 0.2020 - sparse_categorical_accuracy: 0.9400\n",
                        "Epoch 2/2\n",
                        "1875/1875 [==============================] - 4s 2ms/step - loss: 0.0867 - sparse_categorical_accuracy: 0.9737\n",
                        "{'loss': [0.20196466147899628, 0.08670051395893097], 'sparse_categorical_accuracy': [0.9399666786193848, 0.9737333059310913]}\n"
                    ]
                }
            ],
            "source": [
                "(x_train, y_train), (x_test, y_test) = Chapter_01.prepare()\n",
                "model.compile(\n",
                "    metrics=[keras.metrics.SparseCategoricalAccuracy()],\n",
                "    loss=keras.losses.SparseCategoricalCrossentropy(),\n",
                "    optimizer=keras.optimizers.RMSprop(),\n",
                ")\n",
                "history = model.fit(x=x_train, y=y_train, epochs=2)\n",
                "print(history.history)"
            ]
        },
        {
            "cell_type": "markdown",
            "metadata": {},
            "source": [
                "---\n",
                "# **Custom fit, evaluate, predict methods**\n",
                "---"
            ]
        },
        {
            "cell_type": "markdown",
            "metadata": {},
            "source": [
                "model.fit method works only with supervised learning"
            ]
        },
        {
            "cell_type": "markdown",
            "metadata": {},
            "source": [
                "### <ins />**1. Tensorflow function decorator**\n",
                "\n",
                "| Change | Effect |\n",
                "| --- | --- |\n",
                "| Without tf.function | Eager execution. Slow |\n",
                "| With tf.function | Graph execution. Fast |\n",
                "| Note | During debugging, use without tf.function |\n"
            ]
        },
        {
            "cell_type": "markdown",
            "metadata": {},
            "source": [
                "### <ins />**2. Dataset**"
            ]
        },
        {
            "cell_type": "code",
            "execution_count": 37,
            "metadata": {},
            "outputs": [],
            "source": [
                "(x_train, y_train), (x_test, y_test) = Chapter_01.prepare()\n",
                "train_dataset = tf.data.Dataset.from_tensor_slices(tensors=(x_train, y_train)).batch(batch_size=128)\n",
                "epochs = 3"
            ]
        },
        {
            "cell_type": "markdown",
            "metadata": {},
            "source": [
                "### <ins />**3. Model**"
            ]
        },
        {
            "cell_type": "code",
            "execution_count": 38,
            "metadata": {},
            "outputs": [],
            "source": [
                "L_inputs = keras.layers.Input(shape=(28 * 28,), name=\"Input\")\n",
                "L_features = keras.layers.Dense(units=512, activation=tf.nn.relu, name=\"Dense_Feature\")(L_inputs)\n",
                "L_features = keras.layers.Dropout(rate=0.01, name=\"Dropout_Feature\")(L_features)\n",
                "L_outputs = keras.layers.Dense(units=10, activation=tf.nn.softmax, name=\"Output\")(L_features)\n",
                "model = keras.Model(inputs=L_inputs, outputs=L_outputs)"
            ]
        },
        {
            "cell_type": "markdown",
            "metadata": {},
            "source": [
                "### <ins />**4. Loss, Metrics, Optimizer**"
            ]
        },
        {
            "cell_type": "code",
            "execution_count": 39,
            "metadata": {},
            "outputs": [
                {
                    "name": "stderr",
                    "output_type": "stream",
                    "text": [
                        "WARNING:absl:At this time, the v2.11+ optimizer `tf.keras.optimizers.RMSprop` runs slowly on M1/M2 Macs, please use the legacy Keras optimizer instead, located at `tf.keras.optimizers.legacy.RMSprop`.\n"
                    ]
                }
            ],
            "source": [
                "loss_fn = keras.losses.SparseCategoricalCrossentropy()\n",
                "metrics = [keras.metrics.SparseCategoricalAccuracy()]\n",
                "optimizer = keras.optimizers.RMSprop()\n",
                "mean_metric = keras.metrics.Mean()"
            ]
        },
        {
            "cell_type": "markdown",
            "metadata": {},
            "source": [
                "### <ins />**5. Custom train step**"
            ]
        },
        {
            "cell_type": "code",
            "execution_count": 40,
            "metadata": {},
            "outputs": [],
            "source": [
                "@tf.function\n",
                "def train_step(inputs, targets):\n",
                "    # ---------------------------------\n",
                "    # Forward Propagation\n",
                "    # ---------------------------------\n",
                "    with tf.GradientTape() as tape:\n",
                "        predictions = model(inputs, training=True)\n",
                "        losses = loss_fn(targets, predictions)\n",
                "    # ---------------------------------\n",
                "    # Backward Propagation\n",
                "    # ---------------------------------\n",
                "    gradients = tape.gradient(losses, model.trainable_weights)\n",
                "    optimizer.apply_gradients(zip(gradients, model.trainable_weights))\n",
                "    # ---------------------------------\n",
                "    # Update Metrics\n",
                "    # ---------------------------------\n",
                "    logs = {}\n",
                "    for metric in metrics:\n",
                "        metric.update_state(targets, predictions)\n",
                "        logs[metric.name] = metric.result()\n",
                "    mean_metric.update_state(losses)\n",
                "    logs[\"loss\"] = mean_metric.result()\n",
                "    # ---------------------------------\n",
                "    # Update Logs\n",
                "    # ---------------------------------\n",
                "    return logs\n",
                "\n",
                "\n",
                "def reset_metrics():\n",
                "    for metric in metrics:\n",
                "        metric.reset_state()\n",
                "    mean_metric.reset_state()"
            ]
        },
        {
            "cell_type": "markdown",
            "metadata": {},
            "source": [
                "### <ins />**6. Custom fit**"
            ]
        },
        {
            "cell_type": "code",
            "execution_count": 41,
            "metadata": {},
            "outputs": [
                {
                    "name": "stdout",
                    "output_type": "stream",
                    "text": [
                        "Epoch: 0\n",
                        "Log[sparse_categorical_accuracy]: 0.9235000014305115\n",
                        "Log[loss]: 0.266150563955307\n",
                        "Epoch: 1\n",
                        "Log[sparse_categorical_accuracy]: 0.9687833189964294\n",
                        "Log[loss]: 0.10751795768737793\n",
                        "Epoch: 2\n",
                        "Log[sparse_categorical_accuracy]: 0.979449987411499\n",
                        "Log[loss]: 0.0700433999300003\n",
                        "fit: 4.4221986670ms\n"
                    ]
                }
            ],
            "source": [
                "@Common.timer\n",
                "def fit():\n",
                "    for epoch in range(epochs):\n",
                "        reset_metrics()\n",
                "        for x_train, y_train in train_dataset:\n",
                "            logs = train_step(x_train, y_train)\n",
                "        print(\"Epoch: {}\".format(epoch))\n",
                "        for key, value in logs.items():\n",
                "            print(\"Log[{}]: {}\".format(key, value))\n",
                "\n",
                "\n",
                "fit()"
            ]
        },
        {
            "cell_type": "markdown",
            "metadata": {},
            "source": [
                "### <ins />**7. Custom test step**"
            ]
        },
        {
            "cell_type": "code",
            "execution_count": 42,
            "metadata": {},
            "outputs": [],
            "source": [
                "@tf.function\n",
                "def test_step(inputs, targets):\n",
                "    # ---------------------------------\n",
                "    # Forward Propagation\n",
                "    # ---------------------------------\n",
                "    predictions = model(inputs, training=False)\n",
                "    losses = loss_fn(targets, predictions)\n",
                "    # ---------------------------------\n",
                "    # Update Metrics\n",
                "    # ---------------------------------\n",
                "    logs = {}\n",
                "    for metric in metrics:\n",
                "        metric.update_state(targets, predictions)\n",
                "        logs[\"val_\" + metric.name] = metric.result()\n",
                "    mean_metric.update_state(losses)\n",
                "    logs[\"val_loss\"] = mean_metric.result()\n",
                "    return logs"
            ]
        },
        {
            "cell_type": "markdown",
            "metadata": {},
            "source": [
                "### <ins />**8. Custom evaluate**"
            ]
        },
        {
            "cell_type": "code",
            "execution_count": 43,
            "metadata": {},
            "outputs": [
                {
                    "name": "stdout",
                    "output_type": "stream",
                    "text": [
                        "val_sparse_categorical_accuracy: 0.9635999798774719\n",
                        "val_loss: 0.11420495808124542\n",
                        "val_sparse_categorical_accuracy: 0.9739999771118164\n",
                        "val_loss: 0.08544985949993134\n",
                        "evaluate: 0.1194659170ms\n"
                    ]
                }
            ],
            "source": [
                "@Common.timer\n",
                "def evaluate():\n",
                "    test_dataset = tf.data.Dataset.from_tensor_slices(tensors=(x_test, y_test)).batch(batch_size=5000)\n",
                "    reset_metrics()\n",
                "    for x, y in test_dataset:\n",
                "        logs = test_step(x, y)\n",
                "        for key, value in logs.items():\n",
                "            print(\"{}: {}\".format(key, value))\n",
                "\n",
                "\n",
                "evaluate()"
            ]
        },
        {
            "cell_type": "markdown",
            "metadata": {},
            "source": [
                "---\n",
                "# **Summary**\n",
                "---"
            ]
        },
        {
            "cell_type": "code",
            "execution_count": 44,
            "metadata": {},
            "outputs": [
                {
                    "name": "stdout",
                    "output_type": "stream",
                    "text": [
                        "Model: \"model_9\"\n",
                        "_________________________________________________________________\n",
                        " Layer (type)                Output Shape              Param #   \n",
                        "=================================================================\n",
                        " Input (InputLayer)          [(None, 784)]             0         \n",
                        "                                                                 \n",
                        " Mixing (Dense)              (None, 64)                50240     \n",
                        "                                                                 \n",
                        " Dropout (Dropout)           (None, 64)                0         \n",
                        "                                                                 \n",
                        " Output (Dense)              (None, 10)                650       \n",
                        "                                                                 \n",
                        "=================================================================\n",
                        "Total params: 50890 (198.79 KB)\n",
                        "Trainable params: 50890 (198.79 KB)\n",
                        "Non-trainable params: 0 (0.00 Byte)\n",
                        "_________________________________________________________________\n"
                    ]
                },
                {
                    "name": "stderr",
                    "output_type": "stream",
                    "text": [
                        "WARNING:absl:At this time, the v2.11+ optimizer `tf.keras.optimizers.RMSprop` runs slowly on M1/M2 Macs, please use the legacy Keras optimizer instead, located at `tf.keras.optimizers.legacy.RMSprop`.\n"
                    ]
                },
                {
                    "name": "stdout",
                    "output_type": "stream",
                    "text": [
                        "INFO:tensorflow:Assets written to: keras.model/assets\n"
                    ]
                },
                {
                    "name": "stderr",
                    "output_type": "stream",
                    "text": [
                        "INFO:tensorflow:Assets written to: keras.model/assets\n"
                    ]
                },
                {
                    "name": "stdout",
                    "output_type": "stream",
                    "text": [
                        "INFO:tensorflow:Assets written to: keras.model/assets\n"
                    ]
                },
                {
                    "name": "stderr",
                    "output_type": "stream",
                    "text": [
                        "INFO:tensorflow:Assets written to: keras.model/assets\n",
                        "WARNING:absl:At this time, the v2.11+ optimizer `tf.keras.optimizers.RMSprop` runs slowly on M1/M2 Macs, please use the legacy Keras optimizer instead, located at `tf.keras.optimizers.legacy.RMSprop`.\n"
                    ]
                }
            ],
            "source": [
                "class CustomCallback(keras.callbacks.Callback):\n",
                "    def on_batch_begin(self, batch_index, logs):\n",
                "        pass\n",
                "\n",
                "    def on_batch_end(self, batch_index, logs):\n",
                "        pass\n",
                "\n",
                "    def on_epoch_begin(self, epoch_index, logs):\n",
                "        pass\n",
                "\n",
                "    def on_epoch_end(self, epoch_index, logs):\n",
                "        pass\n",
                "\n",
                "    def on_train_begin(self, logs):\n",
                "        pass\n",
                "\n",
                "    def on_train_end(self, logs):\n",
                "        pass\n",
                "\n",
                "\n",
                "(x_train, y_train), (x_test, y_test) = Chapter_01.prepare()\n",
                "inputs = keras.layers.Input(shape=(28 * 28,), name=\"Input\")\n",
                "features = keras.layers.Dense(units=64, activation=tf.nn.relu, name=\"Mixing\")(inputs)\n",
                "features = keras.layers.Dropout(rate=0.5, name=\"Dropout\")(features)\n",
                "outputs = keras.layers.Dense(units=10, activation=tf.nn.softmax, name=\"Output\")(features)\n",
                "\n",
                "callbacks = [\n",
                "    keras.callbacks.EarlyStopping(monitor=\"val_loss\", patience=2),\n",
                "    keras.callbacks.ModelCheckpoint(filepath=\"keras.model\", monitor=\"val_loss\", save_only_best=2),\n",
                "    keras.callbacks.TensorBoard(log_dir=\"../resources/logs\"),\n",
                "    CustomCallback(),\n",
                "]\n",
                "\n",
                "model = keras.Model(inputs=inputs, outputs=outputs)\n",
                "model.summary()\n",
                "keras.utils.plot_model(model, \"../resources/images/tmp/model.png\", show_shapes=True)\n",
                "model.compile(\n",
                "    loss=keras.losses.SparseCategoricalCrossentropy(),\n",
                "    metrics=[keras.metrics.SparseCategoricalAccuracy()],\n",
                "    optimizer=keras.optimizers.RMSprop(learning_rate=0.001),\n",
                ")\n",
                "model.fit(\n",
                "    x=x_train,\n",
                "    y=y_train,\n",
                "    epochs=2,\n",
                "    batch_size=512,\n",
                "    validation_split=0.3,\n",
                "    callbacks=[callbacks],\n",
                "    verbose=False,\n",
                ")\n",
                "model.evaluate(x=x_test, y=y_test, verbose=False)\n",
                "y_pred = model.predict(x=x_test, verbose=False)\n",
                "model.save(\"../resources/models/tmp/model.keras\")\n",
                "model = keras.models.load_model(\"../resources/models/tmp/model.keras\")"
            ]
        },
        {
            "cell_type": "markdown",
            "metadata": {},
            "source": [
                "---\n",
                "---\n",
                "---"
            ]
        }
    ],
    "metadata": {
        "kernelspec": {
            "display_name": "projects",
            "language": "python",
            "name": "python3"
        },
        "language_info": {
            "codemirror_mode": {
                "name": "ipython",
                "version": 3
            },
            "file_extension": ".py",
            "mimetype": "text/x-python",
            "name": "python",
            "nbconvert_exporter": "python",
            "pygments_lexer": "ipython3",
            "version": "3.11.0"
        }
    },
    "nbformat": 4,
    "nbformat_minor": 2
}
