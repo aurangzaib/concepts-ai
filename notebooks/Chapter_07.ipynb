{
    "cells": [
        {
            "cell_type": "markdown",
            "metadata": {},
            "source": [
                "---\n",
                "**Chapter 07**\n",
                "# **Working with Keras: A deep dive**\n",
                "---"
            ]
        },
        {
            "cell_type": "code",
            "execution_count": 59,
            "metadata": {},
            "outputs": [
                {
                    "data": {
                        "text/plain": [
                            "<module 'modules.Common' from '/Users/siddiqui/Projects/concepts/concepts-ai/notebooks/../modules/Common.py'>"
                        ]
                    },
                    "execution_count": 59,
                    "metadata": {},
                    "output_type": "execute_result"
                }
            ],
            "source": [
                "# System Libraries\n",
                "from tensorflow import keras\n",
                "import tensorflow as tf\n",
                "import numpy as np\n",
                "import importlib\n",
                "import sys\n",
                "\n",
                "sys.path.append(\"../\")\n",
                "\n",
                "# User Libraries\n",
                "from modules import Chapter_01\n",
                "from modules import Common\n",
                "\n",
                "# Reload Libraries\n",
                "importlib.reload(Chapter_01)\n",
                "importlib.reload(Common)"
            ]
        },
        {
            "cell_type": "markdown",
            "metadata": {},
            "source": [
                "---\n",
                "# **Graphviz**\n",
                "---"
            ]
        },
        {
            "cell_type": "markdown",
            "metadata": {},
            "source": [
                "| Step |Detail |\n",
                "| --- | ---|\n",
                "| Step 01 | pip install pydot |\n",
                "| Step 02 (Linux) | sudo apt install graphviz |\n",
                "| Step 02 (Mac)   | brew install graphviz |\n",
                "| Step 03 (Linux) | pip install pygraphviz |\n",
                "| Step 03 (Mac) | [pygraphviz on M2 Mac](https://github.com/pygraphviz/pygraphviz/issues/398#issuecomment-1516213484) |\n"
            ]
        },
        {
            "cell_type": "markdown",
            "metadata": {},
            "source": [
                "---\n",
                "# **Model Pattern — Keras.Sequential**\n",
                "---"
            ]
        },
        {
            "cell_type": "markdown",
            "metadata": {},
            "source": [
                "### <ins />**1. Single Input/Output**"
            ]
        },
        {
            "cell_type": "markdown",
            "metadata": {},
            "source": [
                "**Using build**"
            ]
        },
        {
            "cell_type": "code",
            "execution_count": null,
            "metadata": {},
            "outputs": [],
            "source": [
                "model = keras.Sequential(name=\"example_sequential_api_1\")\n",
                "model.add(keras.layers.Dense(units=64, activation=tf.nn.relu))\n",
                "model.add(keras.layers.Dense(units=1, activation=tf.nn.sigmoid))\n",
                "model.build(input_shape=(None, 3))  # N batches, 3 features\n",
                "model.summary()"
            ]
        },
        {
            "cell_type": "markdown",
            "metadata": {},
            "source": [
                "**Using Input**"
            ]
        },
        {
            "cell_type": "code",
            "execution_count": null,
            "metadata": {},
            "outputs": [],
            "source": [
                "model = keras.Sequential()\n",
                "model.add(keras.layers.Input(shape=((3,)), name=\"I_Input\"))\n",
                "model.add(keras.layers.Dense(units=64, activation=tf.nn.relu, name=\"Feature\"))\n",
                "model.add(keras.layers.Dense(units=1, activation=tf.nn.sigmoid, name=\"O_Output\"))\n",
                "model.summary()\n",
                "keras.utils.plot_model(model, \"../resources/tmp/single_io_model_sequential.png\", show_shapes=True)"
            ]
        },
        {
            "cell_type": "markdown",
            "metadata": {},
            "source": [
                "**Difference between layer and model**"
            ]
        },
        {
            "cell_type": "markdown",
            "metadata": {},
            "source": [
                "Model has fit / evaluate / predict / save methods"
            ]
        },
        {
            "cell_type": "markdown",
            "metadata": {},
            "source": [
                "### <ins />**2. Multi Input/Output**"
            ]
        },
        {
            "cell_type": "markdown",
            "metadata": {},
            "source": [
                "> Sequential API works only with single input/output"
            ]
        },
        {
            "cell_type": "markdown",
            "metadata": {},
            "source": [
                "---\n",
                "# **Model Pattern — Keras.Model**\n",
                "---"
            ]
        },
        {
            "cell_type": "markdown",
            "metadata": {},
            "source": [
                "### <ins />**1. Single Input/Output**"
            ]
        },
        {
            "cell_type": "code",
            "execution_count": null,
            "metadata": {},
            "outputs": [],
            "source": [
                "inputs = keras.layers.Input(shape=((3,)), name=\"I_Input\")\n",
                "features = keras.layers.Dense(units=64, activation=tf.nn.relu, name=\"Feature\")(inputs)\n",
                "outputs = keras.layers.Dense(units=1, activation=tf.nn.sigmoid, name=\"O_Output\")(features)\n",
                "model = keras.Model(inputs=inputs, outputs=outputs)\n",
                "model.summary()\n",
                "keras.utils.plot_model(model, \"../resources/tmp/single_io_model_functional.png\", show_shapes=True)"
            ]
        },
        {
            "cell_type": "markdown",
            "metadata": {},
            "source": [
                "### <ins />**2. Dataset**"
            ]
        },
        {
            "cell_type": "markdown",
            "metadata": {},
            "source": [
                "**Description:**\n",
                "- Customer ticket management system\n",
                "\n",
                "**Input:**\n",
                "- Title of ticket\n",
                "- Text of ticket\n",
                "- Tag of ticket\n",
                "\n",
                "**Output:**\n",
                "- Priority of ticket\n",
                "- Department of ticket\n",
                "- Difficulty of ticket"
            ]
        },
        {
            "cell_type": "code",
            "execution_count": null,
            "metadata": {},
            "outputs": [],
            "source": [
                "# ------------------------------\n",
                "# Shapes\n",
                "# ------------------------------\n",
                "num_samples = 1280\n",
                "num_words = 1000\n",
                "num_tags = 10\n",
                "num_priorities = 1\n",
                "num_departments = 4\n",
                "num_difficulties = 3\n",
                "# ------------------------------\n",
                "# Inputs\n",
                "# ------------------------------\n",
                "I_title = np.random.randint(low=0, high=2, size=(num_samples, num_words))\n",
                "I_text = np.random.randint(low=0, high=2, size=(num_samples, num_words))\n",
                "I_tag = np.random.randint(low=0, high=2, size=(num_samples, num_tags))\n",
                "# ------------------------------\n",
                "# Outputs\n",
                "# ------------------------------\n",
                "O_priority = np.random.random(size=(num_samples, num_priorities))\n",
                "O_department = np.random.randint(low=0, high=2, size=(num_samples, num_departments))\n",
                "O_difficulty = np.random.randint(low=0, high=2, size=(num_samples, num_difficulties))"
            ]
        },
        {
            "cell_type": "markdown",
            "metadata": {},
            "source": [
                "### <ins />**3. Model Layers**"
            ]
        },
        {
            "cell_type": "code",
            "execution_count": null,
            "metadata": {},
            "outputs": [],
            "source": [
                "# ------------------------------\n",
                "# Inputs\n",
                "# ------------------------------\n",
                "L_title = keras.layers.Input(shape=(num_words,), name=\"I_title\")\n",
                "L_text = keras.layers.Input(shape=(num_words,), name=\"I_text\")\n",
                "L_tag = keras.layers.Input(shape=(num_tags,), name=\"I_tag\")\n",
                "inputs = keras.layers.Concatenate(name=\"Mixing\")([L_title, L_text, L_tag])\n",
                "# ------------------------------\n",
                "# Features\n",
                "# ------------------------------\n",
                "features = keras.layers.Dense(units=64, activation=tf.nn.relu, name=\"Feature\")(inputs)\n",
                "# ------------------------------\n",
                "# Outputs\n",
                "# ------------------------------\n",
                "L_priority = keras.layers.Dense(units=num_priorities, activation=tf.nn.sigmoid, name=\"O_priority\")(features)\n",
                "L_department = keras.layers.Dense(units=num_departments, activation=tf.nn.softmax, name=\"O_department\")(features)"
            ]
        },
        {
            "cell_type": "markdown",
            "metadata": {},
            "source": [
                "### <ins />**4. Model Creation**"
            ]
        },
        {
            "cell_type": "code",
            "execution_count": null,
            "metadata": {},
            "outputs": [],
            "source": [
                "model = keras.Model(inputs=[L_title, L_text, L_tag], outputs=[L_priority, L_department])"
            ]
        },
        {
            "cell_type": "markdown",
            "metadata": {},
            "source": [
                "### <ins />**5. Model Summary**"
            ]
        },
        {
            "cell_type": "code",
            "execution_count": null,
            "metadata": {},
            "outputs": [],
            "source": [
                "model.summary()"
            ]
        },
        {
            "cell_type": "markdown",
            "metadata": {},
            "source": [
                "### <ins />**7. Model Graph**"
            ]
        },
        {
            "cell_type": "code",
            "execution_count": null,
            "metadata": {},
            "outputs": [],
            "source": [
                "keras.utils.plot_model(model, \"../resources/tmp/multi_io_model_functional.png\", show_shapes=True)"
            ]
        },
        {
            "cell_type": "markdown",
            "metadata": {},
            "source": [
                "### <ins />**8. Model Feature Extraction**"
            ]
        },
        {
            "cell_type": "markdown",
            "metadata": {},
            "source": [
                "**Problem:**\n",
                "- Add a new output in the model\n",
                "- Do not change original model\n",
                "\n",
                "**Solution:**\n",
                "- Extract features from existing model\n",
                "- Create new model using extracted features"
            ]
        },
        {
            "cell_type": "code",
            "execution_count": null,
            "metadata": {},
            "outputs": [],
            "source": [
                "# ------------------------------\n",
                "# Features\n",
                "# ------------------------------\n",
                "features = model.layers[4].output\n",
                "L_difficulty = keras.layers.Dense(units=num_difficulties, activation=tf.nn.softmax, name=\"O_difficulty\")(features)\n",
                "full_model = keras.Model(inputs=[L_title, L_text, L_tag], outputs=[L_priority, L_department, L_difficulty])\n",
                "full_model.summary()\n",
                "keras.utils.plot_model(full_model, \"../resources/tmp/multi_io_model_functional.png\", show_shapes=True)"
            ]
        },
        {
            "cell_type": "markdown",
            "metadata": {},
            "source": [
                "### <ins />**9. Model Configuration**"
            ]
        },
        {
            "cell_type": "code",
            "execution_count": null,
            "metadata": {},
            "outputs": [],
            "source": [
                "# ------------------------------\n",
                "# Array notation can also be used\n",
                "# ------------------------------\n",
                "full_model.compile(\n",
                "    optimizer=keras.optimizers.legacy.RMSprop(),\n",
                "    loss={\n",
                "        \"O_priority\": keras.losses.MeanSquaredError(),\n",
                "        \"O_department\": keras.losses.CategoricalCrossentropy(),\n",
                "        \"O_difficulty\": keras.losses.CategoricalCrossentropy(),\n",
                "    },\n",
                "    metrics={\n",
                "        \"O_priority\": keras.metrics.MeanAbsoluteError(),\n",
                "        \"O_department\": keras.metrics.CategoricalAccuracy(),\n",
                "        \"O_difficulty\": keras.metrics.CategoricalAccuracy(),\n",
                "    },\n",
                ")"
            ]
        },
        {
            "cell_type": "markdown",
            "metadata": {},
            "source": [
                "### <ins />**10. Model Training**"
            ]
        },
        {
            "cell_type": "code",
            "execution_count": null,
            "metadata": {},
            "outputs": [],
            "source": [
                "epochs = 1\n",
                "history = full_model.fit(\n",
                "    x={\n",
                "        \"I_title\": I_title,\n",
                "        \"I_text\": I_text,\n",
                "        \"I_tag\": I_tag,\n",
                "    },\n",
                "    y={\n",
                "        \"O_priority\": O_priority,\n",
                "        \"O_department\": O_department,\n",
                "        \"O_difficulty\": O_difficulty,\n",
                "    },\n",
                "    epochs=epochs,\n",
                "    verbose=False,\n",
                ")"
            ]
        },
        {
            "cell_type": "markdown",
            "metadata": {},
            "source": [
                "### <ins />**11. Model Evaluation**"
            ]
        },
        {
            "cell_type": "code",
            "execution_count": null,
            "metadata": {},
            "outputs": [],
            "source": [
                "full_model.evaluate(\n",
                "    x={\n",
                "        \"I_title\": I_title,\n",
                "        \"I_text\": I_text,\n",
                "        \"I_tag\": I_tag,\n",
                "    },\n",
                "    y={\n",
                "        \"O_priority\": O_priority,\n",
                "        \"O_department\": O_department,\n",
                "        \"O_difficulty\": O_difficulty,\n",
                "    },\n",
                "    verbose=False,\n",
                ")"
            ]
        },
        {
            "cell_type": "markdown",
            "metadata": {},
            "source": [
                "### <ins />**12. Model Prediction**"
            ]
        },
        {
            "cell_type": "code",
            "execution_count": null,
            "metadata": {},
            "outputs": [],
            "source": [
                "P_priority, P_department, P_difficulty = full_model.predict(\n",
                "    x={\n",
                "        \"I_title\": I_title,\n",
                "        \"I_text\": I_text,\n",
                "        \"I_tag\": I_tag,\n",
                "    },\n",
                "    verbose=False,\n",
                ")"
            ]
        },
        {
            "cell_type": "markdown",
            "metadata": {},
            "source": [
                "---\n",
                "# **Model Pattern — Subclass Keras.Model**\n",
                "---"
            ]
        },
        {
            "cell_type": "markdown",
            "metadata": {},
            "source": [
                "### <ins />**1. Model Subclass**"
            ]
        },
        {
            "cell_type": "code",
            "execution_count": null,
            "metadata": {},
            "outputs": [],
            "source": [
                "class MyClass(keras.Model):\n",
                "    # ------------------------------\n",
                "    # Define Layers\n",
                "    # ------------------------------\n",
                "    def __init__(self):\n",
                "        super().__init__()\n",
                "        self.concat_layer = keras.layers.Concatenate()\n",
                "        self.mixing_layer = keras.layers.Dense(units=64, activation=tf.nn.relu)\n",
                "        self.priority_scorer = keras.layers.Dense(units=num_priorities, activation=tf.nn.sigmoid)\n",
                "        self.department_classifier = keras.layers.Dense(units=num_departments, activation=tf.nn.softmax)\n",
                "\n",
                "    # ------------------------------\n",
                "    # Define Forward Pass (Prediction)\n",
                "    # ------------------------------\n",
                "    def call(self, inputs):\n",
                "        title, text, tag = inputs\n",
                "        features = self.concat_layer([title, text, tag])\n",
                "        features = self.mixing_layer(features)\n",
                "        P_priority = self.priority_scorer(features)\n",
                "        P_department = self.department_classifier(features)\n",
                "        return P_priority, P_department"
            ]
        },
        {
            "cell_type": "markdown",
            "metadata": {},
            "source": [
                "### <ins />**2. Model Creation**"
            ]
        },
        {
            "cell_type": "code",
            "execution_count": null,
            "metadata": {},
            "outputs": [],
            "source": [
                "subclass_model = MyClass()"
            ]
        },
        {
            "cell_type": "markdown",
            "metadata": {},
            "source": [
                "### <ins />**3. Model Configuration**"
            ]
        },
        {
            "cell_type": "code",
            "execution_count": null,
            "metadata": {},
            "outputs": [],
            "source": [
                "subclass_model.compile(\n",
                "    optimizer=keras.optimizers.legacy.RMSprop(),\n",
                "    loss=[keras.losses.MeanSquaredError(), keras.losses.CategoricalCrossentropy()],\n",
                "    metrics=[keras.metrics.MeanAbsoluteError(), keras.metrics.CategoricalAccuracy()],\n",
                ")"
            ]
        },
        {
            "cell_type": "markdown",
            "metadata": {},
            "source": [
                "### <ins />**4. Model Training**"
            ]
        },
        {
            "cell_type": "code",
            "execution_count": null,
            "metadata": {},
            "outputs": [],
            "source": [
                "epochs = 1\n",
                "history = subclass_model.fit(\n",
                "    x=[I_title, I_text, I_tag],\n",
                "    y=[O_priority, O_department],\n",
                "    epochs=epochs,\n",
                "    verbose=False,\n",
                ")"
            ]
        },
        {
            "cell_type": "markdown",
            "metadata": {},
            "source": [
                "### <ins />**5. Model Evaluation**"
            ]
        },
        {
            "cell_type": "code",
            "execution_count": null,
            "metadata": {},
            "outputs": [],
            "source": [
                "subclass_model.evaluate(\n",
                "    x=[I_title, I_text, I_tag],\n",
                "    y=[O_priority, O_department],\n",
                "    verbose=False,\n",
                ")"
            ]
        },
        {
            "cell_type": "markdown",
            "metadata": {},
            "source": [
                "### <ins />**6. Model Prediction**"
            ]
        },
        {
            "cell_type": "code",
            "execution_count": null,
            "metadata": {},
            "outputs": [],
            "source": [
                "subclass_model.predict([I_title, I_text, I_tag])"
            ]
        },
        {
            "cell_type": "markdown",
            "metadata": {},
            "source": [
                "### <ins />**7. Model Summary**"
            ]
        },
        {
            "cell_type": "code",
            "execution_count": null,
            "metadata": {},
            "outputs": [],
            "source": [
                "subclass_model.summary()"
            ]
        },
        {
            "cell_type": "markdown",
            "metadata": {},
            "source": [
                "### <ins />**8. Model Graph**"
            ]
        },
        {
            "cell_type": "code",
            "execution_count": null,
            "metadata": {},
            "outputs": [],
            "source": [
                "keras.utils.plot_model(subclass_model, \"../resources/tmp/multi_io_model_subclass.png\", show_shapes=True)"
            ]
        },
        {
            "cell_type": "markdown",
            "metadata": {},
            "source": [
                "### <ins />**9. Disadvantages**"
            ]
        },
        {
            "cell_type": "markdown",
            "metadata": {},
            "source": [
                "- Summary does not work completely\n",
                "- Graph (plot_model) does not work\n",
                "- Forward pass is a black box\n",
                "- More boilerplate code required\n",
                "- Bigger error surface area\n",
                "- More debugging required\n"
            ]
        },
        {
            "cell_type": "markdown",
            "metadata": {},
            "source": [
                "---\n",
                "# **Mixing Module Patterns**\n",
                "---"
            ]
        },
        {
            "cell_type": "markdown",
            "metadata": {},
            "source": [
                "### <ins />**1. Functional model including Subclass model**"
            ]
        },
        {
            "cell_type": "markdown",
            "metadata": {},
            "source": [
                "### <ins />**2. Subclass model including Functional model**"
            ]
        },
        {
            "cell_type": "markdown",
            "metadata": {},
            "source": [
                "### <ins />**3. Conclusion**"
            ]
        },
        {
            "cell_type": "markdown",
            "metadata": {},
            "source": [
                "- Subclass layers with functional model provides development flexibility and simplicity"
            ]
        },
        {
            "cell_type": "markdown",
            "metadata": {},
            "source": [
                "---\n",
                "# **Builtin training and evaluation loops**\n",
                "---"
            ]
        },
        {
            "cell_type": "markdown",
            "metadata": {},
            "source": [
                "### <ins />**1. Mnist using Functional model**"
            ]
        },
        {
            "cell_type": "code",
            "execution_count": 29,
            "metadata": {},
            "outputs": [
                {
                    "name": "stdout",
                    "output_type": "stream",
                    "text": [
                        "\n",
                        "Ground:  7\n",
                        "Prediction:  7\n",
                        "Confidence:  0.9999745\n",
                        "\n",
                        "Ground:  2\n",
                        "Prediction:  2\n",
                        "Confidence:  0.99999547\n",
                        "\n",
                        "Ground:  1\n",
                        "Prediction:  1\n",
                        "Confidence:  0.99740535\n",
                        "\n",
                        "Ground:  0\n",
                        "Prediction:  0\n",
                        "Confidence:  0.9997292\n",
                        "\n",
                        "Ground:  4\n",
                        "Prediction:  4\n",
                        "Confidence:  0.9616187\n"
                    ]
                }
            ],
            "source": [
                "(x_train, y_train), (x_test, y_test) = Chapter_01.prepare()\n",
                "model = Chapter_01.get_function_model()\n",
                "history = Chapter_01.train(x=x_train, y=y_train, epoch=2, model=model)\n",
                "Chapter_01.evaluate(x=x_test, y=y_test, model=model, silent=True)\n",
                "Chapter_01.predict(x=x_test, y=y_test, model=model, silent=True)"
            ]
        },
        {
            "cell_type": "markdown",
            "metadata": {},
            "source": [
                "### <ins />**2. Custom Metrics**"
            ]
        },
        {
            "cell_type": "markdown",
            "metadata": {},
            "source": [
                "- Measure performance of model on train dataset versus test dataset\n",
                "- keras.metrics **does not** update its variables in backpropagation\n",
                "- The following are the methods for custom metrics:\n",
                "  - update_state()\n",
                "  - results()\n",
                "  - reset_state()\n",
                "- Note: keras.layers update its variables in backpropagation unlike keras.metrics"
            ]
        },
        {
            "cell_type": "code",
            "execution_count": 46,
            "metadata": {},
            "outputs": [],
            "source": [
                "class RootMeanSquaredError(keras.metrics.Metric):\n",
                "    def __init__(self, name=\"rmse\", **kwargs):\n",
                "        # Metric Constructor\n",
                "        super().__init__(name=name, **kwargs)\n",
                "        # Create Weights\n",
                "        self.mse_sum = self.add_weight(name=\"mse_sum\", initializer=\"zeros\")\n",
                "        self.num_samples = self.add_weight(name=\"num_samples\", initializer=\"zeros\", dtype=\"int32\")\n",
                "\n",
                "    def update_state(self, y_true, y_pred, sample_weight=None):\n",
                "        # y_true and y_pred are labels of a batch\n",
                "        # y_true must be a probability distribution\n",
                "        # Total number of labels in the batch\n",
                "        num_labels = tf.shape(y_pred)[1]\n",
                "        y_true = tf.one_hot(y_true, depth=num_labels)\n",
                "        mse = tf.reduce_mean(tf.square(y_true - y_pred))\n",
                "        # Total number of samples in a batch\n",
                "        num_samples = tf.shape(y_pred)[0]\n",
                "        # Update weights\n",
                "        self.mse_sum.assign_add(mse)\n",
                "        self.num_samples.assign_add(num_samples)\n",
                "\n",
                "    def result(self):\n",
                "        # Root mean square averaged across all samples in a batch\n",
                "        return tf.sqrt(self.mse_sum / tf.cast(self.num_samples, tf.float32))\n",
                "\n",
                "    def reset_state(self):\n",
                "        self.mse_sum.assign(0.0)\n",
                "        self.num_samples.assign(0)"
            ]
        },
        {
            "cell_type": "code",
            "execution_count": 54,
            "metadata": {},
            "outputs": [
                {
                    "name": "stdout",
                    "output_type": "stream",
                    "text": [
                        "Root Mean Squared Error:  0.07317489385604858\n",
                        "Crossentropy:  0.1027441918849945\n",
                        "Accuracy:  0.970300018787384\n"
                    ]
                }
            ],
            "source": [
                "metrics = metrics = [keras.metrics.SparseCategoricalAccuracy(), RootMeanSquaredError()]\n",
                "model = Chapter_01.get_function_model(metrics)\n",
                "history = Chapter_01.train(x=x_train, y=y_train, epoch=2, model=model)\n",
                "test_loss, test_acc, test_rmse = model.evaluate(x=x_test, y=y_test, verbose=False)\n",
                "print(\"Root Mean Squared Error: \", test_rmse)\n",
                "print(\"Crossentropy: \", test_loss)\n",
                "print(\"Accuracy: \", test_acc)"
            ]
        },
        {
            "cell_type": "markdown",
            "metadata": {},
            "source": [
                "### <ins />**3. Builtin Callbacks**"
            ]
        },
        {
            "cell_type": "markdown",
            "metadata": {},
            "source": [
                "**Common Callbacks**\n",
                "  1. LearningRateScheduler\n",
                "  2. ReduceLROnPlateau\n",
                "  3. ModelCheckpoint\n",
                "  4. EarlyStopping\n",
                "  5. CSVLogger"
            ]
        },
        {
            "cell_type": "code",
            "execution_count": 62,
            "metadata": {},
            "outputs": [],
            "source": [
                "callbacks = [\n",
                "    # Stop training once metric stops improving for n epochs\n",
                "    keras.callbacks.EarlyStopping(\n",
                "        monitor=\"val_sparse_categorical_accuracy\",\n",
                "        patience=2,  # how many epoch\n",
                "    ),\n",
                "    # Save model when metric improves\n",
                "    keras.callbacks.ModelCheckpoint(\n",
                "        filepath=\"../resources/models/tmp/checkpoint.keras\",\n",
                "        monitor=\"val_loss\",\n",
                "        save_best_only=True,\n",
                "    ),\n",
                "]"
            ]
        },
        {
            "cell_type": "markdown",
            "metadata": {},
            "source": [
                "**EarlyStopping + ModelCheckpoint**"
            ]
        },
        {
            "cell_type": "code",
            "execution_count": 66,
            "metadata": {},
            "outputs": [
                {
                    "name": "stdout",
                    "output_type": "stream",
                    "text": [
                        "Metrics: \n",
                        "loss, sparse_categorical_accuracy, val_loss, val_sparse_categorical_accuracy, \n"
                    ]
                },
                {
                    "data": {
                        "image/png": "[encoded data removed]",
                        "text/plain": [
                            "<Figure size 2000x1000 with 2 Axes>"
                        ]
                    },
                    "metadata": {},
                    "output_type": "display_data"
                }
            ],
            "source": [
                "model = Chapter_01.get_function_model()\n",
                "history = Chapter_01.train(x=x_train, y=y_train, epoch=100, model=model, callbacks=callbacks)\n",
                "Chapter_01.evaluate(x=x_test, y=y_test, model=model, silent=True)\n",
                "Chapter_01.predict(x=x_test, y=y_test, model=model, silent=True)\n",
                "Common.plot(data=[history], labels=[\"callback\"])"
            ]
        },
        {
            "cell_type": "markdown",
            "metadata": {},
            "source": [
                "### <ins />**4. Save and Load model**"
            ]
        },
        {
            "cell_type": "code",
            "execution_count": 77,
            "metadata": {},
            "outputs": [
                {
                    "data": {
                        "text/plain": [
                            "<keras.src.engine.functional.Functional at 0x30c37b250>"
                        ]
                    },
                    "execution_count": 77,
                    "metadata": {},
                    "output_type": "execute_result"
                }
            ],
            "source": [
                "filepath = \"../resources/models/tmp/model.keras\"\n",
                "model.save(filepath)\n",
                "keras.models.load_model(filepath)"
            ]
        },
        {
            "cell_type": "markdown",
            "metadata": {},
            "source": [
                "### <ins />**4. Custom Callbacks**"
            ]
        },
        {
            "cell_type": "markdown",
            "metadata": {},
            "source": [
                "**Callback Events**\n",
                "\n",
                "| Event | Output |\n",
                "| --- | ---|\n",
                "| on_batch_start |  batch, logs |\n",
                "| on_batch_end |  batch, logs |\n",
                "| on_epoch_start |  epoch, logs |\n",
                "| on_epoch_end |  epoch, logs |\n",
                "| on_train_start | logs |\n",
                "| on_train_end | logs |  \n",
                "   "
            ]
        }
    ],
    "metadata": {
        "kernelspec": {
            "display_name": "projects",
            "language": "python",
            "name": "python3"
        },
        "language_info": {
            "codemirror_mode": {
                "name": "ipython",
                "version": 3
            },
            "file_extension": ".py",
            "mimetype": "text/x-python",
            "name": "python",
            "nbconvert_exporter": "python",
            "pygments_lexer": "ipython3",
            "version": "3.11.5"
        }
    },
    "nbformat": 4,
    "nbformat_minor": 2
}
