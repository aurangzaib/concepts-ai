{
 "cells": [
  {
   "cell_type": "markdown",
   "metadata": {},
   "source": [
    "**Classical Machine Learning**\n",
    "- Classification\n",
    "- Regression\n",
    "- SVM\n",
    "- Decision Tree\n",
    "- Random Forest\n",
    "- Dimensionality Reduction\n",
    "- K-Means Clustering\n",
    "- Gaussian Mixtures\n",
    "\n",
    "**Deep Neural Networks:**\n",
    "- Mutlilayer Perceptron (MLP)\n",
    "- Training a neural network\n",
    "- Custom models and training\n",
    "- Data processing\n",
    "- Computer Vision\n",
    "  - Classification\n",
    "  - Object Detection\n",
    "  - Semantic Segmentation\n",
    "- Sequences with RNN and CNN\n",
    "- Autencoders, GAN and Diffusion models\n",
    "- Deplyment at scale\n",
    "  - Server, Client and Mobile\n",
    "  - Distributed strategies\n",
    "  - TF Cluster\n",
    "\n",
    "**Tools:**\n",
    "- Hugging Face"
   ]
  }
 ],
 "metadata": {
  "language_info": {
   "name": "python"
  }
 },
 "nbformat": 4,
 "nbformat_minor": 2
}
