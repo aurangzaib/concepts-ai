{
 "cells": [
  {
   "cell_type": "markdown",
   "metadata": {},
   "source": [
    "---\n",
    "**Chapter 06**\n",
    "# **The universal workflow of machine learning**\n",
    "---"
   ]
  },
  {
   "cell_type": "markdown",
   "metadata": {},
   "source": [
    "Machine learning is about encoding human experience/observation in a model\n",
    "\n",
    "---\n",
    "# **Universal Workflow**\n",
    "---\n",
    "  \n",
    "  - **Task Definition**\n",
    "    - Understand the problem\n",
    "    - Collect the dataset\n",
    "    - Understand the dataset\n",
    "    - Define metric of success\n",
    "  \n",
    "  - **Model Development**\n",
    "    - Dataset processing\n",
    "    - Evaluation protocol\n",
    "    - Statistical power\n",
    "    - Regularization\n",
    "  \n",
    "  - **Model Deployment**\n",
    "    - Deploy the model\n",
    "    - Maintain the model  "
   ]
  },
  {
   "cell_type": "markdown",
   "metadata": {},
   "source": [
    "---\n",
    "# **Task Definition**\n",
    "---\n",
    "\n",
    "### **<ins />01. Understand the problem**\n",
    "\n",
    "- What will be input\n",
    "- What will be predicted\n",
    "- What will be assumptions\n",
    "- What will be task (classification/regression/segmentation etc.)\n",
    "- Examples:\n",
    "  - Photo search: Multiclass multilabel classification\n",
    "  - Music recommendation: No machine learning. Matrix factorization\n",
    "- How the existing systems work\n",
    "- What will be the constraints\n",
    "  - How to get new dataset (encrypted device)\n",
    "  - Runtime requirements (embedded system)\n",
    "\n",
    "### **<ins />02. Collect the dataset**\n",
    "\n",
    "- Take dataset from the same environment (same features) where the model will be used\n",
    "- Classes should be equally represented in the dataset, else account for imbalance\n",
    "- Example:\n",
    "  - Take images from same camera which will be used in production\n",
    "- Concept drift:\n",
    "  - Prediction using model trained on past data assumes future will behave like the past\n",
    "  - Dataset remains static while production environment changes with time\n",
    "  - As dataset grows, wrong labelling grows too\n",
    "- Most time consuming part is framing the problem and collecting, annotating the dataset \n",
    "  \n",
    "### **<ins />03. Understand the dataset**\n",
    "\n",
    "- Design tools to thoroughly visualize the dataset and annotations\n",
    "\n",
    "### **<ins />04. Define metric of success**\n",
    "\n",
    "- Metric of success guides all technical choice in the project\n",
    "- ROC AUC: Receiver Operating Characterstic Area Under Curve\n",
    "- See Kaggle for the problems and their success metrics"
   ]
  },
  {
   "cell_type": "markdown",
   "metadata": {},
   "source": [
    "---\n",
    "# **Model Development**\n",
    "---\n",
    "\n",
    "### **<ins />01. Dataset processing**\n",
    "\n",
    "- **Data vectorization:**\n",
    "  \n",
    "  - Dataset typically must be tensors of float32\n",
    "  \n",
    "- **Data normalization:**\n",
    "  \n",
    "  - Data should have small values:\n",
    "    - Values in range 0-1\n",
    "    - Divide by 255\n",
    "  - Data should be homogenous\n",
    "    - All features should have same range\n",
    "    - Feature-wise normalization (mean=0, std=1)\n",
    "    - To avoid large gradient updates which prevent convergence\n",
    "\n",
    "- **Handle missing values:**\n",
    "  \n",
    "  - Feature values missing in training dataset\n",
    "    -  <ins>Categorical Feature</ins>\n",
    "       -  Create a new category/class (**value missing**)\n",
    "       -  Example: In Boston dataset, a feature value is missing in some samples\n",
    "    - <ins>Numerical Feature</ins>\n",
    "      - Take mean/median of same feature in other samples\n",
    "      - Example: In Torque dataset, position/velocity/acceleration are missing in some samples\n",
    "  - Feature values missing in test dataset\n",
    "    - Duplicate few samples in the training dataset\n",
    "    - Drop feature values in these samples\n",
    "    - Handle dropped features (categorical/numerical)\n",
    "\n",
    "### **<ins />02. Evaluation protocol**\n",
    "\n",
    "  - Methods\n",
    "    - Holdout Validation\n",
    "    - K-Fold Cross-Validation\n",
    "    - Iterative K-Fold Cross-Validation\n",
    "  - Consideration:\n",
    "    - Training and validation should not have redundant samples\n",
    "    - Validation metrics should decrease/increase similar to training metrics — otherwise overfitting\n",
    "\n",
    "### **<ins />03. Statistical power**\n",
    "  \n",
    "  - Develop a smallest possible model to beat baseline (some generalization, some overfitting)\n",
    "    - Feature Engineering\n",
    "    - Architecture priors\n",
    "    - Training configurations\n",
    "  - Develop an overfitting model\n",
    "    - Number of layers\n",
    "    - Size of layers\n",
    "    - Number of epochs\n",
    "  - See Chapters 04-05\n",
    "\n",
    "### **<ins />04. Regularization**\n",
    "\n",
    "  - Methods:\n",
    "    - Auto-Hyperparameter tuner (KerasTuner)\n",
    "    - L1/L2 regularization (small models)\n",
    "    - Dropout (large models)\n",
    "    - Reduce network size\n",
    "  - Beware of information leaks\n",
    "  - See Chapter 05\n"
   ]
  },
  {
   "cell_type": "markdown",
   "metadata": {},
   "source": [
    "---\n",
    "# **Model Deployment**\n",
    "---"
   ]
  },
  {
   "cell_type": "markdown",
   "metadata": {},
   "source": [
    "### **<ins />01. Deploy the model**\n",
    "\n",
    "| Server | Detail |\n",
    "| --- | --- |\n",
    "| Data | No sensitive inference data (Rest API) |\n",
    "| Latency | No strict latency requirements |\n",
    "| Accuracy | Highest accuracy requirements |\n",
    "| Connection | Internet connection requirements |\n",
    "| Resource | Server compute resources |\n",
    "| Deployment | [TensorFlow Serving](https://www.tensorflow.org/tfx/guide/serving) |\n",
    "| Note | [Industrial TensorFlow (TFX)](https://www.tensorflow.org/tfx) |"
   ]
  },
  {
   "cell_type": "markdown",
   "metadata": {},
   "source": [
    "| Client |Detail |\n",
    "| --- | ---|\n",
    "| Data | Sensitive inference data |\n",
    "| Latency | Strict latecy requirements |\n",
    "| Accuracy | Tradeoff between accuracy and runtime |\n",
    "| Resource | User compute resources |\n",
    "| Connection | No internet connection requirements |\n",
    "| Deployment | [TensorFlow JS](https://www.tensorflow.org/js) |"
   ]
  },
  {
   "cell_type": "markdown",
   "metadata": {},
   "source": [
    "| Mobile |Detail |\n",
    "| --- | ---|\n",
    "| Data | Sensitive inference data |\n",
    "| Latency | Strict latecy requirements |\n",
    "| Accuracy | Tradeoff between accuracy and runtime |\n",
    "| Connection | No internet connection requirements |\n",
    "| Resource | User compute resources |\n",
    "| Deployment | [TensorFlow Lite](https://www.tensorflow.org/lite) |"
   ]
  },
  {
   "cell_type": "markdown",
   "metadata": {},
   "source": [
    "**Optimization:**\n",
    "- Weight pruning:\n",
    "  - Reduce number of weights\n",
    "- Weight quantization:\n",
    "  - Float32 to int8\n",
    "- [TensorFlow Model Optimizer](https://www.tensorflow.org/model_optimization)"
   ]
  },
  {
   "cell_type": "markdown",
   "metadata": {},
   "source": [
    "### **<ins />02. Maintain the dataset**\n",
    "\n",
    "- Collect and annotate new dataset\n",
    "- Improve collection and annotation pipeline\n",
    "- **Pay special attention to samples where the model has low accuracy**"
   ]
  },
  {
   "cell_type": "markdown",
   "metadata": {},
   "source": [
    "---\n",
    "---\n",
    "---"
   ]
  }
 ],
 "metadata": {
  "kernelspec": {
   "display_name": "projects",
   "language": "python",
   "name": "python3"
  },
  "language_info": {
   "name": "python",
   "version": "3.11.7"
  }
 },
 "nbformat": 4,
 "nbformat_minor": 2
}
