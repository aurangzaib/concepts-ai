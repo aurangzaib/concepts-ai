{
 "cells": [
  {
   "cell_type": "markdown",
   "metadata": {},
   "source": [
    "- Three essential computer vision tasks\n",
    "- Image segmentation\n",
    "- Modern convnet architecture patterns\n",
    "  - Modularity, hierarchy, reuse\n",
    "  - Residual connections\n",
    "  - Batch normalizaton\n",
    "  - Depthwise separable convolution\n",
    "  - Mini Xception model\n",
    "- Interpret what convnets learn\n",
    "  - Visualize intermediate activations\n",
    "  - Visualize convet filters\n",
    "  - Visualize heatmaps of class acitvation"
   ]
  }
 ],
 "metadata": {
  "language_info": {
   "name": "python"
  }
 },
 "nbformat": 4,
 "nbformat_minor": 2
}
