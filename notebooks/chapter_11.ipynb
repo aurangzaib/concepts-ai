{
 "cells": [
  {
   "cell_type": "markdown",
   "metadata": {},
   "source": [
    "---\n",
    "**Chapter 11:**\n",
    "# **Deep learning for text**\n",
    "---"
   ]
  },
  {
   "cell_type": "markdown",
   "metadata": {},
   "source": [
    "- Attention neural is used instead of convolution or recurrent layers\n",
    "- Transformer is neither feedforward nor recurrent network\n",
    "- GPT is generative pre-trained transformer"
   ]
  }
 ],
 "metadata": {
  "language_info": {
   "name": "python"
  }
 },
 "nbformat": 4,
 "nbformat_minor": 2
}
