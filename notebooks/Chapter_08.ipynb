{
 "cells": [
  {
   "cell_type": "markdown",
   "metadata": {},
   "source": [
    "---\n",
    "**Chapter 08**\n",
    "# **Introduction to deep learning for computer vision**\n",
    "---\n"
   ]
  },
  {
   "cell_type": "code",
   "execution_count": 24,
   "metadata": {},
   "outputs": [
    {
     "data": {
      "text/plain": [
       "<module 'modules.Common' from '/Users/siddiqui/Projects/concepts/concepts-ai/notebooks/../modules/Common.py'>"
      ]
     },
     "execution_count": 24,
     "metadata": {},
     "output_type": "execute_result"
    }
   ],
   "source": [
    "# System Libraries\n",
    "from tensorflow import keras\n",
    "import os, shutil, pathlib\n",
    "import tensorflow as tf\n",
    "import numpy as np\n",
    "import importlib\n",
    "import sys\n",
    "\n",
    "sys.path.append(\"../\")\n",
    "\n",
    "# User Libraries\n",
    "from modules import Chapter_01\n",
    "from modules import Chapter_08\n",
    "from modules import Common\n",
    "\n",
    "# Reload Libraries\n",
    "importlib.reload(Chapter_01)\n",
    "importlib.reload(Chapter_08)\n",
    "importlib.reload(Common)"
   ]
  },
  {
   "cell_type": "markdown",
   "metadata": {},
   "source": [
    "---\n",
    "# **Convolution theory**\n",
    "---"
   ]
  },
  {
   "cell_type": "markdown",
   "metadata": {},
   "source": [
    "\n",
    "### <ins />**Convolution layers**\n",
    "  - Dense layers learn patterns of global input feature map\n",
    "  - Conv layers learn patterns of local input patch\n",
    "  - Convolution classification network has two parts:\n",
    "     - Convolution base: Conv2D + Maxpooling\n",
    "     - Logit: Dense\n",
    "  - Convolution base:\n",
    "    - Lower layers extract specific feature maps\n",
    "    - Upper layers extract highly generic feature maps\n",
    "  - Translation invariant patterns\n",
    "    - After learning a pattern once, Conv layer can infer it anywhere in the image\n",
    "  - Spatial hierarchical patterns\n",
    "    - Upper layers learn generic patterns\n",
    "    - Lower layers learn specific patterns\n",
    "  - For problems where object location matters, dense layer is useless\n",
    "  - Dense layer is also called fully connected layer\n",
    "\n",
    "### <ins />**Feature map**\n",
    "  - Height, Width, Channels (H, W, D)\n",
    "  - Feature map size: HxW\n",
    "  - Feature map depth: D\n",
    "  - For larger images, we increase number of layers:\n",
    "    - To increase feature map depth\n",
    "    - To decrease feature map size\n",
    "    - To increase model capacity\n",
    "  - In a convnet\n",
    "    - Feature map depth increases with each layer\n",
    "    - Feature map size decreases with each layer\n",
    "  \n",
    "### <ins />**Input feature map (3D)**\n",
    "  - 28x28x1 matrix input image\n",
    "\n",
    "### <ins />**Filter**\n",
    "  - Depth of output feature map\n",
    "  - 32, 64, etc.\n",
    "\n",
    "### <ins />**Kernel (2D)**\n",
    "  - 3x3 matrix aka convolution kernel / structuring element\n",
    "  - Same kernel is used with all input patches\n",
    "\n",
    "### <ins />**Input patch (2D)**\n",
    "  - 3x3 matrix patch of input feature map\n",
    "\n",
    "### <ins />**Reponse map (1D)**\n",
    "  - 3x1 Tensorproduct of kernel and input patch\n",
    "\n",
    "### <ins />**Output feature map (3D)**\n",
    "  - Combine all response maps into matrix\n",
    "  \n",
    "### <ins />**Convolution operation (sliding window)**\n",
    "  1. Slide the kernel on input feature map\n",
    "  2. Extract input patch\n",
    "  3. Tensor product the kernel and input patch to get response map vector\n",
    "  4. Combine all response map vectors (one per patch) to get output feature map\n",
    "  5. Output map size is less than input map size due to convolution border effect and stride\n",
    "\n",
    "### <ins />**Padding**\n",
    "  - To counter border effect i.e. in order to have output map size equals input map size\n",
    "  - Valid padding\n",
    "    - No padding applied (default)\n",
    "    - Output map size < Input map size\n",
    "  - Same padding\n",
    "    - Padding applied\n",
    "    - Output map size = Input map size\n",
    "    - Padding size depends on kernel size, not on input patch size\n",
    "    - Padding for 3x3 kernel:\n",
    "      - 1x row on top. 1x row on bottom\n",
    "      - 1x column on right. 1x column on left\n",
    "    - Padding for 5x5 kernel:\n",
    "      - 2 rows on top. 2 rows on bottom\n",
    "      - 2 columns on right. 2 columns on left\n",
    "\n",
    "### <ins />**Stride**\n",
    "  - Distance between two consecutive convolution windows\n",
    "  - Not used in classification convnets (see maxpooling)\n",
    "  - Downsampling mechanism\n",
    "  - Stride=1 (default)\n",
    "\n",
    "### <ins />**Maxpooling**\n",
    "  - Max patch: 2x2 matrix of max value of input patch\n",
    "  - Tensorproduct of max patch and input patch\n",
    "  - Used in classification convnets \n",
    "  - Downsampling mechanism\n",
    "\n",
    "### <ins />**Convolution vs Maxpooling vs Avgpooling**\n",
    "  - Maxpooling:\n",
    "    - Kernel=2x2 (pool size)\n",
    "    - Stride=2\n",
    "    - **Kernel uses max value of input patch**\n",
    "    - Feature map size is reduced by **size / 2**\n",
    "  - Avgpooling:\n",
    "    - Kernel=2x2 (pool size)\n",
    "    - Stride=2\n",
    "    - **Kernel uses average value of input patch**\n",
    "    - Feature map size is reduced by **size / 2**\n",
    "  - Convolution:\n",
    "    - Kernel=3x3 (kernel size)\n",
    "    - Stride=1\n",
    "    - **Kernel uses fixed value irrespective of input patch**\n",
    "    - Feature map size is reduced by **size - 2**\n",
    "\n",
    "### <ins />**Why downsample (stride / maxpooling / avgpooling)**\n",
    "  - Reduce number of coefficients and overfit\n",
    "    - Without maxpooling = 61952 coefficients \n",
    "    - With maxpooling = 1152 coefficients  \n",
    "  - Increase channel-to-height/width ratio\n",
    "    - Without maxpooling = 24x24x64\n",
    "    - With maxpooling = 11x11x64\n",
    "\n",
    "### <ins />**Data Augmentation**\n",
    "   - Remix the already available information\n",
    "   - No new information created\n",
    "   - To further reduce overfit, use dropout\n",
    "\n",
    "### <ins />**Transfer learning**\n",
    "  - Models trained on large dataset (different classes) serve as generic model of visual world\n",
    "  - E.g. Model trained on ImageNet (animals) used as base model for bottle detection\n",
    "  - Deep learning with convet is effective for small dataset due to  transfer learning\n",
    "  - Types of transfer learning: \n",
    "    - Feature extraction\n",
    "    - Fine tuning\n",
    "\n",
    "### <ins />**Feature extraction**\n",
    "  - Take convolutional base of another model and add a new fully connected (dense) logit layer\n",
    "  - New dataset has different classes: Use upper layers of convolution base\n",
    "  - New dataset has similar classes: Use all layers of convolution base\n",
    "  - Using logit layer from another model **should be avoided**\n"
   ]
  },
  {
   "cell_type": "markdown",
   "metadata": {},
   "source": [
    "### <ins />**Maxpooling and padding use cases**"
   ]
  },
  {
   "cell_type": "markdown",
   "metadata": {},
   "source": [
    "##### **Case-1: No padding. No maxpooling**"
   ]
  },
  {
   "cell_type": "code",
   "execution_count": 2,
   "metadata": {},
   "outputs": [
    {
     "name": "stdout",
     "output_type": "stream",
     "text": [
      "Model: \"model\"\n",
      "_________________________________________________________________\n",
      " Layer (type)                Output Shape              Param #   \n",
      "=================================================================\n",
      " input_1 (InputLayer)        [(None, 28, 28, 1)]       0         \n",
      "                                                                 \n",
      " conv2d (Conv2D)             (None, 26, 26, 32)        320       \n",
      "                                                                 \n",
      " conv2d_1 (Conv2D)           (None, 24, 24, 64)        18496     \n",
      "                                                                 \n",
      " conv2d_2 (Conv2D)           (None, 22, 22, 128)       73856     \n",
      "                                                                 \n",
      " flatten (Flatten)           (None, 61952)             0         \n",
      "                                                                 \n",
      " dense (Dense)               (None, 10)                619530    \n",
      "                                                                 \n",
      "=================================================================\n",
      "Total params: 712202 (2.72 MB)\n",
      "Trainable params: 712202 (2.72 MB)\n",
      "Non-trainable params: 0 (0.00 Byte)\n",
      "_________________________________________________________________\n"
     ]
    }
   ],
   "source": [
    "inputs = keras.Input(shape=(28, 28, 1))\n",
    "x = keras.layers.Conv2D(filters=32, kernel_size=3, activation=tf.nn.relu)(inputs)\n",
    "x = keras.layers.Conv2D(filters=64, kernel_size=3, activation=tf.nn.relu)(x)\n",
    "x = keras.layers.Conv2D(filters=128, kernel_size=3, activation=tf.nn.relu)(x)\n",
    "x = keras.layers.Flatten()(x)\n",
    "outputs = keras.layers.Dense(units=10, activation=tf.nn.softmax)(x)\n",
    "keras.Model(inputs=inputs, outputs=outputs).summary()"
   ]
  },
  {
   "cell_type": "markdown",
   "metadata": {},
   "source": [
    "##### **Case-2: With padding. No maxpooling**"
   ]
  },
  {
   "cell_type": "code",
   "execution_count": 3,
   "metadata": {},
   "outputs": [
    {
     "name": "stdout",
     "output_type": "stream",
     "text": [
      "Model: \"model_1\"\n",
      "_________________________________________________________________\n",
      " Layer (type)                Output Shape              Param #   \n",
      "=================================================================\n",
      " input_2 (InputLayer)        [(None, 28, 28, 1)]       0         \n",
      "                                                                 \n",
      " conv2d_3 (Conv2D)           (None, 28, 28, 32)        320       \n",
      "                                                                 \n",
      " conv2d_4 (Conv2D)           (None, 28, 28, 64)        18496     \n",
      "                                                                 \n",
      " conv2d_5 (Conv2D)           (None, 28, 28, 128)       73856     \n",
      "                                                                 \n",
      " flatten_1 (Flatten)         (None, 100352)            0         \n",
      "                                                                 \n",
      " dense_1 (Dense)             (None, 10)                1003530   \n",
      "                                                                 \n",
      "=================================================================\n",
      "Total params: 1096202 (4.18 MB)\n",
      "Trainable params: 1096202 (4.18 MB)\n",
      "Non-trainable params: 0 (0.00 Byte)\n",
      "_________________________________________________________________\n"
     ]
    }
   ],
   "source": [
    "inputs = keras.Input(shape=(28, 28, 1))\n",
    "x = keras.layers.Conv2D(filters=32, kernel_size=3, padding=\"same\", activation=tf.nn.relu)(inputs)\n",
    "x = keras.layers.Conv2D(filters=64, kernel_size=3, padding=\"same\", activation=tf.nn.relu)(x)\n",
    "x = keras.layers.Conv2D(filters=128, kernel_size=3, padding=\"same\", activation=tf.nn.relu)(x)\n",
    "x = keras.layers.Flatten()(x)\n",
    "outputs = keras.layers.Dense(units=10, activation=tf.nn.softmax)(x)\n",
    "keras.Model(inputs=inputs, outputs=outputs).summary()"
   ]
  },
  {
   "cell_type": "markdown",
   "metadata": {},
   "source": [
    "##### **Case-3: No padding. With maxpooling (recommended)**"
   ]
  },
  {
   "cell_type": "code",
   "execution_count": 4,
   "metadata": {},
   "outputs": [
    {
     "name": "stdout",
     "output_type": "stream",
     "text": [
      "Model: \"model_2\"\n",
      "_________________________________________________________________\n",
      " Layer (type)                Output Shape              Param #   \n",
      "=================================================================\n",
      " input_3 (InputLayer)        [(None, 28, 28, 1)]       0         \n",
      "                                                                 \n",
      " conv2d_6 (Conv2D)           (None, 26, 26, 32)        320       \n",
      "                                                                 \n",
      " max_pooling2d (MaxPooling2  (None, 13, 13, 32)        0         \n",
      " D)                                                              \n",
      "                                                                 \n",
      " conv2d_7 (Conv2D)           (None, 11, 11, 64)        18496     \n",
      "                                                                 \n",
      " max_pooling2d_1 (MaxPoolin  (None, 5, 5, 64)          0         \n",
      " g2D)                                                            \n",
      "                                                                 \n",
      " conv2d_8 (Conv2D)           (None, 3, 3, 128)         73856     \n",
      "                                                                 \n",
      " flatten_2 (Flatten)         (None, 1152)              0         \n",
      "                                                                 \n",
      " dense_2 (Dense)             (None, 10)                11530     \n",
      "                                                                 \n",
      "=================================================================\n",
      "Total params: 104202 (407.04 KB)\n",
      "Trainable params: 104202 (407.04 KB)\n",
      "Non-trainable params: 0 (0.00 Byte)\n",
      "_________________________________________________________________\n"
     ]
    }
   ],
   "source": [
    "inputs = keras.Input(shape=(28, 28, 1))\n",
    "x = keras.layers.Conv2D(filters=32, kernel_size=3, activation=tf.nn.relu)(inputs)\n",
    "x = keras.layers.MaxPooling2D(pool_size=2)(x)\n",
    "x = keras.layers.Conv2D(filters=64, kernel_size=3, activation=tf.nn.relu)(x)\n",
    "x = keras.layers.MaxPooling2D(pool_size=2)(x)\n",
    "x = keras.layers.Conv2D(filters=128, kernel_size=3, activation=tf.nn.relu)(x)\n",
    "x = keras.layers.Flatten()(x)\n",
    "outputs = keras.layers.Dense(units=10, activation=tf.nn.softmax)(x)\n",
    "keras.Model(inputs=inputs, outputs=outputs).summary()"
   ]
  },
  {
   "cell_type": "markdown",
   "metadata": {},
   "source": [
    "##### **Case-4: Model with padding, with maxpooling**"
   ]
  },
  {
   "cell_type": "code",
   "execution_count": 5,
   "metadata": {},
   "outputs": [
    {
     "name": "stdout",
     "output_type": "stream",
     "text": [
      "Model: \"model_3\"\n",
      "_________________________________________________________________\n",
      " Layer (type)                Output Shape              Param #   \n",
      "=================================================================\n",
      " input_4 (InputLayer)        [(None, 28, 28, 1)]       0         \n",
      "                                                                 \n",
      " conv2d_9 (Conv2D)           (None, 28, 28, 32)        320       \n",
      "                                                                 \n",
      " max_pooling2d_2 (MaxPoolin  (None, 14, 14, 32)        0         \n",
      " g2D)                                                            \n",
      "                                                                 \n",
      " conv2d_10 (Conv2D)          (None, 14, 14, 64)        18496     \n",
      "                                                                 \n",
      " max_pooling2d_3 (MaxPoolin  (None, 7, 7, 64)          0         \n",
      " g2D)                                                            \n",
      "                                                                 \n",
      " conv2d_11 (Conv2D)          (None, 7, 7, 128)         73856     \n",
      "                                                                 \n",
      " flatten_3 (Flatten)         (None, 6272)              0         \n",
      "                                                                 \n",
      " dense_3 (Dense)             (None, 10)                62730     \n",
      "                                                                 \n",
      "=================================================================\n",
      "Total params: 155402 (607.04 KB)\n",
      "Trainable params: 155402 (607.04 KB)\n",
      "Non-trainable params: 0 (0.00 Byte)\n",
      "_________________________________________________________________\n"
     ]
    }
   ],
   "source": [
    "inputs = keras.Input(shape=(28, 28, 1))\n",
    "x = keras.layers.Conv2D(filters=32, kernel_size=3, padding=\"same\", activation=tf.nn.relu)(inputs)\n",
    "x = keras.layers.MaxPooling2D(pool_size=2)(x)\n",
    "x = keras.layers.Conv2D(filters=64, kernel_size=3, padding=\"same\", activation=tf.nn.relu)(x)\n",
    "x = keras.layers.MaxPooling2D(pool_size=2)(x)\n",
    "x = keras.layers.Conv2D(filters=128, kernel_size=3, padding=\"same\", activation=tf.nn.relu)(x)\n",
    "x = keras.layers.Flatten()(x)\n",
    "outputs = keras.layers.Dense(units=10, activation=tf.nn.softmax)(x)\n",
    "keras.Model(inputs=inputs, outputs=outputs).summary()"
   ]
  },
  {
   "cell_type": "markdown",
   "metadata": {},
   "source": [
    "---\n",
    "# **Convolution network**\n",
    "---"
   ]
  },
  {
   "cell_type": "markdown",
   "metadata": {},
   "source": [
    "### <ins />**Dataset**"
   ]
  },
  {
   "cell_type": "code",
   "execution_count": 6,
   "metadata": {},
   "outputs": [],
   "source": [
    "def dataset():\n",
    "    (x_train, y_train), (x_test, y_test) = keras.datasets.mnist.load_data()\n",
    "    x_train, x_test = x_train.reshape((60000, 28, 28, 1)), x_test.reshape((10000, 28, 28, 1))\n",
    "    return Common.shuffle_data(x_train, y_train), Common.shuffle_data(x_test, y_test)"
   ]
  },
  {
   "cell_type": "markdown",
   "metadata": {},
   "source": [
    "### <ins />**Model**"
   ]
  },
  {
   "cell_type": "code",
   "execution_count": 7,
   "metadata": {},
   "outputs": [],
   "source": [
    "inputs = keras.Input(shape=(28, 28, 1))\n",
    "x = keras.layers.Rescaling(1.0 / 255)(inputs)\n",
    "x = keras.layers.Conv2D(filters=32, kernel_size=3, activation=tf.nn.relu)(inputs)\n",
    "x = keras.layers.MaxPooling2D(pool_size=2)(x)\n",
    "x = keras.layers.Conv2D(filters=64, kernel_size=3, activation=tf.nn.relu)(x)\n",
    "x = keras.layers.MaxPooling2D(pool_size=2)(x)\n",
    "x = keras.layers.Conv2D(filters=128, kernel_size=3, activation=tf.nn.relu)(x)\n",
    "x = keras.layers.Flatten()(x)\n",
    "outputs = keras.layers.Dense(units=10, activation=tf.nn.softmax)(x)\n",
    "model = keras.Model(inputs=inputs, outputs=outputs)"
   ]
  },
  {
   "cell_type": "markdown",
   "metadata": {},
   "source": [
    "### <ins />**Train, Evaluate**"
   ]
  },
  {
   "cell_type": "code",
   "execution_count": 8,
   "metadata": {},
   "outputs": [
    {
     "name": "stdout",
     "output_type": "stream",
     "text": [
      "Test Loss:  0.044331058859825134\n",
      "Test Acc:  0.9923999905586243\n"
     ]
    }
   ],
   "source": [
    "(x_train, y_train), (x_test, y_test) = dataset()\n",
    "Chapter_01.compile(model=model)\n",
    "history = Chapter_01.train(x=x_train, y=y_train, model=model, epochs=10, callbacks=Common.callbacks())\n",
    "Chapter_01.evaluate(x=x_test, y=y_test, model=model)"
   ]
  },
  {
   "cell_type": "markdown",
   "metadata": {},
   "source": [
    "### <ins />**Graph**"
   ]
  },
  {
   "cell_type": "code",
   "execution_count": 9,
   "metadata": {},
   "outputs": [
    {
     "name": "stdout",
     "output_type": "stream",
     "text": [
      "Metrics: \n",
      "loss, sparse_categorical_accuracy, val_loss, val_sparse_categorical_accuracy, \n"
     ]
    },
    {
     "data": {
      "image/png": "[encoded data removed]",
      "text/plain": [
       "<Figure size 2000x1000 with 2 Axes>"
      ]
     },
     "metadata": {},
     "output_type": "display_data"
    }
   ],
   "source": [
    "Common.plot(data=[history], labels=[\"Mnist Convnet\"])"
   ]
  },
  {
   "cell_type": "markdown",
   "metadata": {},
   "source": [
    "---\n",
    "# **Training from scratch**\n",
    "---"
   ]
  },
  {
   "cell_type": "markdown",
   "metadata": {},
   "source": [
    "Notes:\n",
    "   - image data processing\n",
    "     - jpeg to rgb float tensors\n",
    "     - resize \n",
    "     - Batches of images\n",
    "   - tensforflow Datasets API\n",
    "     - tf.data.Dataset\n",
    "     - Efficient input pipeline\n",
    "     - Asynchronous data prefetching (fetch new batch while previous batch is being handled by model)\n",
    "     - normal vs uniform distributions?\n"
   ]
  },
  {
   "cell_type": "markdown",
   "metadata": {},
   "source": [
    "### <ins />**Partitioning**"
   ]
  },
  {
   "cell_type": "code",
   "execution_count": 32,
   "metadata": {},
   "outputs": [],
   "source": [
    "original_dir = pathlib.Path(\"../resources/datasets/cats_vs_dogs/\")\n",
    "new_base_dir = pathlib.Path(\"../resources/datasets/cats_vs_dogs_small\")\n",
    "\n",
    "\n",
    "def make_subset(subset_name, start_index, end_index):\n",
    "    for category in (\"cat\", \"dog\"):\n",
    "        dir = new_base_dir / subset_name / category\n",
    "        os.makedirs(dir)\n",
    "        fnames = [f\"{category}.{i}.jpg\" for i in range(start_index, end_index)]\n",
    "        for fname in fnames:\n",
    "            shutil.copyfile(src=original_dir / fname, dst=dir / fname)\n",
    "\n",
    "\n",
    "make_subset(\"train\", start_index=0, end_index=1000)\n",
    "make_subset(\"validation\", start_index=1000, end_index=1500)\n",
    "make_subset(\"test\", start_index=1500, end_index=2500)"
   ]
  },
  {
   "cell_type": "markdown",
   "metadata": {},
   "source": [
    "### <ins />**Model**"
   ]
  },
  {
   "cell_type": "code",
   "execution_count": 34,
   "metadata": {},
   "outputs": [
    {
     "name": "stdout",
     "output_type": "stream",
     "text": [
      "Model: \"model_6\"\n",
      "_________________________________________________________________\n",
      " Layer (type)                Output Shape              Param #   \n",
      "=================================================================\n",
      " input_7 (InputLayer)        [(None, 180, 180, 3)]     0         \n",
      "                                                                 \n",
      " conv2d_20 (Conv2D)          (None, 178, 178, 32)      896       \n",
      "                                                                 \n",
      " max_pooling2d_10 (MaxPooli  (None, 89, 89, 32)        0         \n",
      " ng2D)                                                           \n",
      "                                                                 \n",
      " conv2d_21 (Conv2D)          (None, 87, 87, 64)        18496     \n",
      "                                                                 \n",
      " max_pooling2d_11 (MaxPooli  (None, 43, 43, 64)        0         \n",
      " ng2D)                                                           \n",
      "                                                                 \n",
      " conv2d_22 (Conv2D)          (None, 41, 41, 128)       73856     \n",
      "                                                                 \n",
      " max_pooling2d_12 (MaxPooli  (None, 20, 20, 128)       0         \n",
      " ng2D)                                                           \n",
      "                                                                 \n",
      " conv2d_23 (Conv2D)          (None, 18, 18, 256)       295168    \n",
      "                                                                 \n",
      " max_pooling2d_13 (MaxPooli  (None, 9, 9, 256)         0         \n",
      " ng2D)                                                           \n",
      "                                                                 \n",
      " conv2d_24 (Conv2D)          (None, 7, 7, 256)         590080    \n",
      "                                                                 \n",
      " flatten_6 (Flatten)         (None, 12544)             0         \n",
      "                                                                 \n",
      " dense_6 (Dense)             (None, 1)                 12545     \n",
      "                                                                 \n",
      "=================================================================\n",
      "Total params: 991041 (3.78 MB)\n",
      "Trainable params: 991041 (3.78 MB)\n",
      "Non-trainable params: 0 (0.00 Byte)\n",
      "_________________________________________________________________\n"
     ]
    }
   ],
   "source": [
    "inputs = keras.Input(shape=(180, 180, 3))\n",
    "x = keras.layers.Rescaling(1.0 / 255)(inputs)\n",
    "x = keras.layers.Conv2D(filters=32, kernel_size=3, activation=tf.nn.relu)(inputs)\n",
    "x = keras.layers.MaxPooling2D(pool_size=2)(x)\n",
    "x = keras.layers.Conv2D(filters=64, kernel_size=3, activation=tf.nn.relu)(x)\n",
    "x = keras.layers.MaxPooling2D(pool_size=2)(x)\n",
    "x = keras.layers.Conv2D(filters=128, kernel_size=3, activation=tf.nn.relu)(x)\n",
    "x = keras.layers.MaxPooling2D(pool_size=2)(x)\n",
    "x = keras.layers.Conv2D(filters=256, kernel_size=3, activation=tf.nn.relu)(x)\n",
    "x = keras.layers.MaxPooling2D(pool_size=2)(x)\n",
    "x = keras.layers.Conv2D(filters=256, kernel_size=3, activation=tf.nn.relu)(x)\n",
    "x = keras.layers.Flatten()(x)\n",
    "outputs = keras.layers.Dense(units=1, activation=tf.nn.sigmoid)(x)\n",
    "model = keras.Model(inputs=inputs, outputs=outputs)\n",
    "model.summary()"
   ]
  },
  {
   "cell_type": "markdown",
   "metadata": {},
   "source": [
    "---\n",
    "# **Training using feature extraction**\n",
    "---"
   ]
  },
  {
   "cell_type": "code",
   "execution_count": 10,
   "metadata": {},
   "outputs": [
    {
     "name": "stdout",
     "output_type": "stream",
     "text": [
      "Original:  tf.Tensor([10 14  2  6  8], shape=(5,), dtype=int32)\n",
      "Original:  tf.Tensor([15 11 19 17  4], shape=(5,), dtype=int32)\n",
      "Original:  tf.Tensor([13  1 12  7  9], shape=(5,), dtype=int32)\n",
      "Original:  tf.Tensor([16  0  5 18  3], shape=(5,), dtype=int32)\n",
      "Reduced:  tf.Tensor([22 45 41 44 38], shape=(5,), dtype=int32)\n",
      "Mapped:  tf.Tensor([0 0 0 0 0], shape=(5,), dtype=int32)\n",
      "Mapped:  tf.Tensor([0 0 0 0 0], shape=(5,), dtype=int32)\n",
      "Mapped:  tf.Tensor([0 0 0 0 0], shape=(5,), dtype=int32)\n",
      "Mapped:  tf.Tensor([0 0 0 0 0], shape=(5,), dtype=int32)\n"
     ]
    }
   ],
   "source": [
    "dataset = [_ for _ in range(0, 20)]\n",
    "dataset = tf.data.Dataset.from_tensor_slices(dataset)\n",
    "# Shuffle\n",
    "dataset = dataset.shuffle(len(dataset))\n",
    "# Batch\n",
    "dataset = dataset.batch(5)\n",
    "for batch in dataset:\n",
    "    print(\"Original: \", batch)\n",
    "# Reduce\n",
    "reduced = dataset.reduce(initial_state=0, reduce_func=lambda x, y: x + y)\n",
    "print(\"Reduced: \", reduced)\n",
    "# Map\n",
    "dataset = dataset.map(lambda x: x * 0)\n",
    "for batch in dataset:\n",
    "    print(\"Mapped: \", batch)"
   ]
  },
  {
   "cell_type": "markdown",
   "metadata": {},
   "source": [
    "---\n",
    "# **Training using fine tuning**\n",
    "---"
   ]
  },
  {
   "cell_type": "markdown",
   "metadata": {},
   "source": [
    "---\n",
    "# **Bottle Detection** \n",
    "---\n",
    "\n",
    "- Design from scratch using Convnet\n",
    "- Feature extraction using MobileNet with custom logit layer\n",
    "- Feature extraction using another model with custom logit layer\n",
    "\n"
   ]
  }
 ],
 "metadata": {
  "kernelspec": {
   "display_name": "projects",
   "language": "python",
   "name": "python3"
  },
  "language_info": {
   "codemirror_mode": {
    "name": "ipython",
    "version": 3
   },
   "file_extension": ".py",
   "mimetype": "text/x-python",
   "name": "python",
   "nbconvert_exporter": "python",
   "pygments_lexer": "ipython3",
   "version": "3.11.0"
  }
 },
 "nbformat": 4,
 "nbformat_minor": 2
}
