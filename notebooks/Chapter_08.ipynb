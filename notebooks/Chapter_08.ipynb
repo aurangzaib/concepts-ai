{
 "cells": [
  {
   "cell_type": "markdown",
   "metadata": {},
   "source": [
    "- Introduction to Convnet\n",
    "  - Convolution Operation\n",
    "    - Border Effects & Padding\n",
    "    - Convolution Strides\n",
    "  - Max-Pooling Operation\n",
    "- Training a Convnet\n",
    "  - Dataset\n",
    "  - Model\n",
    "  - Data Preprocessing\n",
    "  - Data Augmentation\n",
    "- Pretrained Model\n",
    "  - Feature Extraction\n",
    "    - Fast feature extraction\n",
    "    - Fast feature extraction with augmentation\n",
    "  - Fine-Tuning"
   ]
  }
 ],
 "metadata": {
  "language_info": {
   "name": "python"
  }
 },
 "nbformat": 4,
 "nbformat_minor": 2
}
