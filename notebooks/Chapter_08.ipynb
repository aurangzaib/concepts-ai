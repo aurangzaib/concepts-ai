{
 "cells": [
  {
   "cell_type": "markdown",
   "metadata": {},
   "source": [
    "---\n",
    "**Chapter 08**\n",
    "# **Introduction to deep learning for computer vision**\n",
    "---\n",
    "\n",
    "- Introduction to Convnet\n",
    "  - Convolution Operation\n",
    "    - Border Effects & Padding\n",
    "    - Convolution Strides\n",
    "  - Max-Pooling Operation\n",
    "- Training a Convnet\n",
    "  - Dataset\n",
    "  - Model\n",
    "  - Data Preprocessing\n",
    "  - Data Augmentation\n",
    "- Pretrained Model\n",
    "  - Feature Extraction\n",
    "    - Fast feature extraction\n",
    "    - Fast feature extraction with augmentation\n",
    "  - Fine-Tuning\n",
    "\n",
    ".\n",
    "\n",
    "---\n",
    "---\n",
    "---\n",
    "\n",
    ".\n"
   ]
  },
  {
   "cell_type": "code",
   "execution_count": 1,
   "metadata": {},
   "outputs": [
    {
     "data": {
      "text/plain": [
       "<module 'modules.Common' from '/Users/siddiqui/Projects/concepts/concepts-ai/notebooks/../modules/Common.py'>"
      ]
     },
     "execution_count": 1,
     "metadata": {},
     "output_type": "execute_result"
    }
   ],
   "source": [
    "# System Libraries\n",
    "from tensorflow import keras\n",
    "import tensorflow as tf\n",
    "import numpy as np\n",
    "import importlib\n",
    "import sys\n",
    "\n",
    "sys.path.append(\"../\")\n",
    "\n",
    "# User Libraries\n",
    "from modules import Chapter_01\n",
    "from modules import Common\n",
    "\n",
    "# Reload Libraries\n",
    "importlib.reload(Chapter_01)\n",
    "importlib.reload(Common)"
   ]
  },
  {
   "cell_type": "code",
   "execution_count": null,
   "metadata": {},
   "outputs": [],
   "source": []
  }
 ],
 "metadata": {
  "kernelspec": {
   "display_name": "projects",
   "language": "python",
   "name": "python3"
  },
  "language_info": {
   "codemirror_mode": {
    "name": "ipython",
    "version": 3
   },
   "file_extension": ".py",
   "mimetype": "text/x-python",
   "name": "python",
   "nbconvert_exporter": "python",
   "pygments_lexer": "ipython3",
   "version": "3.11.0"
  }
 },
 "nbformat": 4,
 "nbformat_minor": 2
}
