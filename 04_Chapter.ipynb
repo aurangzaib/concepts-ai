{
 "cells": [
  {
   "cell_type": "markdown",
   "metadata": {},
   "source": [
    "---\n",
    "# **Preparation**\n",
    "---"
   ]
  },
  {
   "cell_type": "markdown",
   "metadata": {},
   "source": [
    "**Common**"
   ]
  },
  {
   "cell_type": "code",
   "execution_count": 88,
   "metadata": {},
   "outputs": [],
   "source": [
    "import matplotlib.pyplot as plt\n",
    "import tensorflow as tf\n",
    "import numpy as np\n",
    "\n",
    "\n",
    "class Common:\n",
    "    @staticmethod\n",
    "    def key_value_swap(dataset):\n",
    "        input = dataset.get_word_index()\n",
    "        return dict([(value, key) for (key, value) in input.items()])\n",
    "\n",
    "    \"\"\"\n",
    "    =================================================================================\n",
    "    Data Manipulation Functions\n",
    "    =================================================================================\n",
    "    \"\"\"\n",
    "\n",
    "    @staticmethod\n",
    "    def decode_data(dataset, input: list):\n",
    "        dictionary = Common.key_value_swap(dataset)\n",
    "        return [dictionary[i] for i in input]\n",
    "\n",
    "    @staticmethod\n",
    "    def encode_data(input_samples, dimension):\n",
    "        \"\"\"\n",
    "        Samples:\n",
    "        - Length of each review is not uniform\n",
    "        - Use one-hot encoding to have a uniform review length\n",
    "        \"\"\"\n",
    "        output_samples = np.zeros(shape=(len(input_samples), dimension))\n",
    "        for sample_index, sample in enumerate(input_samples):\n",
    "            for word_index in sample:\n",
    "                output_samples[sample_index][word_index] = 1\n",
    "        return output_samples\n",
    "\n",
    "    @staticmethod\n",
    "    def shuffle_data(input_samples, input_labels):\n",
    "        num_val = int(0.3 * len(input_samples))\n",
    "        shuffle_indices = np.random.permutation(len(input_samples))\n",
    "        output_samples = input_samples[shuffle_indices]\n",
    "        output_labels = input_labels[shuffle_indices]\n",
    "        return num_val, output_samples, output_labels\n",
    "\n",
    "    \"\"\"\n",
    "    =================================================================================\n",
    "    Train/Val Split Functions\n",
    "    =================================================================================\n",
    "    \"\"\"\n",
    "\n",
    "    @staticmethod\n",
    "    def train_val_data(samples, labels, percent=0.3):\n",
    "        # Shuffle Data\n",
    "        num_val = int(percent * len(samples))\n",
    "        shuffle_indices = np.random.permutation(len(samples))\n",
    "        samples = samples[shuffle_indices]\n",
    "        labels = labels[shuffle_indices]\n",
    "        # Training and validation dataset\n",
    "        x_train = samples[num_val:]\n",
    "        y_train = labels[num_val:]\n",
    "        x_val = samples[:num_val]\n",
    "        y_val = labels[:num_val]\n",
    "        # Dataset\n",
    "        return x_train, y_train, x_val, y_val\n",
    "\n",
    "    @staticmethod\n",
    "    def train_val_data_kfold(data, fold_count, fold_size):\n",
    "        \"\"\"\n",
    "        Note: Data must be numpy arrays, not python array\n",
    "        \"\"\"\n",
    "        val = data[fold_count * fold_size : (fold_count + 1) * fold_size]\n",
    "        train = np.concatenate(\n",
    "            [\n",
    "                # Pre Validation Fold\n",
    "                data[: fold_count * fold_size],\n",
    "                # Post Validation Fold\n",
    "                data[(fold_count + 1) * fold_size :],\n",
    "            ],\n",
    "            axis=0,\n",
    "        )\n",
    "        return train, val\n",
    "\n",
    "    @staticmethod\n",
    "    def explore_k_fold():\n",
    "        data = np.array(\n",
    "            [\n",
    "                np.array([1, 2, 3]),\n",
    "                np.array([4, 5, 6]),\n",
    "                np.array([7, 8, 9]),\n",
    "                np.array([10, 11, 12]),\n",
    "                np.array([13, 14, 15]),\n",
    "            ]\n",
    "        )\n",
    "        n = 4\n",
    "        size = len(data) // n\n",
    "        for index in range(n):\n",
    "            Common.train_val_data_kfold(data, index, size)\n",
    "\n",
    "    \"\"\"\n",
    "    =================================================================================\n",
    "    History Functions\n",
    "    =================================================================================\n",
    "    \"\"\"\n",
    "\n",
    "    @staticmethod\n",
    "    def save_history(histories, history):\n",
    "        \"\"\"\n",
    "        histories: History of all epochs of all folds\n",
    "        history:   History of current epoch of current fold\n",
    "        \"\"\"\n",
    "        histories[\"loss\"].append(history[\"loss\"])\n",
    "        histories[\"val_loss\"].append(history[\"val_loss\"])\n",
    "        histories[\"mean_absolute_error\"].append(history[\"mean_absolute_error\"])\n",
    "        histories[\"val_mean_absolute_error\"].append(history[\"val_mean_absolute_error\"])\n",
    "\n",
    "    @staticmethod\n",
    "    def get_history(history, type, num_ignore=20):\n",
    "        # MAE per epoch\n",
    "        mae = history[\"mean_absolute_error\"][num_ignore:]\n",
    "        val_mae = history[\"val_mean_absolute_error\"][num_ignore:]\n",
    "        print(\"Mean Training MAE: \", np.mean(mae))\n",
    "        print(\"Mean Validation MAE: \", np.mean(val_mae))\n",
    "        plt.title(\"MAE per epoch: {}\".format(type))\n",
    "        plt.plot(mae, \"b\")\n",
    "        plt.plot(val_mae, \"r\")\n",
    "        plt.show()\n",
    "\n",
    "    @staticmethod\n",
    "    def mean_history(histories):\n",
    "        \"\"\"\n",
    "        Function:\n",
    "        -------------------------------------------------------------------\n",
    "        - Mean of all folds per epoch\n",
    "\n",
    "        Example:\n",
    "        -------------------------------------------------------------------\n",
    "        - Loss = [\n",
    "        [[Epoch1_Fold1], [Epoch1_Fold2], [Epoch1_Fold3], [Epoch1_Fold4]],\n",
    "        [[Epoch2_Fold1], [Epoch2_Fold2], [Epoch2_Fold3], [Epoch2_Fold4]],\n",
    "        ...\n",
    "        ]\n",
    "\n",
    "        Note:\n",
    "        -------------------------------------------------------------------\n",
    "        - Dataset needs to be transposed. Because:\n",
    "            Given:    Metric per fold per epoch\n",
    "            Required: Metric per epoch per fold\n",
    "        - First fold is ignored because its results are always unstable (reason not known)\n",
    "        \"\"\"\n",
    "        history = {\n",
    "            \"loss\": [],\n",
    "            \"val_loss\": [],\n",
    "            \"mean_absolute_error\": [],\n",
    "            \"val_mean_absolute_error\": [],\n",
    "        }\n",
    "        m1 = np.array(histories[\"loss\"][1:]).transpose()\n",
    "        m2 = np.array(histories[\"val_loss\"][1:]).transpose()\n",
    "        m3 = np.array(histories[\"mean_absolute_error\"][1:]).transpose()\n",
    "        m4 = np.array(histories[\"val_mean_absolute_error\"][1:]).transpose()\n",
    "        history = {\n",
    "            \"loss\": [np.mean(loss_per_fold) for loss_per_fold in m1],\n",
    "            \"val_loss\": [np.mean(loss_per_fold) for loss_per_fold in m2],\n",
    "            \"mean_absolute_error\": [np.mean(loss_per_fold) for loss_per_fold in m3],\n",
    "            \"val_mean_absolute_error\": [np.mean(loss_per_fold) for loss_per_fold in m4],\n",
    "        }\n",
    "        return history\n",
    "\n",
    "    \"\"\"\n",
    "    =================================================================================\n",
    "    Training Exploration Functions\n",
    "    =================================================================================\n",
    "    \"\"\"\n",
    "\n",
    "    @staticmethod\n",
    "    def explore(train_loss, train_accuracy, val_loss, val_accuracy):\n",
    "        print(\"Training Loss: \", train_loss[-1])\n",
    "        print(\"Training Accuracy: \", train_accuracy[-1])\n",
    "        print(\"Validation Loss: \", val_loss[-1])\n",
    "        print(\"Validation Accuracy: \", val_accuracy[-1])\n",
    "\n",
    "        plt.title(\"Training and validation loss\")\n",
    "        plt.plot(train_loss, \"b\")\n",
    "        plt.plot(val_loss, \"r\")\n",
    "        plt.show()\n",
    "\n",
    "        plt.title(\"Training and validation accuracy\")\n",
    "        plt.plot(train_accuracy, \"b\")\n",
    "        plt.plot(val_accuracy, \"r\")\n",
    "        plt.show()"
   ]
  },
  {
   "cell_type": "markdown",
   "metadata": {},
   "source": [
    "---\n",
    "# **Binary Classification**\n",
    "---"
   ]
  },
  {
   "cell_type": "markdown",
   "metadata": {},
   "source": [
    "**Description**\n",
    "\n",
    "| Topic | Detail |\n",
    "| --- | --- |\n",
    "| Dataset | IMDB: Reviews of movies with a score for each movie |\n",
    "| Sample | Review (each word has a unique number) |\n",
    "| Last Activation | Sigmoid (Units=1) |\n",
    "| Loss | BinaryCrossentropy |\n",
    "| Optimizer | RMSprop |\n",
    "| Metric | BinaryAccuracy |\n",
    "| Units | Output size of layer. Defines how much info can be captured |\n"
   ]
  },
  {
   "cell_type": "markdown",
   "metadata": {},
   "source": [
    "**Dataset**"
   ]
  },
  {
   "cell_type": "code",
   "execution_count": 89,
   "metadata": {},
   "outputs": [],
   "source": [
    "num_words = 10000\n",
    "imdb = tf.keras.datasets.imdb\n",
    "(x_train_og, y_train_og), (x_test_og, y_test_og) = imdb.load_data(num_words=num_words)"
   ]
  },
  {
   "cell_type": "markdown",
   "metadata": {},
   "source": [
    "**Exploration**"
   ]
  },
  {
   "cell_type": "code",
   "execution_count": 90,
   "metadata": {},
   "outputs": [
    {
     "name": "stdout",
     "output_type": "stream",
     "text": [
      "['cop', 'film', 'secret']\n"
     ]
    }
   ],
   "source": [
    "print(Common.decode_data(imdb, [999, 19, 1000]))"
   ]
  },
  {
   "cell_type": "markdown",
   "metadata": {},
   "source": [
    "**Encoding**"
   ]
  },
  {
   "cell_type": "code",
   "execution_count": 91,
   "metadata": {},
   "outputs": [],
   "source": [
    "x_train = Common.encode_data(x_train_og, num_words)\n",
    "y_train = np.asarray(y_train_og).astype(np.float32)\n",
    "\n",
    "x_test = Common.encode_data(x_test_og, num_words)\n",
    "y_test = np.asarray(y_test_og).astype(np.float32)"
   ]
  },
  {
   "cell_type": "markdown",
   "metadata": {},
   "source": [
    "**Validation**"
   ]
  },
  {
   "cell_type": "code",
   "execution_count": 92,
   "metadata": {},
   "outputs": [],
   "source": [
    "x_train, y_train, x_val, y_val = Common.train_val_data(x_train, y_train)"
   ]
  },
  {
   "cell_type": "markdown",
   "metadata": {},
   "source": [
    "**Model**"
   ]
  },
  {
   "cell_type": "code",
   "execution_count": 93,
   "metadata": {},
   "outputs": [],
   "source": [
    "learning_rate = 1e-4\n",
    "epochs = 10\n",
    "\n",
    "\n",
    "def get_model():\n",
    "    # Create the model\n",
    "    # Output: Probability\n",
    "    model = tf.keras.Sequential(\n",
    "        [\n",
    "            tf.keras.layers.Dense(units=32, activation=tf.nn.relu),\n",
    "            tf.keras.layers.Dense(units=32, activation=tf.nn.relu),\n",
    "            tf.keras.layers.Dense(units=1, activation=tf.nn.sigmoid),\n",
    "        ]\n",
    "    )\n",
    "\n",
    "    # Configure the model\n",
    "    model.compile(\n",
    "        loss=tf.keras.losses.BinaryCrossentropy(),\n",
    "        metrics=[tf.keras.metrics.BinaryAccuracy()],\n",
    "        optimizer=tf.keras.optimizers.RMSprop(learning_rate=learning_rate),\n",
    "    )\n",
    "\n",
    "    return model"
   ]
  },
  {
   "cell_type": "markdown",
   "metadata": {},
   "source": [
    "**Training**"
   ]
  },
  {
   "cell_type": "code",
   "execution_count": 94,
   "metadata": {},
   "outputs": [
    {
     "name": "stderr",
     "output_type": "stream",
     "text": [
      "WARNING:absl:At this time, the v2.11+ optimizer `tf.keras.optimizers.RMSprop` runs slowly on M1/M2 Macs, please use the legacy Keras optimizer instead, located at `tf.keras.optimizers.legacy.RMSprop`.\n"
     ]
    }
   ],
   "source": [
    "model = get_model()\n",
    "history = model.fit(\n",
    "    x=x_train, y=y_train, epochs=epochs, validation_data=(x_val, y_val), verbose=False\n",
    ")"
   ]
  },
  {
   "cell_type": "markdown",
   "metadata": {},
   "source": [
    "**Exploration**"
   ]
  },
  {
   "cell_type": "code",
   "execution_count": 95,
   "metadata": {},
   "outputs": [
    {
     "name": "stdout",
     "output_type": "stream",
     "text": [
      "dict_keys(['loss', 'binary_accuracy', 'val_loss', 'val_binary_accuracy'])\n",
      "Training Loss:  0.11748116463422775\n",
      "Training Accuracy:  0.9598285555839539\n",
      "Validation Loss:  0.3135225474834442\n",
      "Validation Accuracy:  0.8844000101089478\n"
     ]
    },
    {
     "data": {
      "image/png": "[encoded data removed]",
      "text/plain": [
       "<Figure size 640x480 with 1 Axes>"
      ]
     },
     "metadata": {},
     "output_type": "display_data"
    },
    {
     "data": {
      "image/png": "[encoded data removed]",
      "text/plain": [
       "<Figure size 640x480 with 1 Axes>"
      ]
     },
     "metadata": {},
     "output_type": "display_data"
    }
   ],
   "source": [
    "print(history.history.keys())\n",
    "\n",
    "train_loss = history.history[\"loss\"]\n",
    "train_accuracy = history.history[\"binary_accuracy\"]\n",
    "val_loss = history.history[\"val_loss\"]\n",
    "val_accuracy = history.history[\"val_binary_accuracy\"]\n",
    "\n",
    "Common.explore(train_loss, train_accuracy, val_loss, val_accuracy)"
   ]
  },
  {
   "cell_type": "markdown",
   "metadata": {},
   "source": [
    "**Evaluation**"
   ]
  },
  {
   "cell_type": "code",
   "execution_count": 96,
   "metadata": {},
   "outputs": [
    {
     "name": "stdout",
     "output_type": "stream",
     "text": [
      "782/782 [==============================] - 0s 432us/step - loss: 0.3392 - binary_accuracy: 0.8773\n",
      "['loss', 'binary_accuracy']\n"
     ]
    }
   ],
   "source": [
    "evaluation = model.evaluate(x=x_test, y=y_test)\n",
    "print(model.metrics_names)"
   ]
  },
  {
   "cell_type": "markdown",
   "metadata": {},
   "source": [
    "**Prediction**"
   ]
  },
  {
   "cell_type": "code",
   "execution_count": 97,
   "metadata": {},
   "outputs": [
    {
     "name": "stdout",
     "output_type": "stream",
     "text": [
      "782/782 [==============================] - 0s 418us/step\n"
     ]
    }
   ],
   "source": [
    "# Prediction: Probability that a review is positive\n",
    "y_predict = model.predict(x_test)[:, 0]"
   ]
  },
  {
   "cell_type": "markdown",
   "metadata": {},
   "source": [
    "---\n",
    "# **Muticlass Classification**\n",
    "---"
   ]
  },
  {
   "cell_type": "markdown",
   "metadata": {},
   "source": [
    "**Description**\n",
    "\n",
    "| Topic | Detail |\n",
    "|--- | --- |\n",
    "| Dataset | Reuters: Newswires with a topic for each newswire |\n",
    "| Sample | Newswire (each word has a unique number) |\n",
    "| Target | Topics (46) |\n",
    "| Last Activation | Softmax (Units=46) |\n",
    "| Loss | CategoricalCrossentropy |\n",
    "| Optimizer | RMSprop |\n",
    "| Metric | CategoricalAccuracy |\n",
    "| Note | Units in hidden layers should **always be more** than last layer |"
   ]
  },
  {
   "cell_type": "markdown",
   "metadata": {},
   "source": [
    "**Dataset**"
   ]
  },
  {
   "cell_type": "code",
   "execution_count": 98,
   "metadata": {},
   "outputs": [],
   "source": [
    "num_words = 10000\n",
    "\n",
    "reuters = tf.keras.datasets.reuters\n",
    "(x_train_og, y_train_og), (x_test_og, y_test_og) = reuters.load_data(\n",
    "    num_words=num_words\n",
    ")"
   ]
  },
  {
   "cell_type": "markdown",
   "metadata": {},
   "source": [
    "**Exploration**"
   ]
  },
  {
   "cell_type": "code",
   "execution_count": 99,
   "metadata": {},
   "outputs": [
    {
     "name": "stdout",
     "output_type": "stream",
     "text": [
      "['totalled', 'from', 'limit']\n"
     ]
    }
   ],
   "source": [
    "print(Common.decode_data(reuters, [999, 19, 1000]))"
   ]
  },
  {
   "cell_type": "markdown",
   "metadata": {},
   "source": [
    "**Encoding**"
   ]
  },
  {
   "cell_type": "code",
   "execution_count": 100,
   "metadata": {},
   "outputs": [],
   "source": [
    "x_train = Common.encode_data(x_train_og, num_words)\n",
    "y_train = tf.keras.utils.to_categorical(y_train_og)\n",
    "\n",
    "x_test = Common.encode_data(x_test_og, num_words)\n",
    "y_test = tf.keras.utils.to_categorical(y_test_og)"
   ]
  },
  {
   "cell_type": "markdown",
   "metadata": {},
   "source": [
    "**Alternate Encoding**"
   ]
  },
  {
   "cell_type": "code",
   "execution_count": 101,
   "metadata": {},
   "outputs": [],
   "source": [
    "\"\"\"\n",
    "Use SparseCategoricalCrossentropy as a loss function\n",
    "\"\"\"\n",
    "y_train_alternate = np.array(y_train_og)\n",
    "y_test_alternate = np.array(y_test_og)"
   ]
  },
  {
   "cell_type": "markdown",
   "metadata": {},
   "source": [
    "**Validation**"
   ]
  },
  {
   "cell_type": "code",
   "execution_count": 102,
   "metadata": {},
   "outputs": [],
   "source": [
    "x_train, y_train, x_val, y_val = Common.train_val_data(x_train, y_train)"
   ]
  },
  {
   "cell_type": "markdown",
   "metadata": {},
   "source": [
    "**Model**"
   ]
  },
  {
   "cell_type": "code",
   "execution_count": 103,
   "metadata": {},
   "outputs": [],
   "source": [
    "learning_rate = 1e-4\n",
    "epochs = 10\n",
    "\n",
    "\n",
    "def get_model():\n",
    "    # Create the model\n",
    "    # Output: Probability Distribution\n",
    "    model = tf.keras.Sequential(\n",
    "        [\n",
    "            tf.keras.layers.Dense(units=512, activation=tf.nn.relu),\n",
    "            tf.keras.layers.Dense(units=512, activation=tf.nn.relu),\n",
    "            tf.keras.layers.Dense(units=46, activation=tf.nn.softmax),\n",
    "        ]\n",
    "    )\n",
    "\n",
    "    # Configure the model\n",
    "    model.compile(\n",
    "        loss=tf.keras.losses.CategoricalCrossentropy(),\n",
    "        metrics=[tf.keras.metrics.CategoricalAccuracy()],\n",
    "        optimizer=tf.keras.optimizers.RMSprop(learning_rate=learning_rate),\n",
    "    )\n",
    "    return model"
   ]
  },
  {
   "cell_type": "markdown",
   "metadata": {},
   "source": [
    "**Training**"
   ]
  },
  {
   "cell_type": "code",
   "execution_count": 104,
   "metadata": {},
   "outputs": [
    {
     "name": "stderr",
     "output_type": "stream",
     "text": [
      "WARNING:absl:At this time, the v2.11+ optimizer `tf.keras.optimizers.RMSprop` runs slowly on M1/M2 Macs, please use the legacy Keras optimizer instead, located at `tf.keras.optimizers.legacy.RMSprop`.\n"
     ]
    }
   ],
   "source": [
    "model = get_model()\n",
    "history = model.fit(\n",
    "    x=x_train, y=y_train, epochs=epochs, validation_data=(x_val, y_val), verbose=False\n",
    ")"
   ]
  },
  {
   "cell_type": "markdown",
   "metadata": {},
   "source": [
    "**Exploration**"
   ]
  },
  {
   "cell_type": "code",
   "execution_count": 105,
   "metadata": {},
   "outputs": [
    {
     "name": "stdout",
     "output_type": "stream",
     "text": [
      "dict_keys(['loss', 'categorical_accuracy', 'val_loss', 'val_categorical_accuracy'])\n",
      "Training Loss:  0.21928465366363525\n",
      "Training Accuracy:  0.9495865106582642\n",
      "Validation Loss:  0.8956505656242371\n",
      "Validation Accuracy:  0.8103192448616028\n"
     ]
    },
    {
     "data": {
      "image/png": "[encoded data removed]",
      "text/plain": [
       "<Figure size 640x480 with 1 Axes>"
      ]
     },
     "metadata": {},
     "output_type": "display_data"
    },
    {
     "data": {
      "image/png": "[encoded data removed]",
      "text/plain": [
       "<Figure size 640x480 with 1 Axes>"
      ]
     },
     "metadata": {},
     "output_type": "display_data"
    }
   ],
   "source": [
    "print(history.history.keys())\n",
    "\n",
    "train_loss = history.history[\"loss\"]\n",
    "train_accuracy = history.history[\"categorical_accuracy\"]\n",
    "val_loss = history.history[\"val_loss\"]\n",
    "val_accuracy = history.history[\"val_categorical_accuracy\"]\n",
    "\n",
    "Common.explore(train_loss, train_accuracy, val_loss, val_accuracy)"
   ]
  },
  {
   "cell_type": "markdown",
   "metadata": {},
   "source": [
    "**Evaluation**"
   ]
  },
  {
   "cell_type": "code",
   "execution_count": 106,
   "metadata": {},
   "outputs": [
    {
     "name": "stdout",
     "output_type": "stream",
     "text": [
      "Evaluation Loss:  0.9736537933349609\n",
      "Evaluation Accuracy:  0.7867319583892822\n"
     ]
    }
   ],
   "source": [
    "evaluation = model.evaluate(x=x_test, y=y_test, verbose=False)\n",
    "print(\"Evaluation Loss: \", evaluation[0])\n",
    "print(\"Evaluation Accuracy: \", evaluation[1])"
   ]
  },
  {
   "cell_type": "markdown",
   "metadata": {},
   "source": [
    "**Prediction**"
   ]
  },
  {
   "cell_type": "code",
   "execution_count": 107,
   "metadata": {},
   "outputs": [
    {
     "name": "stdout",
     "output_type": "stream",
     "text": [
      "71/71 [==============================] - 0s 2ms/step\n",
      "----------------------------------------------\n",
      "True: 3\n",
      "Pred: 3\n",
      "Confidence: 98%\n",
      "----------------------------------------------\n",
      "True: 10\n",
      "Pred: 10\n",
      "Confidence: 98%\n",
      "----------------------------------------------\n",
      "True: 1\n",
      "Pred: 1\n",
      "Confidence: 90%\n",
      "----------------------------------------------\n",
      "True: 4\n",
      "Pred: 16\n",
      "Confidence: 72%\n",
      "----------------------------------------------\n",
      "True: 4\n",
      "Pred: 13\n",
      "Confidence: 99%\n"
     ]
    }
   ],
   "source": [
    "y_predict = model.predict(x_test)\n",
    "for predict, ground in zip(y_predict[:5], y_test[:5]):\n",
    "    print(\"----------------------------------------------\")\n",
    "    print(\"True: {}\".format(np.argmax(ground)))\n",
    "    print(\"Pred: {}\".format(np.argmax(predict)))\n",
    "    print(\"Confidence: {}%\".format(int(max(predict) * 100)))"
   ]
  },
  {
   "cell_type": "markdown",
   "metadata": {},
   "source": [
    "---\n",
    "# **Scalar Regression**\n",
    "---"
   ]
  },
  {
   "cell_type": "markdown",
   "metadata": {},
   "source": [
    "**Description**\n",
    "\n",
    "| Topic | Detail |\n",
    "|--- | --- |\n",
    "| Dataset | Boston housing prices given features e.g. crime rate, tax rate etc. |\n",
    "| Sample | Features (13) of a house |\n",
    "| Target | Price (1) of a house |\n",
    "| Last Activation | None (Units=1) |\n",
    "| Loss | MeanSquaredError |\n",
    "| Optimizer | RMSprop |\n",
    "| Metric | MeanAbsoluteError |\n",
    "| Logistic Regression | Not same as Scalar Regression. A type of classification |\n",
    "| Linear Regression | Type of Scalar Regression |\n",
    "| Non-uniform scaling | Each feature has a different scale  |\n",
    "| Feature-wise normalization | Features must be centered around 0 with unit standard deviation |"
   ]
  },
  {
   "cell_type": "markdown",
   "metadata": {},
   "source": [
    "**Dataset**"
   ]
  },
  {
   "cell_type": "code",
   "execution_count": 108,
   "metadata": {},
   "outputs": [],
   "source": [
    "(samples, labels), (\n",
    "    test_samples,\n",
    "    test_labels,\n",
    ") = tf.keras.datasets.boston_housing.load_data()"
   ]
  },
  {
   "cell_type": "markdown",
   "metadata": {},
   "source": [
    "**Feature-wise Normalization**"
   ]
  },
  {
   "cell_type": "code",
   "execution_count": 109,
   "metadata": {},
   "outputs": [],
   "source": [
    "# Samples are centered arond 0\n",
    "mean = samples.mean(axis=0)\n",
    "samples -= mean\n",
    "\n",
    "# Samples have unit standard deviation\n",
    "std = samples.std(axis=0)\n",
    "samples /= std\n",
    "\n",
    "# Test dataset (using mean/std from samples)\n",
    "test_samples -= mean\n",
    "test_samples /= std"
   ]
  },
  {
   "cell_type": "markdown",
   "metadata": {},
   "source": [
    "**Model**"
   ]
  },
  {
   "cell_type": "code",
   "execution_count": 110,
   "metadata": {},
   "outputs": [],
   "source": [
    "epochs = 120\n",
    "\n",
    "\n",
    "def get_model():\n",
    "    # Output: Continuous Value\n",
    "    model = tf.keras.Sequential(\n",
    "        [\n",
    "            tf.keras.layers.Dense(units=96, activation=tf.nn.relu),\n",
    "            tf.keras.layers.Dense(units=96, activation=tf.nn.relu),\n",
    "            tf.keras.layers.Dense(units=1, activation=None),\n",
    "        ]\n",
    "    )\n",
    "\n",
    "    # Configure the model\n",
    "    model.compile(\n",
    "        loss=tf.keras.losses.MeanSquaredError(),\n",
    "        metrics=[tf.keras.metrics.MeanAbsoluteError()],\n",
    "        optimizer=tf.keras.optimizers.legacy.RMSprop(),\n",
    "    )\n",
    "    return model\n",
    "\n",
    "\n",
    "def get_prediction(input_model, type, num_predict=3):\n",
    "    y_predict = input_model.predict(test_samples, verbose=False)\n",
    "    print()\n",
    "    print(\"==================================================\")\n",
    "    print(type)\n",
    "    print(\"==================================================\")\n",
    "    print()\n",
    "    for predict, ground in zip(y_predict[:num_predict], test_labels[:num_predict]):\n",
    "        print(\"Ground: {} Predict: {}\".format(ground, predict[0]))\n",
    "        print(\"Error: {}\".format(abs(ground - predict[0])))\n",
    "        print()\n",
    "\n",
    "\n",
    "def get_evaluation(input_model, type):\n",
    "    _, test_mae_score = input_model.evaluate(test_samples, test_labels, verbose=False)\n",
    "    print(\"Mean Test MAE ({}): {}\".format(type, test_mae_score))"
   ]
  },
  {
   "cell_type": "markdown",
   "metadata": {},
   "source": [
    "### <ins>**01. Training with Standard Split**</ins>"
   ]
  },
  {
   "cell_type": "markdown",
   "metadata": {},
   "source": [
    "**Train / Val Dataset**"
   ]
  },
  {
   "cell_type": "code",
   "execution_count": 111,
   "metadata": {},
   "outputs": [],
   "source": [
    "train_samples, train_labels, val_samples, val_labels = Common.train_val_data(\n",
    "    samples, labels, 0.3\n",
    ")"
   ]
  },
  {
   "cell_type": "markdown",
   "metadata": {},
   "source": [
    "**Training**"
   ]
  },
  {
   "cell_type": "code",
   "execution_count": 118,
   "metadata": {},
   "outputs": [],
   "source": [
    "standard_model = get_model()\n",
    "standard_history = standard_model.fit(\n",
    "    x=train_samples,\n",
    "    y=train_labels,\n",
    "    epochs=epochs,\n",
    "    validation_data=(val_samples, val_labels),\n",
    "    verbose=False,\n",
    ")"
   ]
  },
  {
   "cell_type": "markdown",
   "metadata": {},
   "source": [
    "**Summary**\n",
    "\n",
    "- When the dataset is very small, normal train/val division (70% / 30%) does not work good\n",
    "- K-Fold Cross-Validation is the recommended method\n"
   ]
  },
  {
   "cell_type": "markdown",
   "metadata": {},
   "source": [
    "### <ins>**02. Training with K-Fold Cross-Validation**</ins>"
   ]
  },
  {
   "cell_type": "markdown",
   "metadata": {},
   "source": [
    "  **Explanation**\n",
    "  - Divide dataset into multiple small folds\n",
    "  - This way whole dataset is used for training as well as  validation\n",
    "  - Take the mean after all iterations"
   ]
  },
  {
   "cell_type": "markdown",
   "metadata": {},
   "source": [
    "**Example**"
   ]
  },
  {
   "cell_type": "code",
   "execution_count": 113,
   "metadata": {},
   "outputs": [],
   "source": [
    "\"\"\"\n",
    "Note: Run the snippet in debugger mode with breakpoint in the k-fold function\n",
    "\"\"\"\n",
    "Common.explore_k_fold()"
   ]
  },
  {
   "cell_type": "markdown",
   "metadata": {},
   "source": [
    "**Training**"
   ]
  },
  {
   "cell_type": "code",
   "execution_count": 127,
   "metadata": {},
   "outputs": [],
   "source": [
    "num_fold = 10\n",
    "fold_size = len(samples) // num_fold\n",
    "\n",
    "# History per fold per epoch\n",
    "histories = {\n",
    "    \"loss\": [],\n",
    "    \"val_loss\": [],\n",
    "    \"mean_absolute_error\": [],\n",
    "    \"val_mean_absolute_error\": [],\n",
    "}\n",
    "\n",
    "# Training per fold\n",
    "for fold_count in range(num_fold):\n",
    "    # Samples using K-Fold\n",
    "    train_samples, val_samples = Common.train_val_data_kfold(\n",
    "        samples, fold_count, fold_size\n",
    "    )\n",
    "    # Labels using K-Fold\n",
    "    train_labels, val_labels = Common.train_val_data_kfold(\n",
    "        labels, fold_count, fold_size\n",
    "    )\n",
    "    # New model per fold\n",
    "    kfold_model = get_model()\n",
    "    # Training\n",
    "    history_per_epoch = kfold_model.fit(\n",
    "        x=train_samples,\n",
    "        y=train_labels,\n",
    "        epochs=epochs,\n",
    "        validation_data=(val_samples, val_labels),\n",
    "        verbose=False,\n",
    "    )\n",
    "    # Save history per epoch per fold\n",
    "    Common.save_history(histories, history_per_epoch.history)\n",
    "\n",
    "# Mean history of all fold for each epoch\n",
    "kfold_history = Common.mean_history(histories)"
   ]
  },
  {
   "cell_type": "markdown",
   "metadata": {},
   "source": [
    "### **03. Comparison of Standard and K-Fold**"
   ]
  },
  {
   "cell_type": "markdown",
   "metadata": {},
   "source": [
    "**Exploration**"
   ]
  },
  {
   "cell_type": "code",
   "execution_count": 128,
   "metadata": {},
   "outputs": [
    {
     "name": "stdout",
     "output_type": "stream",
     "text": [
      "Mean Training MAE:  1.869376757144928\n",
      "Mean Validation MAE:  2.2429565834999083\n"
     ]
    },
    {
     "data": {
      "image/png": "[encoded data removed]",
      "text/plain": [
       "<Figure size 640x480 with 1 Axes>"
      ]
     },
     "metadata": {},
     "output_type": "display_data"
    },
    {
     "name": "stdout",
     "output_type": "stream",
     "text": [
      "Mean Training MAE:  1.830373896360397\n",
      "Mean Validation MAE:  2.4461058790153927\n"
     ]
    },
    {
     "data": {
      "image/png": "[encoded data removed]",
      "text/plain": [
       "<Figure size 640x480 with 1 Axes>"
      ]
     },
     "metadata": {},
     "output_type": "display_data"
    }
   ],
   "source": [
    "Common.get_history(standard_history.history, \"Standard\")\n",
    "Common.get_history(kfold_history, \"K-Fold\")"
   ]
  },
  {
   "cell_type": "markdown",
   "metadata": {},
   "source": [
    "**Evaluation**"
   ]
  },
  {
   "cell_type": "code",
   "execution_count": 129,
   "metadata": {},
   "outputs": [
    {
     "name": "stdout",
     "output_type": "stream",
     "text": [
      "Mean Test MAE (Standard): 2.5501089096069336\n",
      "Mean Test MAE (K-Fold): 2.517080783843994\n"
     ]
    }
   ],
   "source": [
    "get_evaluation(standard_model, \"Standard\")\n",
    "get_evaluation(kfold_model, \"K-Fold\")"
   ]
  },
  {
   "cell_type": "markdown",
   "metadata": {},
   "source": [
    "**Prediction**"
   ]
  },
  {
   "cell_type": "code",
   "execution_count": 130,
   "metadata": {},
   "outputs": [
    {
     "name": "stdout",
     "output_type": "stream",
     "text": [
      "\n",
      "==================================================\n",
      "Standard\n",
      "==================================================\n",
      "\n",
      "Ground: 7.2 Predict: 7.762303352355957\n",
      "Error: 0.5623033523559569\n",
      "\n",
      "Ground: 18.8 Predict: 19.152864456176758\n",
      "Error: 0.3528644561767571\n",
      "\n",
      "Ground: 19.0 Predict: 21.361473083496094\n",
      "Error: 2.3614730834960938\n",
      "\n",
      "\n",
      "==================================================\n",
      "K-Fold\n",
      "==================================================\n",
      "\n",
      "Ground: 7.2 Predict: 7.8391852378845215\n",
      "Error: 0.6391852378845213\n",
      "\n",
      "Ground: 18.8 Predict: 19.255168914794922\n",
      "Error: 0.45516891479492116\n",
      "\n",
      "Ground: 19.0 Predict: 21.73274803161621\n",
      "Error: 2.732748031616211\n",
      "\n"
     ]
    }
   ],
   "source": [
    "get_prediction(standard_model, \"Standard\")\n",
    "get_prediction(kfold_model, \"K-Fold\")"
   ]
  }
 ],
 "metadata": {
  "kernelspec": {
   "display_name": "projects",
   "language": "python",
   "name": "python3"
  },
  "language_info": {
   "codemirror_mode": {
    "name": "ipython",
    "version": 3
   },
   "file_extension": ".py",
   "mimetype": "text/x-python",
   "name": "python",
   "nbconvert_exporter": "python",
   "pygments_lexer": "ipython3",
   "version": "3.11.5"
  }
 },
 "nbformat": 4,
 "nbformat_minor": 2
}
