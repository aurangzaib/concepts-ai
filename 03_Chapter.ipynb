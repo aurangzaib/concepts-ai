{
  "cells": [
    {
      "cell_type": "code",
      "execution_count": 89,
      "metadata": {
        "id": "I4KXsS7ljMGk"
      },
      "outputs": [],
      "source": [
        "import matplotlib.pyplot as plt\n",
        "import tensorflow as tf\n",
        "import numpy as np\n",
        "import math"
      ]
    },
    {
      "cell_type": "markdown",
      "metadata": {
        "id": "gDMZbc7bn1eZ"
      },
      "source": [
        "# TensorFlow:\n",
        "|  Concept | Description  |\n",
        "|---|---|\n",
        "| Static Computation Graphs  | Calculate gradient of a variable using automatic differentation |\n",
        "|  Runtimes |  TensorFlow can be run in C++, JavaScript, and mobile devices (TensorFlow Lite)| \n",
        "|  TensorFlow Serving | Production deployment  |\n",
        "|  TF-Agents | Reinforcement Learning  |\n",
        "|  TensorFlow Hub | Pretrained models  |\n",
        "|  TFX | Industrial Machine Learning  |\n",
        "\n",
        "--    \n",
        "\n",
        "|  Use Case | Description  |\n",
        "|---|---|\n",
        "| Variable creation| tf.Variable |\n",
        "| Mathematical Transformations| tf.matmul |\n",
        "| Backpropagation | tf.GradientTape |"
      ]
    },
    {
      "cell_type": "markdown",
      "metadata": {
        "id": "4koUjyYkptnz"
      },
      "source": [
        "# Keras:\n",
        "\n",
        "|  Use Case | Description  |\n",
        "|---|---|\n",
        "| Layers| tf.keras.layers |\n",
        "| Loss Functions| tf.keras.losses.sparse_categorical_crossentropy |\n",
        "| Metrics | accuracy |\n",
        "| Optimizer | tf.keras.optimizers.SGD |"
      ]
    },
    {
      "cell_type": "markdown",
      "metadata": {
        "id": "oqkLNl12heox"
      },
      "source": [
        "# Tensor Variable and Constant"
      ]
    },
    {
      "cell_type": "code",
      "execution_count": 90,
      "metadata": {
        "colab": {
          "base_uri": "https://localhost:8080/"
        },
        "id": "UM36IQiMgfYQ",
        "outputId": "535c0130-4a0b-4906-d484-12f562649280"
      },
      "outputs": [
        {
          "data": {
            "text/plain": [
              "<tf.Tensor: shape=(2, 2), dtype=float32, numpy=\n",
              "array([[ 3.2258153,  7.779939 ],\n",
              "       [ 5.1795845, 13.991698 ]], dtype=float32)>"
            ]
          },
          "execution_count": 90,
          "metadata": {},
          "output_type": "execute_result"
        }
      ],
      "source": [
        "# Constant\n",
        "tf.zeros(shape=(2, 1))\n",
        "tf.ones(shape=(2, 2))\n",
        "tf.random.uniform(shape=(2, 2), minval=0, maxval=1e-3)\n",
        "tf.random.normal(shape=(2, 2), mean=0.0, stddev=1.0)\n",
        "\n",
        "# Variable\n",
        "tf_var1 = tf.Variable(initial_value=tf.ones(shape=(2, 2)))\n",
        "tf_var2 = tf.Variable(initial_value=tf.random.uniform(shape=(2, 2)))\n",
        "\n",
        "# Assign\n",
        "tf_var1[1, 1].assign(3)\n",
        "\n",
        "# Math operations\n",
        "tf.square(tf_var1)  # Square\n",
        "tf.sqrt(tf_var1)  # Square root\n",
        "\n",
        "tf_var1 + tf_var2  # Add (Elementwise)\n",
        "tf_var1.assign_add(tf_var2)  # tf_var1 += tf_var2\n",
        "\n",
        "tf_var1 * tf_var1  # Multiply (Elementwise)\n",
        "tf.matmul(tf_var1, tf_var1)  # Multiply (Dot Product)"
      ]
    },
    {
      "cell_type": "markdown",
      "metadata": {
        "id": "A42Lko3A9MeA"
      },
      "source": [
        "# 1st Order Gradient"
      ]
    },
    {
      "cell_type": "code",
      "execution_count": 91,
      "metadata": {
        "colab": {
          "base_uri": "https://localhost:8080/"
        },
        "id": "SnoCVcCP9Mo5",
        "outputId": "532db68d-8a9d-456f-d6ab-ce4f1ea8d682"
      },
      "outputs": [
        {
          "name": "stdout",
          "output_type": "stream",
          "text": [
            "<tf.Variable 'Variable:0' shape=() dtype=float32, numpy=3.0>\n",
            "3.0\n",
            "tf.Tensor(9.0, shape=(), dtype=float32)\n",
            "tf.Tensor(6.0, shape=(), dtype=float32)\n"
          ]
        }
      ],
      "source": [
        "input_var = tf.Variable(initial_value=3.0)  # x\n",
        "with tf.GradientTape() as tape:\n",
        "    result = tf.square(input_var)  # x**2\n",
        "gradient = tape.gradient(result, input_var)  # 2x\n",
        "\n",
        "print(input_var)\n",
        "print(input_var.numpy())\n",
        "print(result)\n",
        "print(gradient)"
      ]
    },
    {
      "cell_type": "code",
      "execution_count": 92,
      "metadata": {
        "colab": {
          "base_uri": "https://localhost:8080/"
        },
        "id": "OKmxRHCF9__K",
        "outputId": "60a9f1aa-6956-4cde-c3bb-feafc69e623d"
      },
      "outputs": [
        {
          "name": "stdout",
          "output_type": "stream",
          "text": [
            "tf.Tensor(3.0, shape=(), dtype=float32)\n",
            "3.0\n",
            "tf.Tensor(9.0, shape=(), dtype=float32)\n",
            "tf.Tensor(6.0, shape=(), dtype=float32)\n"
          ]
        }
      ],
      "source": [
        "input_const = tf.constant(value=3.0)\n",
        "with tf.GradientTape() as tape:\n",
        "    tape.watch(input_const)\n",
        "    result = tf.square(input_const)\n",
        "gradient = tape.gradient(result, input_const)\n",
        "\n",
        "print(input_const)\n",
        "print(input_const.numpy())\n",
        "print(result)\n",
        "print(gradient)"
      ]
    },
    {
      "cell_type": "markdown",
      "metadata": {
        "id": "tooZmT2sAvEb"
      },
      "source": [
        "# 2nd Order Gradient"
      ]
    },
    {
      "cell_type": "code",
      "execution_count": 104,
      "metadata": {
        "colab": {
          "base_uri": "https://localhost:8080/"
        },
        "id": "QhJOQWpN-zNV",
        "outputId": "cf818ff1-5c82-4d34-8ecb-a687fdab92db"
      },
      "outputs": [
        {
          "name": "stdout",
          "output_type": "stream",
          "text": [
            "tf.Tensor(497.25, shape=(), dtype=float32)\n",
            "tf.Tensor(198.9, shape=(), dtype=float32)\n",
            "tf.Tensor(39.78, shape=(), dtype=float32)\n"
          ]
        }
      ],
      "source": [
        "time = tf.Variable(initial_value=5.0)\n",
        "with tf.GradientTape() as outer_tape:\n",
        "    with tf.GradientTape() as inner_tape:\n",
        "        position = (1 / 2.0) * (39.78) * (time**2)  # 1/2 * a * t2\n",
        "    velocity = inner_tape.gradient(position, time)  # a * t\n",
        "acceleration = outer_tape.gradient(velocity, time)  # a\n",
        "\n",
        "print(position)\n",
        "print(velocity)\n",
        "print(acceleration)"
      ]
    },
    {
      "cell_type": "markdown",
      "metadata": {},
      "source": [
        "# TensorFlow Linear Classifier"
      ]
    },
    {
      "cell_type": "markdown",
      "metadata": {},
      "source": [
        "**Dataset**"
      ]
    },
    {
      "cell_type": "code",
      "execution_count": 94,
      "metadata": {},
      "outputs": [],
      "source": [
        "n_samples = 1000\n",
        "neg_samples = np.random.multivariate_normal(\n",
        "    mean=[0, 3], cov=[[1.0, 0.5], [0.5, 1.0]], size=n_samples\n",
        ")\n",
        "neg_targets = np.zeros(shape=(n_samples, 1))\n",
        "pos_samples = np.random.multivariate_normal(\n",
        "    mean=[3, 0], cov=[[1.0, 0.5], [0.5, 1.0]], size=n_samples\n",
        ")\n",
        "pos_targets = np.ones(shape=(n_samples, 1))\n",
        "\n",
        "samples = np.vstack((neg_samples, pos_samples)).astype(np.float32)\n",
        "targets = np.vstack((neg_targets, pos_targets)).astype(np.float32)\n",
        "\n",
        "pos_test_samples = np.array([[4, 0], [5, -2], [2, -1]]).astype(np.float32)\n",
        "neg_test_samples = np.array([[0, 2], [1, 4], [2, 4]]).astype(np.float32)\n",
        "\n",
        "input_dim = 2  # x, y\n",
        "output_dim = 1  # y"
      ]
    },
    {
      "cell_type": "markdown",
      "metadata": {},
      "source": [
        "**Exploration**"
      ]
    },
    {
      "cell_type": "code",
      "execution_count": 95,
      "metadata": {},
      "outputs": [
        {
          "data": {
            "text/plain": [
              "<matplotlib.collections.PathCollection at 0x131fbe790>"
            ]
          },
          "execution_count": 95,
          "metadata": {},
          "output_type": "execute_result"
        },
        {
          "data": {
            "image/png": "[encoded data removed]",
            "text/plain": [
              "<Figure size 640x480 with 1 Axes>"
            ]
          },
          "metadata": {},
          "output_type": "display_data"
        }
      ],
      "source": [
        "plt.scatter(x=pos_samples[:, 0], y=pos_samples[:, 1])\n",
        "plt.scatter(x=neg_samples[:, 0], y=neg_samples[:, 1])"
      ]
    },
    {
      "cell_type": "markdown",
      "metadata": {},
      "source": [
        "**Classifier**"
      ]
    },
    {
      "cell_type": "code",
      "execution_count": 96,
      "metadata": {},
      "outputs": [],
      "source": [
        "class LinearClassifier:\n",
        "    def __init__(self, inputs, targets, input_dim, output_dim):\n",
        "        self.w = tf.Variable(tf.random.uniform((input_dim, output_dim)))\n",
        "        self.b = tf.Variable(tf.zeros((output_dim,)))\n",
        "        self.learning_rate = 0.1\n",
        "        self.targets = targets\n",
        "        self.inputs = inputs\n",
        "\n",
        "    def fit(self):\n",
        "        # ------------------------------------\n",
        "        # Forward Propagation\n",
        "        # ------------------------------------\n",
        "        with tf.GradientTape() as tape:\n",
        "            # Find prediction (no activation function is used)\n",
        "            predicted_targets = tf.matmul(self.inputs, self.w) + self.b\n",
        "            # Find loss (Mean Squared Error)\n",
        "            predicted_loss = tf.reduce_mean(tf.square(self.targets - predicted_targets))\n",
        "        # ------------------------------------\n",
        "        # Backward Propagation\n",
        "        # ------------------------------------\n",
        "        # Find gradient\n",
        "        gradient_w, gradient_b = tape.gradient(predicted_loss, [self.w, self.b])\n",
        "        # Update weight and bias\n",
        "        self.w.assign_sub(self.learning_rate * gradient_w)\n",
        "        self.b.assign_sub(self.learning_rate * gradient_b)\n",
        "        return predicted_loss\n",
        "\n",
        "    def predict(self, inputs):\n",
        "        return tf.matmul(inputs, self.w) + self.b\n",
        "\n",
        "    def label(self, values):\n",
        "        labels = []\n",
        "        for value in values.numpy():\n",
        "            labels.append(\"Positive\" if value > 0.5 else \"Negative\")\n",
        "        return labels\n",
        "\n",
        "    def parameters(self):\n",
        "        print(self.w.numpy())\n",
        "        print(self.b.numpy())\n",
        "\n",
        "\n",
        "lc = LinearClassifier(samples, targets, input_dim, output_dim)"
      ]
    },
    {
      "cell_type": "markdown",
      "metadata": {},
      "source": [
        "**Training**"
      ]
    },
    {
      "cell_type": "code",
      "execution_count": 97,
      "metadata": {},
      "outputs": [
        {
          "name": "stdout",
          "output_type": "stream",
          "text": [
            "Parameters before training: \n",
            "[[0.23846567]\n",
            " [0.87068737]]\n",
            "[0.]\n",
            "Loss during training: \n",
            "4.4894285, 0.4538473, 0.17476188, 0.12560378, 0.11153972, 0.103316635, 0.09649993, 0.09037887, 0.084804855, 0.079717174, 0.0750716, 0.07082944, 0.06695566, 0.06341825, 0.060187962, 0.057238184, 0.054544523, 0.052084774, 0.049838584, 0.047787447, 0.045914397, 0.044203993, 0.042642105, 0.041215837, 0.03991341, 0.038724076, 0.037638005, 0.03664624, 0.0357406, 0.03491359, 0.034158383, 0.033468757, 0.03283901, 0.03226395, 0.031738818, 0.03125928, 0.030821385, 0.030421516, 0.030056363, 0.029722916, 0.029418424, 0.02914037, 0.02888646, 0.028654598, 0.028442867, 0.02824952, 0.028072964, 0.02791174, 0.027764512, 0.027630068, 0.027507296, 0.027395189, 0.027292814, 0.027199326, 0.027113957, 0.027036004, 0.026964817, 0.02689981, 0.026840447, 0.02678624, 0.026736744, 0.02669154, 0.026650261, 0.02661257, 0.026578147, 0.026546719, 0.026518019, 0.026491806, 0.026467869, 0.026446017, 0.026426056, 0.02640783, 0.02639119, 0.026375988, 0.02636211, 0.02634944, 0.026337868, 0.026327303, 0.026317649, 0.026308838, 0.026300792, 0.026293442, 0.026286732, 0.026280606, 0.026275009, 0.0262699, 0.026265232, 0.026260968, 0.026257081, 0.026253529, 0.026250282, 0.026247323, 0.026244618, 0.026242146, 0.026239887, 0.02623783, 0.026235946, 0.02623423, 0.026232662, 0.026231227, \n",
            "Loss after training: \n",
            "0.026231227\n",
            "Parameters after training: \n",
            "[[ 0.15214576]\n",
            " [-0.14726566]]\n",
            "[0.49175572]\n"
          ]
        }
      ],
      "source": [
        "# Always Random\n",
        "print(\"Parameters before training: \")\n",
        "lc.parameters()\n",
        "\n",
        "print(\"Loss during training: \")\n",
        "for epoch in range(100):\n",
        "    loss = lc.fit()\n",
        "    print(loss.numpy(), end=\", \")\n",
        "\n",
        "# Always stable\n",
        "print()\n",
        "print(\"Loss after training: \")\n",
        "print(loss.numpy())\n",
        "\n",
        "print(\"Parameters after training: \")\n",
        "lc.parameters()"
      ]
    },
    {
      "cell_type": "markdown",
      "metadata": {},
      "source": [
        "**Prediction**"
      ]
    },
    {
      "cell_type": "code",
      "execution_count": 98,
      "metadata": {},
      "outputs": [
        {
          "name": "stdout",
          "output_type": "stream",
          "text": [
            "['Positive', 'Positive', 'Positive']\n",
            "['Negative', 'Negative', 'Negative']\n"
          ]
        },
        {
          "data": {
            "image/png": "[encoded data removed]",
            "text/plain": [
              "<Figure size 640x480 with 1 Axes>"
            ]
          },
          "metadata": {},
          "output_type": "display_data"
        }
      ],
      "source": [
        "n_subset = 10\n",
        "\n",
        "plt.scatter(x=pos_samples[:n_subset, 0], y=pos_samples[:n_subset, 1])\n",
        "plt.scatter(x=neg_samples[:n_subset, 0], y=neg_samples[:n_subset, 1])\n",
        "plt.scatter(x=pos_test_samples[:, 0], y=pos_test_samples[:, 1], c=\"g\")\n",
        "plt.scatter(x=neg_test_samples[:, 0], y=neg_test_samples[:, 1], c=\"y\")\n",
        "\n",
        "print(lc.label(lc.predict(pos_test_samples)))\n",
        "print(lc.label(lc.predict(neg_test_samples)))"
      ]
    },
    {
      "cell_type": "markdown",
      "metadata": {},
      "source": [
        "# Keras Linear Classifier"
      ]
    },
    {
      "cell_type": "markdown",
      "metadata": {},
      "source": [
        "**General:**\n",
        "- Layer encapsulates state (weight) and function (forward propagation)\n",
        "- When implementing own layer, put the forward propagation in the call method\n",
        "\n",
        "**Rank with layers:**\n",
        "- 2: Dense\n",
        "- 3: LSTM\n",
        "- 3: Conv1D\n",
        "- 4: Conv2D\n",
        "\n",
        "**Optimizers (tf.keras.optimizers):**\n",
        "1. SGD (with / without momentum)\n",
        "2. RMSProp\n",
        "3. Adam\n",
        "4. Adagrad\n",
        "\n",
        "**Loss Functions (tf.keras.losses):**\n",
        "1. CategoricalCrossEntropy\n",
        "2. SparseCategoricalCrossentropy\n",
        "3. BinaryCrossEntropy\n",
        "4. MeanSquaredError\n",
        "\n",
        "**Metrics (tf.keras.metrics):**\n",
        "1. CategoricalAccuracy\n",
        "2. SparseCategoricalAccuracy\n",
        "3. BinaryAccuracy\n",
        "4. AUC\n",
        "5. Precision\n",
        "6. Recall"
      ]
    },
    {
      "cell_type": "markdown",
      "metadata": {},
      "source": [
        "**Dataset**"
      ]
    },
    {
      "cell_type": "code",
      "execution_count": 99,
      "metadata": {},
      "outputs": [],
      "source": [
        "indices_permutation = np.random.permutation(len(samples))\n",
        "num_validation_samples = int(0.3 * len(samples))\n",
        "\n",
        "# Shuffled Dataset\n",
        "shuffled_samples = samples[indices_permutation]\n",
        "shuffled_targets = targets[indices_permutation]\n",
        "\n",
        "# Validation Dataset\n",
        "validation_samples = shuffled_samples[:num_validation_samples]\n",
        "validation_targets = shuffled_targets[:num_validation_samples]\n",
        "\n",
        "# Training Dataset\n",
        "training_samples = shuffled_samples[num_validation_samples:]\n",
        "training_targets = shuffled_targets[num_validation_samples:]"
      ]
    },
    {
      "cell_type": "markdown",
      "metadata": {},
      "source": [
        "**Classifier V1**"
      ]
    },
    {
      "cell_type": "code",
      "execution_count": 100,
      "metadata": {},
      "outputs": [],
      "source": [
        "class KerasLinearClassifierV1:\n",
        "    def __init__(self, input_size, output_size):\n",
        "        self.w = tf.Variable(tf.random.uniform(shape=(input_size, output_size)))\n",
        "        self.b = tf.Variable(tf.zeros(shape=(output_size,)))\n",
        "        self.optimizer = tf.keras.optimizers.RMSprop(learning_rate=0.1)\n",
        "        self.mse = tf.keras.losses.MeanSquaredError()\n",
        "\n",
        "    def fit(self, inputs, labels):\n",
        "        # ------------------------------------\n",
        "        # Forward Propagation\n",
        "        # ------------------------------------\n",
        "        with tf.GradientTape() as tape:\n",
        "            # Activations\n",
        "            labels_predict = tf.matmul(inputs, self.w) + self.b\n",
        "            # Mean Square Error\n",
        "            loss = self.mse(labels, labels_predict)\n",
        "        # ------------------------------------\n",
        "        # Backward Propagation\n",
        "        # ------------------------------------\n",
        "        gradient = tape.gradient(loss, [self.w, self.b])\n",
        "        self.optimizer.apply_gradients(zip(gradient, [self.w, self.b]))\n",
        "        return loss\n",
        "\n",
        "    def predict(self, inputs):\n",
        "        return tf.matmul(inputs, self.w) + self.b"
      ]
    },
    {
      "cell_type": "markdown",
      "metadata": {},
      "source": [
        "**Classifier V2**"
      ]
    },
    {
      "cell_type": "code",
      "execution_count": 101,
      "metadata": {},
      "outputs": [],
      "source": [
        "class KerasLinearClassifierV2:\n",
        "    def __init__(self):\n",
        "        self.model = tf.keras.Sequential(\n",
        "            tf.keras.layers.Dense(units=1, activation=None)\n",
        "        )\n",
        "        self.model.compile(\n",
        "            loss=tf.keras.losses.MeanSquaredError(),\n",
        "            optimizer=tf.keras.optimizers.RMSprop(learning_rate=0.1),\n",
        "            metrics=[tf.keras.metrics.BinaryAccuracy()],\n",
        "        )\n",
        "\n",
        "    def fit(self, inputs, labels, val_inputs, val_labels, epoch):\n",
        "        self.history = self.model.fit(\n",
        "            inputs,\n",
        "            labels,\n",
        "            epochs=epoch,\n",
        "            batch_size=16,\n",
        "            validation_data=(val_inputs, val_labels),\n",
        "            verbose=False,\n",
        "        )\n",
        "\n",
        "    def evaluate(self, x, y):\n",
        "        metrics_label = self.model.metrics_names\n",
        "        metrics_value = self.model.evaluate(x=x, y=y)\n",
        "        for label, value in zip(metrics_label, metrics_value):\n",
        "            print(\"{}: {}\".format(label, value))\n",
        "\n",
        "    def predict(self, x):\n",
        "        self.model.predict(x)"
      ]
    },
    {
      "cell_type": "markdown",
      "metadata": {},
      "source": [
        "**Prediction V1**"
      ]
    },
    {
      "cell_type": "code",
      "execution_count": 102,
      "metadata": {},
      "outputs": [
        {
          "name": "stderr",
          "output_type": "stream",
          "text": [
            "WARNING:absl:At this time, the v2.11+ optimizer `tf.keras.optimizers.RMSprop` runs slowly on M1/M2 Macs, please use the legacy Keras optimizer instead, located at `tf.keras.optimizers.legacy.RMSprop`.\n"
          ]
        },
        {
          "name": "stdout",
          "output_type": "stream",
          "text": [
            "w after training:  [[ 0.2031413 ]\n",
            " [-0.09753127]]\n",
            "b after training:  [0.53647304]\n",
            "loss after training:  0.075207785\n"
          ]
        }
      ],
      "source": [
        "lc_kerasv1 = KerasLinearClassifierV1(input_dim, output_dim)\n",
        "for epoch in range(100):\n",
        "    loss = lc_kerasv1.fit(training_samples, training_targets)\n",
        "print(\"w after training: \", lc_kerasv1.w.numpy())\n",
        "print(\"b after training: \", lc_kerasv1.b.numpy())\n",
        "print(\"loss after training: \", loss.numpy())"
      ]
    },
    {
      "cell_type": "markdown",
      "metadata": {},
      "source": [
        "**Prediction V2**"
      ]
    },
    {
      "cell_type": "code",
      "execution_count": 103,
      "metadata": {},
      "outputs": [
        {
          "name": "stderr",
          "output_type": "stream",
          "text": [
            "WARNING:absl:At this time, the v2.11+ optimizer `tf.keras.optimizers.RMSprop` runs slowly on M1/M2 Macs, please use the legacy Keras optimizer instead, located at `tf.keras.optimizers.legacy.RMSprop`.\n"
          ]
        },
        {
          "name": "stdout",
          "output_type": "stream",
          "text": [
            "19/19 [==============================] - 0s 286us/step - loss: 0.0520 - binary_accuracy: 0.9900\n",
            "loss: 0.05195244401693344\n",
            "binary_accuracy: 0.9900000095367432\n",
            "WARNING:tensorflow:6 out of the last 6 calls to <function Model.make_predict_function.<locals>.predict_function at 0x1327ced40> triggered tf.function retracing. Tracing is expensive and the excessive number of tracings could be due to (1) creating @tf.function repeatedly in a loop, (2) passing tensors with different shapes, (3) passing Python objects instead of tensors. For (1), please define your @tf.function outside of the loop. For (2), @tf.function has reduce_retracing=True option that can avoid unnecessary retracing. For (3), please refer to https://www.tensorflow.org/guide/function#controlling_retracing and https://www.tensorflow.org/api_docs/python/tf/function for  more details.\n"
          ]
        },
        {
          "name": "stderr",
          "output_type": "stream",
          "text": [
            "WARNING:tensorflow:6 out of the last 6 calls to <function Model.make_predict_function.<locals>.predict_function at 0x1327ced40> triggered tf.function retracing. Tracing is expensive and the excessive number of tracings could be due to (1) creating @tf.function repeatedly in a loop, (2) passing tensors with different shapes, (3) passing Python objects instead of tensors. For (1), please define your @tf.function outside of the loop. For (2), @tf.function has reduce_retracing=True option that can avoid unnecessary retracing. For (3), please refer to https://www.tensorflow.org/guide/function#controlling_retracing and https://www.tensorflow.org/api_docs/python/tf/function for  more details.\n"
          ]
        },
        {
          "name": "stdout",
          "output_type": "stream",
          "text": [
            "1/1 [==============================] - 0s 14ms/step\n"
          ]
        }
      ],
      "source": [
        "lc_kerasv2 = KerasLinearClassifierV2()\n",
        "lc_kerasv2.fit(\n",
        "    training_samples,\n",
        "    training_targets,\n",
        "    validation_samples,\n",
        "    validation_targets,\n",
        "    epoch=100,\n",
        ")\n",
        "lc_kerasv2.evaluate(validation_samples, validation_targets)\n",
        "lc_kerasv2.predict(pos_test_samples)"
      ]
    }
  ],
  "metadata": {
    "colab": {
      "provenance": []
    },
    "kernelspec": {
      "display_name": "Python 3",
      "name": "python3"
    },
    "language_info": {
      "codemirror_mode": {
        "name": "ipython",
        "version": 3
      },
      "file_extension": ".py",
      "mimetype": "text/x-python",
      "name": "python",
      "nbconvert_exporter": "python",
      "pygments_lexer": "ipython3",
      "version": "3.11.5"
    }
  },
  "nbformat": 4,
  "nbformat_minor": 0
}
