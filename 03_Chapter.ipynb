{
  "cells": [
    {
      "cell_type": "code",
      "execution_count": 1,
      "metadata": {
        "id": "I4KXsS7ljMGk"
      },
      "outputs": [],
      "source": [
        "import matplotlib.pyplot as plt\n",
        "import tensorflow as tf\n",
        "import numpy as np\n",
        "import math"
      ]
    },
    {
      "cell_type": "markdown",
      "metadata": {
        "id": "gDMZbc7bn1eZ"
      },
      "source": [
        "# TensorFlow:\n",
        "|  Concept | Description  |\n",
        "|---|---|\n",
        "| Static Computation Graphs  | Calculate gradient of a variable using automatic differentation |\n",
        "|  Runtimes |  TensorFlow can be run in C++, JavaScript, and mobile devices (TensorFlow Lite)| \n",
        "|  TensorFlow Serving | Production deployment  |\n",
        "|  TF-Agents | Reinforcement Learning  |\n",
        "|  TensorFlow Hub | Pretrained models  |\n",
        "|  TFX | Industrial Machine Learning  |\n",
        "\n",
        "--    \n",
        "\n",
        "|  Use Case | Description  |\n",
        "|---|---|\n",
        "| Variable creation| tf.Variable |\n",
        "| Mathematical Transformations| tf.matmul |\n",
        "| Backpropagation | tf.GradientTape |"
      ]
    },
    {
      "cell_type": "markdown",
      "metadata": {
        "id": "4koUjyYkptnz"
      },
      "source": [
        "# Keras:\n",
        "\n",
        "|  Use Case | Description  |\n",
        "|---|---|\n",
        "| Layers| tf.keras.layers |\n",
        "| Loss Functions| tf.keras.losses.sparse_categorical_crossentropy |\n",
        "| Metrics | accuracy |\n",
        "| Optimizer | tf.keras.optimizers.SGD |"
      ]
    },
    {
      "cell_type": "markdown",
      "metadata": {
        "id": "oqkLNl12heox"
      },
      "source": [
        "# Tensor Variable and Constant"
      ]
    },
    {
      "cell_type": "code",
      "execution_count": 2,
      "metadata": {
        "colab": {
          "base_uri": "https://localhost:8080/"
        },
        "id": "UM36IQiMgfYQ",
        "outputId": "535c0130-4a0b-4906-d484-12f562649280"
      },
      "outputs": [
        {
          "data": {
            "text/plain": [
              "<tf.Tensor: shape=(2, 2), dtype=float32, numpy=\n",
              "array([[ 4.301762 ,  6.408036 ],\n",
              "       [ 7.583983 , 12.7199955]], dtype=float32)>"
            ]
          },
          "execution_count": 2,
          "metadata": {},
          "output_type": "execute_result"
        }
      ],
      "source": [
        "# Constant\n",
        "tf.zeros(shape=(2, 1))\n",
        "tf.ones(shape=(2, 2))\n",
        "tf.random.uniform(shape=(2, 2), minval=0, maxval=1e-3)\n",
        "tf.random.normal(shape=(2, 2), mean=0.0, stddev=1.0)\n",
        "\n",
        "# Variable\n",
        "tf_var1 = tf.Variable(initial_value=tf.ones(shape=(2, 2)))\n",
        "tf_var2 = tf.Variable(initial_value=tf.random.uniform(shape=(2, 2)))\n",
        "\n",
        "# Assign\n",
        "tf_var1[1, 1].assign(3)\n",
        "\n",
        "# Math operations\n",
        "tf.square(tf_var1)  # Square\n",
        "tf.sqrt(tf_var1)  # Square root\n",
        "\n",
        "tf_var1 + tf_var2  # Add (Elementwise)\n",
        "tf_var1.assign_add(tf_var2)  # tf_var1 += tf_var2\n",
        "\n",
        "tf_var1 * tf_var1  # Multiply (Elementwise)\n",
        "tf.matmul(tf_var1, tf_var1)  # Multiply (Dot Product)"
      ]
    },
    {
      "cell_type": "markdown",
      "metadata": {
        "id": "A42Lko3A9MeA"
      },
      "source": [
        "# 1st Order Gradient"
      ]
    },
    {
      "cell_type": "code",
      "execution_count": 3,
      "metadata": {
        "colab": {
          "base_uri": "https://localhost:8080/"
        },
        "id": "SnoCVcCP9Mo5",
        "outputId": "532db68d-8a9d-456f-d6ab-ce4f1ea8d682"
      },
      "outputs": [
        {
          "name": "stdout",
          "output_type": "stream",
          "text": [
            "<tf.Variable 'Variable:0' shape=() dtype=float32, numpy=3.0>\n",
            "3.0\n",
            "tf.Tensor(9.0, shape=(), dtype=float32)\n",
            "tf.Tensor(6.0, shape=(), dtype=float32)\n"
          ]
        }
      ],
      "source": [
        "input_var = tf.Variable(initial_value=3.0)  # x\n",
        "with tf.GradientTape() as tape:\n",
        "    result = tf.square(input_var)  # x**2\n",
        "gradient = tape.gradient(result, input_var)  # 2x\n",
        "\n",
        "print(input_var)\n",
        "print(input_var.numpy())\n",
        "print(result)\n",
        "print(gradient)"
      ]
    },
    {
      "cell_type": "code",
      "execution_count": 4,
      "metadata": {
        "colab": {
          "base_uri": "https://localhost:8080/"
        },
        "id": "OKmxRHCF9__K",
        "outputId": "60a9f1aa-6956-4cde-c3bb-feafc69e623d"
      },
      "outputs": [
        {
          "name": "stdout",
          "output_type": "stream",
          "text": [
            "tf.Tensor(3.0, shape=(), dtype=float32)\n",
            "3.0\n",
            "tf.Tensor(9.0, shape=(), dtype=float32)\n",
            "tf.Tensor(6.0, shape=(), dtype=float32)\n"
          ]
        }
      ],
      "source": [
        "input_const = tf.constant(value=3.0)\n",
        "with tf.GradientTape() as tape:\n",
        "    tape.watch(input_const)\n",
        "    result = tf.square(input_const)\n",
        "gradient = tape.gradient(result, input_const)\n",
        "\n",
        "print(input_const)\n",
        "print(input_const.numpy())\n",
        "print(result)\n",
        "print(gradient)"
      ]
    },
    {
      "cell_type": "markdown",
      "metadata": {
        "id": "tooZmT2sAvEb"
      },
      "source": [
        "# 2nd Order Gradient"
      ]
    },
    {
      "cell_type": "code",
      "execution_count": 5,
      "metadata": {
        "colab": {
          "base_uri": "https://localhost:8080/"
        },
        "id": "QhJOQWpN-zNV",
        "outputId": "cf818ff1-5c82-4d34-8ecb-a687fdab92db"
      },
      "outputs": [
        {
          "name": "stdout",
          "output_type": "stream",
          "text": [
            "tf.Tensor(37.5, shape=(), dtype=float32)\n",
            "tf.Tensor(15.0, shape=(), dtype=float32)\n",
            "tf.Tensor(3.0, shape=(), dtype=float32)\n"
          ]
        }
      ],
      "source": [
        "time = tf.Variable(initial_value=5.0)\n",
        "with tf.GradientTape() as outer_tape:\n",
        "    with tf.GradientTape() as inner_tape:\n",
        "        position = (1 / 2) * (3) * (time**2)  # 1/2 * a * t2\n",
        "    speed = inner_tape.gradient(position, time)  # a * t\n",
        "acceleration = outer_tape.gradient(speed, time)  # a\n",
        "\n",
        "print(position)\n",
        "print(speed)\n",
        "print(acceleration)"
      ]
    },
    {
      "cell_type": "markdown",
      "metadata": {},
      "source": [
        "# TensorFlow Linear Classifier"
      ]
    },
    {
      "cell_type": "markdown",
      "metadata": {},
      "source": [
        "**Dataset**"
      ]
    },
    {
      "cell_type": "code",
      "execution_count": 6,
      "metadata": {},
      "outputs": [],
      "source": [
        "n_samples = 1000\n",
        "neg_samples = np.random.multivariate_normal(\n",
        "    mean=[0, 3], cov=[[1.0, 0.5], [0.5, 1.0]], size=n_samples\n",
        ")\n",
        "neg_targets = np.zeros(shape=(n_samples, 1))\n",
        "pos_samples = np.random.multivariate_normal(\n",
        "    mean=[3, 0], cov=[[1.0, 0.5], [0.5, 1.0]], size=n_samples\n",
        ")\n",
        "pos_targets = np.ones(shape=(n_samples, 1))\n",
        "\n",
        "samples = np.vstack((neg_samples, pos_samples)).astype(np.float32)\n",
        "targets = np.vstack((neg_targets, pos_targets)).astype(np.float32)\n",
        "\n",
        "pos_test_samples = np.array([[4, 0], [5, -2], [2, -1]]).astype(np.float32)\n",
        "neg_test_samples = np.array([[0, 2], [1, 4], [2, 4]]).astype(np.float32)\n",
        "\n",
        "input_dim = 2  # x, y\n",
        "output_dim = 1  # y"
      ]
    },
    {
      "cell_type": "markdown",
      "metadata": {},
      "source": [
        "**Exploration**"
      ]
    },
    {
      "cell_type": "code",
      "execution_count": 7,
      "metadata": {},
      "outputs": [
        {
          "data": {
            "text/plain": [
              "<matplotlib.collections.PathCollection at 0x16a09d850>"
            ]
          },
          "execution_count": 7,
          "metadata": {},
          "output_type": "execute_result"
        },
        {
          "data": {
            "image/png": "[encoded data removed]",
            "text/plain": [
              "<Figure size 640x480 with 1 Axes>"
            ]
          },
          "metadata": {},
          "output_type": "display_data"
        }
      ],
      "source": [
        "plt.scatter(x=pos_samples[:, 0], y=pos_samples[:, 1])\n",
        "plt.scatter(x=neg_samples[:, 0], y=neg_samples[:, 1])"
      ]
    },
    {
      "cell_type": "markdown",
      "metadata": {},
      "source": [
        "**Classifier**"
      ]
    },
    {
      "cell_type": "code",
      "execution_count": 8,
      "metadata": {},
      "outputs": [],
      "source": [
        "class LinearClassifier:\n",
        "    def __init__(self, inputs, targets, input_dim, output_dim):\n",
        "        self.w = tf.Variable(tf.random.uniform((input_dim, output_dim)))\n",
        "        self.b = tf.Variable(tf.zeros((output_dim,)))\n",
        "        self.learning_rate = 0.1\n",
        "        self.targets = targets\n",
        "        self.inputs = inputs\n",
        "\n",
        "    def fit(self):\n",
        "        # ------------------------------------\n",
        "        # Forward Propagation\n",
        "        # ------------------------------------\n",
        "        with tf.GradientTape() as tape:\n",
        "            # Find prediction (no activation function is used)\n",
        "            predicted_targets = tf.matmul(self.inputs, self.w) + self.b\n",
        "            # Find loss (Mean Squared Error)\n",
        "            predicted_loss = tf.reduce_mean(tf.square(self.targets - predicted_targets))\n",
        "        # ------------------------------------\n",
        "        # Backward Propagation\n",
        "        # ------------------------------------\n",
        "        # Find gradient\n",
        "        gradient_w, gradient_b = tape.gradient(predicted_loss, [self.w, self.b])\n",
        "        # Update weight and bias\n",
        "        self.w.assign_sub(self.learning_rate * gradient_w)\n",
        "        self.b.assign_sub(self.learning_rate * gradient_b)\n",
        "        return predicted_loss\n",
        "\n",
        "    def predict(self, inputs):\n",
        "        return tf.matmul(inputs, self.w) + self.b\n",
        "\n",
        "    def label(self, values):\n",
        "        labels = []\n",
        "        for value in values.numpy():\n",
        "            labels.append(\"Positive\" if value > 0.5 else \"Negative\")\n",
        "        return labels\n",
        "\n",
        "    def parameters(self):\n",
        "        print(self.w.numpy())\n",
        "        print(self.b.numpy())\n",
        "\n",
        "\n",
        "lc = LinearClassifier(samples, targets, input_dim, output_dim)"
      ]
    },
    {
      "cell_type": "markdown",
      "metadata": {},
      "source": [
        "**Training**"
      ]
    },
    {
      "cell_type": "code",
      "execution_count": 9,
      "metadata": {},
      "outputs": [
        {
          "name": "stdout",
          "output_type": "stream",
          "text": [
            "Parameters before training: \n",
            "[[0.12654543]\n",
            " [0.97790074]]\n",
            "[0.]\n",
            "Loss during training: \n",
            "5.4048505, 0.29963508, 0.14856021, 0.12483765, 0.11457804, 0.10637378, 0.09901402, 0.092320204, 0.086222686, 0.08066741, 0.07560602, 0.07099462, 0.06679321, 0.062965356, 0.059477806, 0.056300323, 0.05340534, 0.050767742, 0.04836465, 0.0461752, 0.04418042, 0.042362977, 0.040707123, 0.039198484, 0.037823975, 0.03657167, 0.035430703, 0.034391176, 0.033444066, 0.03258116, 0.031794976, 0.031078689, 0.030426085, 0.029831503, 0.02928978, 0.028796218, 0.028346544, 0.027936848, 0.027563572, 0.027223485, 0.026913635, 0.026631331, 0.026374126, 0.02613979, 0.025926284, 0.025731768, 0.025554543, 0.02539307, 0.025245953, 0.02511192, 0.024989802, 0.024878543, 0.024777172, 0.024684818, 0.02460067, 0.024524003, 0.024454158, 0.024390519, 0.024332538, 0.024279712, 0.024231585, 0.024187732, 0.02414778, 0.024111383, 0.02407822, 0.024048004, 0.024020478, 0.023995396, 0.023972543, 0.02395172, 0.023932755, 0.023915472, 0.023899728, 0.023885382, 0.02387231, 0.023860402, 0.023849552, 0.023839666, 0.023830662, 0.023822458, 0.02381498, 0.023808166, 0.023801964, 0.023796307, 0.023791157, 0.023786465, 0.023782188, 0.023778293, 0.023774745, 0.023771508, 0.023768563, 0.023765879, 0.023763433, 0.023761205, 0.023759175, 0.023757322, 0.023755638, 0.023754105, 0.023752704, 0.023751428, \n",
            "Loss after training: \n",
            "0.023751428\n",
            "Parameters after training: \n",
            "[[ 0.14640363]\n",
            " [-0.1514147 ]]\n",
            "[0.50424975]\n"
          ]
        }
      ],
      "source": [
        "print(\"Parameters before training: \")\n",
        "# Always Random\n",
        "lc.parameters()\n",
        "\n",
        "print(\"Loss during training: \")\n",
        "for epoch in range(100):\n",
        "    loss = lc.fit()\n",
        "    print(loss.numpy(), end=\", \")\n",
        "\n",
        "# Always stable\n",
        "print()\n",
        "print(\"Loss after training: \")\n",
        "print(loss.numpy())\n",
        "\n",
        "print(\"Parameters after training: \")\n",
        "lc.parameters()"
      ]
    },
    {
      "cell_type": "markdown",
      "metadata": {},
      "source": [
        "**Prediction**"
      ]
    },
    {
      "cell_type": "code",
      "execution_count": 10,
      "metadata": {},
      "outputs": [
        {
          "name": "stdout",
          "output_type": "stream",
          "text": [
            "['Positive', 'Positive', 'Positive']\n",
            "['Negative', 'Negative', 'Negative']\n"
          ]
        },
        {
          "data": {
            "image/png": "[encoded data removed]",
            "text/plain": [
              "<Figure size 640x480 with 1 Axes>"
            ]
          },
          "metadata": {},
          "output_type": "display_data"
        }
      ],
      "source": [
        "n_subset = 10\n",
        "\n",
        "plt.scatter(x=pos_samples[:n_subset, 0], y=pos_samples[:n_subset, 1])\n",
        "plt.scatter(x=neg_samples[:n_subset, 0], y=neg_samples[:n_subset, 1])\n",
        "plt.scatter(x=pos_test_samples[:, 0], y=pos_test_samples[:, 1], c=\"g\")\n",
        "plt.scatter(x=neg_test_samples[:, 0], y=neg_test_samples[:, 1], c=\"y\")\n",
        "\n",
        "print(lc.label(lc.predict(pos_test_samples)))\n",
        "print(lc.label(lc.predict(neg_test_samples)))"
      ]
    },
    {
      "cell_type": "markdown",
      "metadata": {},
      "source": [
        "# Keras Linear Classifier"
      ]
    },
    {
      "cell_type": "markdown",
      "metadata": {},
      "source": [
        "**General:**\n",
        "- Layer encapsulates state (weight) and function (forward propagation)\n",
        "- When implementing own layer, put the forward propagation in the call method\n",
        "\n",
        "**Rank with layers:**\n",
        "- 2: Dense\n",
        "- 3: LSTM\n",
        "- 3: Conv1D\n",
        "- 4: Conv2D\n",
        "\n",
        "**Optimizers (tf.keras.optimizers):**\n",
        "1. SGD (with / without momentum)\n",
        "2. RMSProp\n",
        "3. Adam\n",
        "4. Adagrad\n",
        "\n",
        "**Loss Functions (tf.keras.losses):**\n",
        "1. CategoricalCrossEntropy\n",
        "2. SparseCategoricalCrossentropy\n",
        "3. BinaryCrossEntropy\n",
        "4. MeanSquaredError\n",
        "\n",
        "**Metrics (tf.keras.metrics):**\n",
        "1. CategoricalAccuracy\n",
        "2. SparseCategoricalAccuracy\n",
        "3. BinaryAccuracy\n",
        "4. AUC\n",
        "5. Precision\n",
        "6. Recall"
      ]
    },
    {
      "cell_type": "code",
      "execution_count": 11,
      "metadata": {},
      "outputs": [],
      "source": [
        "class KerasLinearClassifier:\n",
        "    def __init__(self, input_size, output_size):\n",
        "        self.w = tf.Variable(tf.random.uniform(shape=(input_size, output_size)))\n",
        "        self.b = tf.Variable(tf.zeros(shape=(output_size,)))\n",
        "        self.n = 0.1\n",
        "        self.optimizer = tf.keras.optimizers.SGD(self.n)\n",
        "        self.mse = tf.keras.losses.MeanSquaredError()\n",
        "\n",
        "    def fit(self, inputs, labels):\n",
        "        # ------------------------------------\n",
        "        # Forward Propagation\n",
        "        # ------------------------------------\n",
        "        with tf.GradientTape() as tape:\n",
        "            # Activations\n",
        "            labels_predict = tf.matmul(inputs, self.w) + self.b\n",
        "            # Mean Square Error\n",
        "            loss = self.mse(labels, labels_predict)\n",
        "        # ------------------------------------\n",
        "        # Backward Propagation\n",
        "        # ------------------------------------\n",
        "        gradient = tape.gradient(loss, [self.w, self.b])\n",
        "        self.optimizer.apply_gradients(zip(gradient, [self.w, self.b]))\n",
        "        return loss\n",
        "\n",
        "    def predict(self, inputs):\n",
        "        return tf.matmul(inputs, self.w) + self.b"
      ]
    },
    {
      "cell_type": "code",
      "execution_count": 12,
      "metadata": {},
      "outputs": [
        {
          "name": "stderr",
          "output_type": "stream",
          "text": [
            "WARNING:absl:At this time, the v2.11+ optimizer `tf.keras.optimizers.SGD` runs slowly on M1/M2 Macs, please use the legacy Keras optimizer instead, located at `tf.keras.optimizers.legacy.SGD`.\n"
          ]
        },
        {
          "name": "stdout",
          "output_type": "stream",
          "text": [
            "w after training:  [[ 0.14631256]\n",
            " [-0.15151048]]\n",
            "b after training:  [0.5046045]\n",
            "loss after training:  0.023750098\n"
          ]
        }
      ],
      "source": [
        "lc = KerasLinearClassifier(input_dim, output_dim)\n",
        "for epoch in range(100):\n",
        "    loss = lc.fit(samples, targets)\n",
        "print(\"w after training: \", lc.w.numpy())\n",
        "print(\"b after training: \", lc.b.numpy())\n",
        "print(\"loss after training: \", loss.numpy())"
      ]
    },
    {
      "cell_type": "markdown",
      "metadata": {},
      "source": [
        "# Validation"
      ]
    },
    {
      "cell_type": "markdown",
      "metadata": {},
      "source": [
        "**Dataset**"
      ]
    },
    {
      "cell_type": "code",
      "execution_count": 13,
      "metadata": {},
      "outputs": [],
      "source": [
        "indices_permutation = np.random.permutation(len(samples))\n",
        "num_validation_samples = int(0.3 * len(samples))\n",
        "\n",
        "# Shuffled Dataset\n",
        "shuffled_samples = samples[indices_permutation]\n",
        "shuffled_targets = targets[indices_permutation]\n",
        "\n",
        "# Validation Dataset\n",
        "validation_samples = shuffled_samples[:num_validation_samples]\n",
        "validation_targets = shuffled_targets[:num_validation_samples]\n",
        "\n",
        "# Training Dataset\n",
        "training_samples = shuffled_samples[num_validation_samples:]\n",
        "training_targets = shuffled_targets[num_validation_samples:]"
      ]
    },
    {
      "cell_type": "markdown",
      "metadata": {},
      "source": [
        "**Classifier**"
      ]
    },
    {
      "cell_type": "code",
      "execution_count": 14,
      "metadata": {},
      "outputs": [],
      "source": [
        "class KerasLinearClassifierV2:\n",
        "    def __init__(self):\n",
        "        self.model = tf.keras.Sequential(\n",
        "            tf.keras.layers.Dense(units=1, activation=None)\n",
        "        )\n",
        "        self.model.compile(\n",
        "            loss=tf.keras.losses.MeanSquaredError(),\n",
        "            optimizer=tf.keras.optimizers.RMSprop(learning_rate=0.1),\n",
        "            metrics=[tf.keras.metrics.BinaryAccuracy()],\n",
        "        )\n",
        "\n",
        "    def fit(self):\n",
        "        self.history = self.model.fit(\n",
        "            training_samples,\n",
        "            training_targets,\n",
        "            epochs=100,\n",
        "            batch_size=16,\n",
        "            validation_data=(validation_samples, validation_targets),\n",
        "            verbose=False,\n",
        "        )\n",
        "\n",
        "    def evaluate(self, x, y):\n",
        "        metrics_label = self.model.metrics_names\n",
        "        metrics_value = self.model.evaluate(x=x, y=y)\n",
        "        for label, value in zip(metrics_label, metrics_value):\n",
        "            print(\"{}: {}\".format(label, value))\n",
        "\n",
        "    def predict(self, x):\n",
        "        self.model.predict(x)"
      ]
    },
    {
      "cell_type": "code",
      "execution_count": 15,
      "metadata": {},
      "outputs": [
        {
          "name": "stderr",
          "output_type": "stream",
          "text": [
            "WARNING:absl:At this time, the v2.11+ optimizer `tf.keras.optimizers.RMSprop` runs slowly on M1/M2 Macs, please use the legacy Keras optimizer instead, located at `tf.keras.optimizers.legacy.RMSprop`.\n"
          ]
        },
        {
          "name": "stdout",
          "output_type": "stream",
          "text": [
            "19/19 [==============================] - 0s 296us/step - loss: 0.1012 - binary_accuracy: 0.9317\n",
            "loss: 0.10122182965278625\n",
            "binary_accuracy: 0.9316666722297668\n",
            "1/1 [==============================] - 0s 25ms/step\n"
          ]
        }
      ],
      "source": [
        "lc_kerasv2 = KerasLinearClassifierV2()\n",
        "lc_kerasv2.fit()\n",
        "lc_kerasv2.evaluate(validation_samples, validation_targets)\n",
        "lc_kerasv2.predict(pos_test_samples)"
      ]
    }
  ],
  "metadata": {
    "colab": {
      "provenance": []
    },
    "kernelspec": {
      "display_name": "Python 3",
      "name": "python3"
    },
    "language_info": {
      "codemirror_mode": {
        "name": "ipython",
        "version": 3
      },
      "file_extension": ".py",
      "mimetype": "text/x-python",
      "name": "python",
      "nbconvert_exporter": "python",
      "pygments_lexer": "ipython3",
      "version": "3.11.5"
    }
  },
  "nbformat": 4,
  "nbformat_minor": 0
}
