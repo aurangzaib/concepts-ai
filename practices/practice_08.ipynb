{
    "cells": [
        {
            "cell_type": "markdown",
            "metadata": {},
            "source": [
                "**Libraries**"
            ]
        },
        {
            "cell_type": "code",
            "execution_count": null,
            "metadata": {
                "is_executing": true
            },
            "outputs": [],
            "source": [
                "from tensorflow import keras\n",
                "import tensorflow as tf\n",
                "import numpy as np\n",
                "import importlib\n",
                "import sys\n",
                "\n",
                "sys.path.append(\"../\")\n",
                "from modules import common, chapter_01, chapter_08\n",
                "\n",
                "importlib.reload(common)\n",
                "importlib.reload(chapter_01)\n",
                "importlib.reload(chapter_08)"
            ]
        },
        {
            "cell_type": "markdown",
            "metadata": {},
            "source": [
                "**Simple convolution network**"
            ]
        },
        {
            "cell_type": "code",
            "execution_count": null,
            "metadata": {
                "is_executing": true
            },
            "outputs": [],
            "source": [
                "mnist = keras.datasets.mnist\n",
                "(x_train, y_train), (x_test, y_test) = mnist.load_data()\n",
                "x_train = x_train.reshape(60000, 28, 28, 1)\n",
                "x_test = x_test.reshape(10000, 28, 28, 1)"
            ]
        },
        {
            "cell_type": "code",
            "execution_count": null,
            "metadata": {
                "collapsed": false
            },
            "outputs": [],
            "source": [
                "inputs = keras.Input(shape=(28, 28, 1))\n",
                "x = keras.layers.Rescaling(1.0 / 255)(inputs)\n",
                "x = keras.layers.Conv2D(filters=32, kernel_size=3, activation=tf.nn.relu)(x)\n",
                "x = keras.layers.MaxPool2D(pool_size=2)(x)\n",
                "x = keras.layers.Conv2D(filters=64, kernel_size=3, activation=tf.nn.relu)(x)\n",
                "x = keras.layers.MaxPool2D(pool_size=2)(x)\n",
                "x = keras.layers.Conv2D(filters=128, kernel_size=3, activation=tf.nn.relu)(x)\n",
                "x = keras.layers.MaxPool2D(pool_size=2)(x)\n",
                "x = keras.layers.Flatten()(x)\n",
                "x = keras.layers.Dropout(rate=0.5)(x)\n",
                "outputs = keras.layers.Dense(units=10, activation=tf.nn.softmax)(x)"
            ]
        },
        {
            "cell_type": "code",
            "execution_count": null,
            "metadata": {
                "collapsed": false
            },
            "outputs": [],
            "source": [
                "model = keras.Model(inputs=inputs, outputs=outputs)\n",
                "model.compile(\n",
                "    loss=keras.losses.SparseCategoricalCrossentropy(),\n",
                "    metrics=[keras.metrics.SparseCategoricalAccuracy()],\n",
                "    optimizer=keras.optimizers.legacy.RMSprop(),\n",
                ")\n",
                "callbacks = [\n",
                "    keras.callbacks.EarlyStopping(monitor=\"val_loss\", patience=2),\n",
                "    keras.callbacks.TensorBoard(log_dir=\"../resources/logs\"),\n",
                "    keras.callbacks.ModelCheckpoint(\n",
                "        filepath=\"../resources/models/tmp/model.keras\",\n",
                "        monitor=\"val_sparse_categorical_accuracy\",\n",
                "        save_best_only=True,\n",
                "    ),\n",
                "]\n",
                "history = model.fit(\n",
                "    x=x_train,\n",
                "    y=y_train,\n",
                "    validation_split=0.3,\n",
                "    epochs=30,\n",
                "    callbacks=callbacks,\n",
                "    verbose=False,\n",
                "    batch_size=512,\n",
                ")\n",
                "model.evaluate(x_test, y_test)"
            ]
        },
        {
            "cell_type": "markdown",
            "metadata": {
                "collapsed": false
            },
            "source": [
                "**Cats and dog dataset**"
            ]
        },
        {
            "cell_type": "code",
            "execution_count": null,
            "metadata": {
                "collapsed": false
            },
            "outputs": [],
            "source": [
                "# -------------------------------\n",
                "# Dataset\n",
                "# -------------------------------\n",
                "new_base_dir, train_dataset, val_dataset, test_dataset = chapter_08.dataset_batches()\n",
                "# -------------------------------\n",
                "# Augmentation Layers\n",
                "# -------------------------------\n",
                "augmentation = keras.Sequential(\n",
                "    [\n",
                "        keras.layers.RandomFlip(mode=\"horizontal\"),\n",
                "        keras.layers.RandomZoom(height_factor=0.8),\n",
                "        keras.layers.RandomTranslation(height_factor=0.8, width_factor=0.8),\n",
                "    ]\n",
                ")"
            ]
        },
        {
            "cell_type": "markdown",
            "metadata": {},
            "source": [
                "**Training from scratch without augmentation**"
            ]
        },
        {
            "cell_type": "code",
            "execution_count": null,
            "metadata": {
                "collapsed": false
            },
            "outputs": [],
            "source": [
                "inputs = keras.Input(shape=(180, 180, 3))\n",
                "x = keras.layers.Rescaling(1.0 / 255)(inputs)\n",
                "x = keras.layers.Conv2D(filters=32, kernel_size=3, activation=tf.nn.relu)(x)\n",
                "x = keras.layers.MaxPool2D(pool_size=2)(x)\n",
                "x = keras.layers.Conv2D(filters=64, kernel_size=3, activation=tf.nn.relu)(x)\n",
                "x = keras.layers.MaxPool2D(pool_size=2)(x)\n",
                "x = keras.layers.Conv2D(filters=128, kernel_size=3, activation=tf.nn.relu)(x)\n",
                "x = keras.layers.Conv2D(filters=256, kernel_size=3, activation=tf.nn.relu)(x)\n",
                "x = keras.layers.MaxPool2D(pool_size=2)(x)\n",
                "x = keras.layers.Conv2D(filters=256, kernel_size=3, activation=tf.nn.relu)(x)\n",
                "x = keras.layers.Flatten()(x)\n",
                "x = keras.layers.Dropout(rate=0.5)(x)\n",
                "outputs = keras.layers.Dense(units=1, activation=tf.nn.sigmoid)(x)"
            ]
        },
        {
            "cell_type": "code",
            "execution_count": null,
            "metadata": {
                "collapsed": false
            },
            "outputs": [],
            "source": [
                "model = keras.Model(inputs=inputs, outputs=outputs)\n",
                "model.compile(\n",
                "    loss=keras.losses.BinaryCrossentropy(),\n",
                "    metrics=[keras.metrics.BinaryAccuracy()],\n",
                "    optimizer=keras.optimizers.legacy.RMSprop(),\n",
                ")\n",
                "callbacks = [\n",
                "    keras.callbacks.EarlyStopping(monitor=\"val_loss\", patience=2),\n",
                "    keras.callbacks.TensorBoard(log_dir=\"../resources/logs\"),\n",
                "    keras.callbacks.ModelCheckpoint(\n",
                "        filepath=\"../resources/models/tmp/model.keras\",\n",
                "        monitor=\"val_binary_accuracy\",\n",
                "        save_best_only=True,\n",
                "    ),\n",
                "]\n",
                "model.fit(\n",
                "    train_dataset,\n",
                "    validation_data=val_dataset,\n",
                "    epochs=30,\n",
                "    callbacks=callbacks,\n",
                "    verbose=False,\n",
                "    batch_size=1024,\n",
                ")\n",
                "model.evaluate(x_test, y_test)"
            ]
        },
        {
            "cell_type": "markdown",
            "metadata": {
                "collapsed": false
            },
            "source": [
                "**Training from scratch with augmentation**"
            ]
        },
        {
            "cell_type": "code",
            "execution_count": null,
            "metadata": {
                "collapsed": false
            },
            "outputs": [],
            "source": [
                "inputs = keras.Input(shape=(180, 180, 3))\n",
                "x = augmentation(inputs)\n",
                "x = keras.layers.Rescaling(1.0 / 255)(x)\n",
                "x = keras.layers.Conv2D(filters=32, kernel_size=3, activation=tf.nn.relu)(x)\n",
                "x = keras.layers.MaxPool2D(pool_size=2)(x)\n",
                "x = keras.layers.Conv2D(filters=64, kernel_size=3, activation=tf.nn.relu)(x)\n",
                "x = keras.layers.MaxPool2D(pool_size=2)(x)\n",
                "x = keras.layers.Conv2D(filters=128, kernel_size=3, activation=tf.nn.relu)(x)\n",
                "x = keras.layers.Conv2D(filters=256, kernel_size=3, activation=tf.nn.relu)(x)\n",
                "x = keras.layers.MaxPool2D(pool_size=2)(x)\n",
                "x = keras.layers.Conv2D(filters=256, kernel_size=3, activation=tf.nn.relu)(x)\n",
                "x = keras.layers.Flatten()(x)\n",
                "x = keras.layers.Dropout(rate=0.5)(x)\n",
                "outputs = keras.layers.Dense(units=1, activation=tf.nn.sigmoid)(x)"
            ]
        },
        {
            "cell_type": "code",
            "execution_count": null,
            "metadata": {
                "collapsed": false
            },
            "outputs": [],
            "source": [
                "model = keras.Model(inputs=inputs, outputs=outputs)\n",
                "model.compile(\n",
                "    loss=keras.losses.BinaryCrossentropy(),\n",
                "    metrics=[keras.metrics.BinaryAccuracy()],\n",
                "    optimizer=keras.optimizers.legacy.RMSprop(),\n",
                ")\n",
                "callbacks = [\n",
                "    keras.callbacks.EarlyStopping(monitor=\"val_loss\", patience=2),\n",
                "    keras.callbacks.TensorBoard(log_dir=\"../resources/logs\"),\n",
                "    keras.callbacks.ModelCheckpoint(\n",
                "        filepath=\"../resources/models/tmp/model.keras\",\n",
                "        monitor=\"val_binary_accuracy\",\n",
                "        save_best_only=True,\n",
                "    ),\n",
                "]\n",
                "model.fit(\n",
                "    train_dataset,\n",
                "    validation_data=val_dataset,\n",
                "    epochs=30,\n",
                "    callbacks=callbacks,\n",
                "    verbose=False,\n",
                "    batch_size=1024,\n",
                ")\n",
                "model.evaluate(x_test, y_test)"
            ]
        },
        {
            "cell_type": "markdown",
            "metadata": {
                "collapsed": false
            },
            "source": [
                "**Training with feature extraction without augmentation**"
            ]
        },
        {
            "cell_type": "code",
            "execution_count": null,
            "metadata": {
                "collapsed": false
            },
            "outputs": [],
            "source": [
                "conv_base = keras.applications.vgg16.VGG16(\n",
                "    include_top=False,\n",
                "    weights=\"imagenet\",\n",
                "    input_shape=(180, 180, 3),\n",
                ")"
            ]
        },
        {
            "cell_type": "code",
            "execution_count": null,
            "metadata": {
                "collapsed": false
            },
            "outputs": [],
            "source": [
                "def extract_features(dataset):\n",
                "    features, labels = [], []\n",
                "    for images_batch, labels_batch in dataset:\n",
                "        images_batch = keras.applications.vgg16.preprocess_input(x=images_batch)\n",
                "        features_batch = conv_base.predict(x=images_batch, verbose=False)\n",
                "        features.append(features_batch), labels.append(labels_batch)\n",
                "    return np.concatenate(features), np.concatenate(labels)"
            ]
        },
        {
            "cell_type": "code",
            "execution_count": null,
            "metadata": {
                "collapsed": false
            },
            "outputs": [],
            "source": [
                "x_train, y_train = extract_features(train_dataset)\n",
                "x_val, y_val = extract_features(val_dataset)\n",
                "x_test, y_test = extract_features(test_dataset)"
            ]
        },
        {
            "cell_type": "code",
            "execution_count": null,
            "metadata": {
                "collapsed": false
            },
            "outputs": [],
            "source": [
                "inputs = keras.Input(shape=(5, 5, 512))\n",
                "x = keras.layers.Flatten()(inputs)\n",
                "x = keras.layers.Dense(units=256, activation=None)(x)\n",
                "x = keras.layers.Dropout(rate=0.5)(x)\n",
                "outputs = keras.layers.Dense(units=1, activation=tf.nn.sigmoid)(x)"
            ]
        },
        {
            "cell_type": "code",
            "execution_count": null,
            "metadata": {
                "collapsed": false
            },
            "outputs": [],
            "source": [
                "model = keras.Model(inputs=inputs, outputs=outputs)\n",
                "model.compile(\n",
                "    loss=keras.losses.BinaryCrossentropy(),\n",
                "    metrics=[keras.metrics.BinaryAccuracy()],\n",
                "    optimizer=keras.optimizers.legacy.RMSprop(),\n",
                ")\n",
                "callbacks = [\n",
                "    keras.callbacks.EarlyStopping(monitor=\"val_loss\", patience=2),\n",
                "    keras.callbacks.TensorBoard(log_dir=\"../resources/logs\"),\n",
                "    keras.callbacks.ModelCheckpoint(\n",
                "        filepath=\"../resources/models/tmp/model.keras\",\n",
                "        monitor=\"val_binary_accuracy\",\n",
                "        save_best_only=True,\n",
                "    ),\n",
                "]\n",
                "model.fit(\n",
                "    x=x_train,\n",
                "    y=y_train,\n",
                "    validation_data=(x_val, y_val),\n",
                "    epochs=30,\n",
                "    callbacks=callbacks,\n",
                "    verbose=False,\n",
                "    batch_size=1024,\n",
                ")\n",
                "model.evaluate(x_test, y_test)"
            ]
        },
        {
            "cell_type": "markdown",
            "metadata": {
                "collapsed": false
            },
            "source": [
                "**Training with feature extraction with augmentation**"
            ]
        },
        {
            "cell_type": "code",
            "execution_count": null,
            "metadata": {
                "collapsed": false
            },
            "outputs": [],
            "source": [
                "conv_base = keras.applications.vgg16.VGG16(\n",
                "    weights=\"imagenet\",\n",
                "    include_top=False,\n",
                ")\n",
                "conv_base.trainable = False"
            ]
        },
        {
            "cell_type": "code",
            "execution_count": null,
            "metadata": {
                "collapsed": false
            },
            "outputs": [],
            "source": [
                "inputs = keras.Input(shape=(180, 180, 3))\n",
                "x = augmentation(inputs)\n",
                "x = keras.applications.vgg16.preprocess_input(x)\n",
                "x = conv_base(x)\n",
                "x = keras.layers.Flatten()(x)\n",
                "x = keras.layers.Dense(units=256, activation=None)(x)\n",
                "x = keras.layers.Dropout(rate=0.5)(x)\n",
                "outputs = keras.layers.Dense(units=1, activation=tf.nn.sigmoid)(x)"
            ]
        },
        {
            "cell_type": "code",
            "execution_count": null,
            "metadata": {
                "collapsed": false
            },
            "outputs": [],
            "source": [
                "model = keras.Model(inputs=inputs, outputs=outputs)\n",
                "model.compile(\n",
                "    loss=keras.losses.BinaryCrossentropy(),\n",
                "    metrics=[keras.metrics.BinaryAccuracy()],\n",
                "    optimizer=keras.optimizers.legacy.RMSprop(),\n",
                ")\n",
                "callbacks = [\n",
                "    keras.callbacks.EarlyStopping(monitor=\"val_loss\", patience=2),\n",
                "    keras.callbacks.TensorBoard(log_dir=\"../resources/logs\"),\n",
                "    keras.callbacks.ModelCheckpoint(\n",
                "        filepath=\"../resources/models/tmp/model.keras\",\n",
                "        monitor=\"val_binary_accuracy\",\n",
                "        save_best_only=True,\n",
                "    ),\n",
                "]\n",
                "model.fit(\n",
                "    train_dataset,\n",
                "    validation_data=val_dataset,\n",
                "    epochs=30,\n",
                "    callbacks=callbacks,\n",
                "    verbose=False,\n",
                "    batch_size=1024,\n",
                ")\n",
                "model.evaluate(x_test, y_test)"
            ]
        },
        {
            "cell_type": "markdown",
            "metadata": {
                "collapsed": false
            },
            "source": [
                "**Training with fine tuning with augmentation**"
            ]
        },
        {
            "cell_type": "code",
            "execution_count": null,
            "metadata": {
                "collapsed": false
            },
            "outputs": [],
            "source": [
                "conv_base = keras.applications.vgg16.VGG16(\n",
                "    weights=\"imagenet\",\n",
                "    include_top=False,\n",
                ")\n",
                "for layer in conv_base.layers[:-4]:\n",
                "    layer.trainable = False"
            ]
        },
        {
            "cell_type": "code",
            "execution_count": null,
            "metadata": {
                "collapsed": false
            },
            "outputs": [],
            "source": [
                "inputs = keras.Input(shape=(180, 180, 3))\n",
                "x = augmentation(inputs)\n",
                "x = keras.applications.vgg16.preprocess_input(x)\n",
                "x = conv_base(x)\n",
                "x = keras.layers.Flatten()(x)\n",
                "x = keras.layers.Dense(units=256, activation=None)(x)\n",
                "x = keras.layers.Dropout(rate=0.5)(x)\n",
                "outputs = keras.layers.Dense(units=1, activation=tf.nn.sigmoid)(x)"
            ]
        },
        {
            "cell_type": "code",
            "execution_count": null,
            "metadata": {
                "collapsed": false
            },
            "outputs": [],
            "source": [
                "model = keras.Model(inputs=inputs, outputs=outputs)\n",
                "model.compile(\n",
                "    loss=keras.losses.BinaryCrossentropy(),\n",
                "    metrics=[keras.metrics.BinaryAccuracy()],\n",
                "    optimizer=keras.optimizers.legacy.RMSprop(),\n",
                ")\n",
                "callbacks = [\n",
                "    keras.callbacks.EarlyStopping(monitor=\"val_loss\", patience=2),\n",
                "    keras.callbacks.TensorBoard(log_dir=\"../resources/logs\"),\n",
                "    keras.callbacks.ModelCheckpoint(\n",
                "        filepath=\"../resources/models/tmp/model.keras\",\n",
                "        monitor=\"val_binary_accuracy\",\n",
                "        save_best_only=True,\n",
                "    ),\n",
                "]\n",
                "model.fit(\n",
                "    train_dataset,\n",
                "    validation_data=val_dataset,\n",
                "    epochs=30,\n",
                "    callbacks=callbacks,\n",
                "    verbose=False,\n",
                "    batch_size=1024,\n",
                ")\n",
                "model.evaluate(x_test, y_test)"
            ]
        }
    ],
    "metadata": {
        "kernelspec": {
            "display_name": "projects",
            "language": "python",
            "name": "python3"
        },
        "language_info": {
            "codemirror_mode": {
                "name": "ipython",
                "version": 3
            },
            "file_extension": ".py",
            "mimetype": "text/x-python",
            "name": "python",
            "nbconvert_exporter": "python",
            "pygments_lexer": "ipython3",
            "version": "3.11.7"
        }
    },
    "nbformat": 4,
    "nbformat_minor": 2
}