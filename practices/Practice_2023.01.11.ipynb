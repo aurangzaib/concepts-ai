{
    "cells": [
        {
            "cell_type": "code",
            "execution_count": null,
            "metadata": {},
            "outputs": [],
            "source": [
                "import matplotlib.pyplot as plt\n",
                "import tensorflow as tf\n",
                "import numpy as np\n",
                "import importlib\n",
                "import math\n",
                "import sys\n",
                "\n",
                "sys.path.append(\"../\")\n",
                "\n",
                "from modules import Common\n",
                "import modules.Chapter_04 as Chapter_04\n",
                "\n",
                "# Reload Libraries\n",
                "importlib.reload(Common)\n",
                "importlib.reload(Chapter_04)"
            ]
        },
        {
            "cell_type": "markdown",
            "metadata": {},
            "source": [
                "---\n",
                "# **Common**\n",
                "---"
            ]
        },
        {
            "cell_type": "code",
            "execution_count": null,
            "metadata": {},
            "outputs": [],
            "source": [
                "def shuffle_data(x, y):\n",
                "    indices = np.random.permutation(len(x))\n",
                "    return x[indices], y[indices]"
            ]
        },
        {
            "cell_type": "markdown",
            "metadata": {},
            "source": [
                "---\n",
                "# **Mnist dataset**\n",
                "---\n",
                "\n",
                "**Multiclass Classification**\n",
                "- Samples: 60000 numbers in 28x28 (0-255)\n",
                "- Classes: Number\n"
            ]
        },
        {
            "cell_type": "markdown",
            "metadata": {},
            "source": [
                "**Dataset**"
            ]
        },
        {
            "cell_type": "code",
            "execution_count": null,
            "metadata": {},
            "outputs": [],
            "source": [
                "mnist = tf.keras.datasets.mnist\n",
                "(x_train, y_train), (x_test, y_test) = mnist.load_data()\n",
                "(x_train, y_train) = shuffle_data(x_train, y_train)\n",
                "\n",
                "x_train = x_train.reshape(x_train.shape[0], x_train.shape[1] * x_train.shape[2])\n",
                "x_test = x_test.reshape(x_test.shape[0], x_test.shape[1] * x_test.shape[2])\n",
                "\n",
                "x_train = np.asarray(x_train / 255).astype(np.float32)\n",
                "x_test = np.asarray(x_test / 255).astype(np.float32)\n",
                "\n",
                "y_train = tf.keras.utils.to_categorical(y_train)\n",
                "y_test = tf.keras.utils.to_categorical(y_test)"
            ]
        },
        {
            "cell_type": "markdown",
            "metadata": {},
            "source": [
                "**Train**"
            ]
        },
        {
            "cell_type": "code",
            "execution_count": null,
            "metadata": {},
            "outputs": [],
            "source": [
                "epochs = 5\n",
                "model = tf.keras.Sequential(\n",
                "    [\n",
                "        tf.keras.layers.Dense(units=512, activation=tf.nn.relu),\n",
                "        tf.keras.layers.Dropout(0.2),\n",
                "        tf.keras.layers.Dense(units=10, activation=tf.nn.softmax),\n",
                "    ]\n",
                ")\n",
                "\n",
                "model.compile(\n",
                "    loss=tf.keras.losses.CategoricalCrossentropy(),\n",
                "    metrics=[tf.keras.metrics.CategoricalAccuracy()],\n",
                "    optimizer=tf.keras.optimizers.legacy.RMSprop(),\n",
                ")\n",
                "\n",
                "history = model.fit(\n",
                "    x=x_train, y=y_train, epochs=epochs, validation_split=0.3, verbose=False\n",
                ")"
            ]
        },
        {
            "cell_type": "code",
            "execution_count": null,
            "metadata": {},
            "outputs": [],
            "source": [
                "Common.plot(data=[history], labels=[\"Mnist\"])"
            ]
        },
        {
            "cell_type": "code",
            "execution_count": null,
            "metadata": {},
            "outputs": [],
            "source": [
                "model.evaluate(x_test, y_test)\n",
                "y_predict = model.predict(x_test[0:], verbose=False)\n",
                "print(\"Prediction: \", np.argmax(y_predict))\n",
                "print(\"Ground: \", np.argmax(y_test[0]))\n",
                "print(\"Confidence: \", np.max(y_predict))"
            ]
        },
        {
            "cell_type": "markdown",
            "metadata": {},
            "source": [
                "---\n",
                "# **Imdb dataset**\n",
                "---\n",
                "\n",
                "**Binary Classification**\n",
                "- Reviews of movies encoded as arrays of integers\n",
                "- Score of a movie as postive (1.0) or negative (0.0)"
            ]
        },
        {
            "cell_type": "markdown",
            "metadata": {},
            "source": [
                "**Dataset**"
            ]
        },
        {
            "cell_type": "code",
            "execution_count": null,
            "metadata": {},
            "outputs": [],
            "source": [
                "def multihot_encode_data(x, y, num_words):\n",
                "    # Multi-hot encoding\n",
                "    x_encoded = np.zeros(shape=(x.shape[0], num_words))\n",
                "    for sample_index, word_indices in enumerate(x):\n",
                "        x_encoded[sample_index][word_indices] = 1\n",
                "    y_encoded = np.asarray(y).astype(np.float32)\n",
                "    return x_encoded, y_encoded\n",
                "\n",
                "\n",
                "num_words = 10000\n",
                "imdb = tf.keras.datasets.imdb\n",
                "(x_train, y_train), (x_test, y_test) = imdb.load_data(num_words=num_words)\n",
                "x_train, y_train = shuffle_data(x_train, y_train)\n",
                "x_train, y_train = multihot_encode_data(x_train, y_train, num_words)\n",
                "x_test, y_test = multihot_encode_data(x_test, y_test, num_words)"
            ]
        },
        {
            "cell_type": "markdown",
            "metadata": {},
            "source": [
                "**Training**"
            ]
        },
        {
            "cell_type": "code",
            "execution_count": null,
            "metadata": {},
            "outputs": [],
            "source": [
                "epochs = 5\n",
                "model = tf.keras.Sequential(\n",
                "    [\n",
                "        tf.keras.layers.Dense(units=1, activation=tf.nn.sigmoid),\n",
                "    ]\n",
                ")\n",
                "\n",
                "model.compile(\n",
                "    loss=tf.keras.losses.BinaryCrossentropy(),\n",
                "    metrics=[tf.keras.metrics.BinaryAccuracy()],\n",
                "    optimizer=tf.keras.optimizers.legacy.RMSprop(learning_rate=0.001),\n",
                ")\n",
                "\n",
                "history = model.fit(\n",
                "    x=x_train, y=y_train, epochs=epochs, validation_split=0.4, verbose=False\n",
                ")"
            ]
        },
        {
            "cell_type": "markdown",
            "metadata": {},
            "source": [
                "**Exploration**"
            ]
        },
        {
            "cell_type": "code",
            "execution_count": null,
            "metadata": {},
            "outputs": [],
            "source": [
                "Common.plot(data=[history], labels=[\"Imdb\"])"
            ]
        },
        {
            "cell_type": "markdown",
            "metadata": {},
            "source": [
                "---\n",
                "# **Reuters dataset**\n",
                "---\n",
                "\n",
                "**Multiclass Classification**\n",
                "- Newswries\n",
                "- Topics (46)\n"
            ]
        },
        {
            "cell_type": "markdown",
            "metadata": {},
            "source": [
                "**Dataset**"
            ]
        },
        {
            "cell_type": "code",
            "execution_count": null,
            "metadata": {},
            "outputs": [],
            "source": [
                "def multihot_encode_data(x, y, num_words):\n",
                "    # Multi-hot encoding\n",
                "    x_encoded = np.zeros(shape=(x.shape[0], num_words))\n",
                "    for sample_index, word_indices in enumerate(x):\n",
                "        x_encoded[sample_index][word_indices] = 1\n",
                "    y_encoded = tf.keras.utils.to_categorical(y)\n",
                "    return x_encoded, y_encoded\n",
                "\n",
                "\n",
                "num_words, num_labels = 10000, 46\n",
                "reuters = tf.keras.datasets.reuters\n",
                "(x_train, y_train), (x_test, y_test) = reuters.load_data(num_words=num_words)\n",
                "\n",
                "(x_train, y_train) = shuffle_data(x_train, y_train)\n",
                "(x_train, y_train) = multihot_encode_data(x_train, y_train, num_words)\n",
                "(x_test, y_test) = multihot_encode_data(x_test, y_test, num_words)"
            ]
        },
        {
            "cell_type": "markdown",
            "metadata": {},
            "source": [
                "**Train**"
            ]
        },
        {
            "cell_type": "code",
            "execution_count": null,
            "metadata": {},
            "outputs": [],
            "source": [
                "epochs = 10\n",
                "model = tf.keras.Sequential(\n",
                "    [\n",
                "        tf.keras.layers.Dense(units=32, activation=tf.nn.relu),\n",
                "        tf.keras.layers.Dropout(0.1),\n",
                "        tf.keras.layers.Dense(units=32, activation=tf.nn.relu),\n",
                "        tf.keras.layers.Dropout(0.1),\n",
                "        tf.keras.layers.Dense(units=num_labels, activation=tf.nn.softmax),\n",
                "    ]\n",
                ")\n",
                "\n",
                "model.compile(\n",
                "    loss=tf.keras.losses.CategoricalCrossentropy(),\n",
                "    metrics=[tf.keras.metrics.CategoricalAccuracy()],\n",
                "    optimizer=tf.keras.optimizers.legacy.RMSprop(),\n",
                ")\n",
                "\n",
                "history = model.fit(\n",
                "    x=x_train, y=y_train, epochs=epochs, validation_split=0.4, verbose=False\n",
                ")"
            ]
        },
        {
            "cell_type": "markdown",
            "metadata": {},
            "source": [
                "**Exploration**"
            ]
        },
        {
            "cell_type": "code",
            "execution_count": null,
            "metadata": {},
            "outputs": [],
            "source": [
                "Common.plot(data=[history], labels=[\"Reuter\"])"
            ]
        },
        {
            "cell_type": "markdown",
            "metadata": {},
            "source": [
                "---\n",
                "# **Boston dataset**\n",
                "---\n",
                "**Scalar Regression**\n",
                "- List of housing society with 13 features (all using different scales)\n",
                "- Predict price of a house given the society features"
            ]
        },
        {
            "cell_type": "markdown",
            "metadata": {},
            "source": [
                "**Dataset**"
            ]
        },
        {
            "cell_type": "code",
            "execution_count": null,
            "metadata": {},
            "outputs": [],
            "source": [
                "# Dataset\n",
                "boston = tf.keras.datasets.boston_housing\n",
                "(x_train, y_train), (x_test, y_test) = boston.load_data()\n",
                "(x_train, y_train) = shuffle_data(x_train, y_train)\n",
                "# Feature-wise normalization (Train)\n",
                "mean = x_train.mean(axis=0)  # Dataset is centered around mean\n",
                "x_train -= mean\n",
                "std = x_train.std(axis=0)  # Dataset has unit std\n",
                "x_train /= std\n",
                "# Feature-wise normalization (Test)\n",
                "x_test -= mean\n",
                "x_test /= std"
            ]
        },
        {
            "cell_type": "markdown",
            "metadata": {},
            "source": [
                "**Train**  "
            ]
        },
        {
            "cell_type": "code",
            "execution_count": null,
            "metadata": {},
            "outputs": [],
            "source": [
                "epochs = 120\n",
                "model = tf.keras.Sequential(\n",
                "    [\n",
                "        tf.keras.layers.Dense(\n",
                "            units=120,\n",
                "            kernel_regularizer=tf.keras.regularizers.L2(0.002),\n",
                "            activation=tf.nn.relu,\n",
                "        ),\n",
                "        tf.keras.layers.Dense(\n",
                "            units=120,\n",
                "            kernel_regularizer=tf.keras.regularizers.L2(0.002),\n",
                "            activation=tf.nn.relu,\n",
                "        ),\n",
                "        tf.keras.layers.Dense(units=1, activation=None),\n",
                "    ]\n",
                ")\n",
                "\n",
                "model.compile(\n",
                "    loss=tf.keras.losses.MeanSquaredError(),\n",
                "    metrics=[tf.keras.metrics.MeanAbsoluteError()],\n",
                "    optimizer=tf.keras.optimizers.legacy.RMSprop(),\n",
                ")\n",
                "\n",
                "history = model.fit(\n",
                "    x=x_train, y=y_train, epochs=epochs, validation_split=0.3, verbose=False\n",
                ")"
            ]
        },
        {
            "cell_type": "markdown",
            "metadata": {},
            "source": [
                "**Exploration**"
            ]
        },
        {
            "cell_type": "code",
            "execution_count": null,
            "metadata": {},
            "outputs": [],
            "source": [
                "Common.plot(data=[history], labels=[\"Boston\"], window_titles=[\"MSE\", \"MAE\"])"
            ]
        },
        {
            "cell_type": "code",
            "execution_count": null,
            "metadata": {},
            "outputs": [],
            "source": [
                "y_predict = model.predict(x_test)\n",
                "for yp, y in zip(y_predict[:5], y_test[:5]):\n",
                "    print(\"Ground: \", y)\n",
                "    print(\"Predict: \", yp[0])\n",
                "    print(\"Error: \", abs(yp[0] - y))\n",
                "    print()"
            ]
        },
        {
            "cell_type": "markdown",
            "metadata": {},
            "source": [
                "**K-Fold Cross-Validation**"
            ]
        },
        {
            "cell_type": "code",
            "execution_count": null,
            "metadata": {},
            "outputs": [],
            "source": [
                "def get_fold(input, num_fold, fold_size):\n",
                "    for fold_count in range(num_fold):\n",
                "        val_data = input[fold_count * fold_size : (fold_count + 1) * fold_size]\n",
                "        train_data = np.concatenate(\n",
                "            (\n",
                "                input[: fold_count * fold_size],\n",
                "                input[(fold_count + 1) * fold_size :],\n",
                "            ),\n",
                "            axis=0,\n",
                "        )\n",
                "        # History per epoch per fold\n",
                "        # history = model.fit(x,y, x_val, y_val)\n",
                "\n",
                "\n",
                "# Get average of all folds per epoch\n",
                "\n",
                "x = np.array(\n",
                "    [\n",
                "        np.array([1, 2, 3]),\n",
                "        np.array([4, 5, 6]),\n",
                "        np.array([7, 8, 9]),\n",
                "        np.array([10, 11, 12]),\n",
                "        np.array([13, 14, 15]),\n",
                "    ]\n",
                ")\n",
                "num_fold = 4\n",
                "fold_size = len(x) // num_fold\n",
                "\n",
                "get_fold(x, num_fold, fold_size)"
            ]
        },
        {
            "cell_type": "markdown",
            "metadata": {},
            "source": [
                "---\n",
                "# **Linear Classifier**\n",
                "---"
            ]
        },
        {
            "cell_type": "markdown",
            "metadata": {},
            "source": [
                "**Dataset**"
            ]
        },
        {
            "cell_type": "code",
            "execution_count": 156,
            "metadata": {},
            "outputs": [],
            "source": [
                "num_samples = 500\n",
                "x_neg = np.random.multivariate_normal(\n",
                "    mean=[0, 3],\n",
                "    cov=[[1.0, 0.5], [0.5, 1.0]],\n",
                "    size=num_samples,\n",
                ")\n",
                "y_neg = np.zeros(shape=(num_samples, 1))\n",
                "\n",
                "x_pos = np.random.multivariate_normal(\n",
                "    mean=[3, 0],\n",
                "    cov=[[1.0, 0.5], [0.5, 1.0]],\n",
                "    size=num_samples,\n",
                ")\n",
                "y_pos = np.ones(shape=(num_samples, 1))\n",
                "\n",
                "x = np.vstack((x_neg, x_pos)).astype(np.float32)\n",
                "y = np.vstack((y_neg, y_pos)).astype(np.float32)\n",
                "\n",
                "x, y = shuffle_data(x, y)\n",
                "\n",
                "x_train, y_train, x_val, y_val = Common.split_data(x, y, 0.3)"
            ]
        },
        {
            "cell_type": "code",
            "execution_count": 157,
            "metadata": {},
            "outputs": [
                {
                    "name": "stderr",
                    "output_type": "stream",
                    "text": [
                        "WARNING:absl:At this time, the v2.11+ optimizer `tf.keras.optimizers.RMSprop` runs slowly on M1/M2 Macs, please use the legacy Keras optimizer instead, located at `tf.keras.optimizers.legacy.RMSprop`.\n"
                    ]
                }
            ],
            "source": [
                "# Loss Function\n",
                "n = 0.001\n",
                "epochs = 1500\n",
                "loss_function = tf.keras.losses.MeanSquaredError()\n",
                "acc_function = tf.keras.metrics.MeanAbsoluteError()\n",
                "optimizer_function = tf.keras.optimizers.RMSprop(learning_rate=n)\n",
                "\n",
                "# Parameters\n",
                "w = tf.Variable(initial_value=tf.random.uniform(shape=(2, 1)))\n",
                "b = tf.Variable(initial_value=tf.zeros(shape=(1,)))\n",
                "\n",
                "# Loss history\n",
                "history, val_history = [], []\n",
                "\n",
                "for _ in range(epochs):\n",
                "    # Forward Pass\n",
                "    with tf.GradientTape() as tape:\n",
                "        y_predict = tf.matmul(x_train, w) + b\n",
                "        loss = loss_function(y_train, y_predict)\n",
                "    # Backward Pass\n",
                "    gradients = tape.gradient(loss, [w, b])\n",
                "    optimizer_function.apply_gradients(zip(gradients, [w, b]))\n",
                "    # Validation\n",
                "    y_predict = tf.matmul(x_val, w) + b\n",
                "    history.append(loss)\n",
                "    val_history.append(loss_function(y_val, y_predict))"
            ]
        },
        {
            "cell_type": "code",
            "execution_count": 158,
            "metadata": {},
            "outputs": [
                {
                    "name": "stdout",
                    "output_type": "stream",
                    "text": [
                        "Accuracy Error:  0.028794777\n",
                        "Validation Error:  0.031270143\n"
                    ]
                },
                {
                    "data": {
                        "image/png": "[encoded data removed]",
                        "text/plain": [
                            "<Figure size 640x480 with 1 Axes>"
                        ]
                    },
                    "metadata": {},
                    "output_type": "display_data"
                }
            ],
            "source": [
                "x_axis = range(0, len(history), 1)\n",
                "ignore_size = 200\n",
                "plt.plot(\n",
                "    x_axis[ignore_size:],\n",
                "    history[ignore_size:],\n",
                ")\n",
                "plt.plot(x_axis[ignore_size:], val_history[ignore_size:])\n",
                "print(\"Accuracy Error: \", history[-1].numpy())\n",
                "print(\"Validation Error: \", val_history[-1].numpy())"
            ]
        },
        {
            "cell_type": "code",
            "execution_count": 159,
            "metadata": {},
            "outputs": [
                {
                    "name": "stdout",
                    "output_type": "stream",
                    "text": [
                        "Ground:\n",
                        "0.0, 1.0, 1.0, 1.0, 0.0, 0.0, 1.0, 0.0, 1.0, 0.0, 0.0, 0.0, 0.0, 1.0, 0.0, 1.0, 0.0, 1.0, 1.0, 1.0, 1.0, 0.0, 0.0, 0.0, 1.0, 0.0, 1.0, 1.0, 1.0, 0.0, 0.0, 1.0, 1.0, 1.0, 0.0, 1.0, 1.0, 1.0, 1.0, 1.0, 0.0, 0.0, 0.0, 0.0, 1.0, 0.0, 0.0, 1.0, 0.0, 1.0, 1.0, 0.0, 1.0, 0.0, 1.0, 1.0, 0.0, 0.0, 0.0, 1.0, 0.0, 1.0, 0.0, 1.0, 1.0, 1.0, 1.0, 0.0, 1.0, 0.0, 1.0, 0.0, 1.0, 1.0, 0.0, 0.0, 0.0, 1.0, 1.0, 1.0, 0.0, 1.0, 1.0, 1.0, 0.0, 1.0, 1.0, 0.0, 0.0, 1.0, 1.0, 1.0, 0.0, 0.0, 0.0, 1.0, 0.0, 1.0, 0.0, 1.0, 1.0, 0.0, 0.0, 0.0, 1.0, 0.0, 0.0, 1.0, 0.0, 0.0, 1.0, 1.0, 1.0, 0.0, 1.0, 1.0, 1.0, 0.0, 1.0, 1.0, 1.0, 0.0, 0.0, 0.0, 0.0, 0.0, 0.0, 1.0, 0.0, 0.0, 1.0, 1.0, 0.0, 0.0, 1.0, 0.0, 1.0, 0.0, 1.0, 1.0, 0.0, 1.0, 1.0, 1.0, 1.0, 1.0, 1.0, 1.0, 0.0, 1.0, 1.0, 1.0, 0.0, 1.0, 0.0, 0.0, 1.0, 0.0, 1.0, 0.0, 0.0, 1.0, 0.0, 0.0, 0.0, 0.0, 0.0, 1.0, 1.0, 1.0, 1.0, 0.0, 1.0, 1.0, 0.0, 0.0, 1.0, 1.0, 1.0, 1.0, 0.0, 0.0, 1.0, 0.0, 0.0, 0.0, 0.0, 0.0, 1.0, 1.0, 0.0, 0.0, 0.0, 1.0, 1.0, 1.0, 1.0, 1.0, 0.0, 1.0, 1.0, 1.0, 0.0, 0.0, 1.0, 0.0, 1.0, 1.0, 0.0, 1.0, 0.0, 0.0, 1.0, 0.0, 0.0, 0.0, 0.0, 1.0, 0.0, 0.0, 0.0, 1.0, 0.0, 1.0, 0.0, 0.0, 1.0, 1.0, 0.0, 0.0, 1.0, 1.0, 0.0, 0.0, 1.0, 0.0, 1.0, 1.0, 0.0, 0.0, 1.0, 0.0, 0.0, 0.0, 0.0, 0.0, 1.0, 1.0, 1.0, 0.0, 0.0, 0.0, 1.0, 0.0, 1.0, 1.0, 0.0, 1.0, 0.0, 0.0, 1.0, 0.0, 1.0, 0.0, 1.0, 0.0, 1.0, 1.0, 0.0, 0.0, 0.0, 0.0, 1.0, 1.0, 1.0, 1.0, 1.0, 0.0, 0.0, 1.0, 0.0, 0.0, 1.0, 1.0, 0.0, 0.0, 0.0, 0.0, 1.0, 0.0, 1.0, 0.0, 1.0, 1.0, 0.0, 1.0, 1.0, 1.0, 1.0, 0.0, \n",
                        "Predict: \n",
                        "0.0, 1.0, 1.0, 1.0, 0.0, 0.0, 1.0, 0.0, 1.0, 0.0, 0.0, 0.0, 0.0, 1.0, 0.0, 1.0, 0.0, 1.0, 1.0, 1.0, 1.0, 0.0, 0.0, 0.0, 1.0, 0.0, 1.0, 1.0, 1.0, 0.0, 0.0, 1.0, 1.0, 1.0, 0.0, 1.0, 1.0, 1.0, 1.0, 1.0, 0.0, 0.0, 0.0, 0.0, 1.0, 0.0, 0.0, 1.0, 0.0, 1.0, 1.0, 0.0, 1.0, 0.0, 1.0, 1.0, 0.0, 0.0, 0.0, 1.0, 0.0, 0.0, 0.0, 1.0, 1.0, 1.0, 1.0, 0.0, 1.0, 0.0, 1.0, 0.0, 1.0, 1.0, 0.0, 0.0, 0.0, 1.0, 1.0, 1.0, 0.0, 1.0, 1.0, 1.0, 0.0, 1.0, 1.0, 0.0, 0.0, 1.0, 1.0, 1.0, 0.0, 0.0, 0.0, 1.0, 0.0, 1.0, 0.0, 1.0, 1.0, 0.0, 0.0, 0.0, 1.0, 0.0, 0.0, 1.0, 0.0, 0.0, 1.0, 1.0, 1.0, 0.0, 1.0, 1.0, 1.0, 0.0, 1.0, 1.0, 1.0, 0.0, 0.0, 0.0, 0.0, 0.0, 0.0, 1.0, 0.0, 0.0, 1.0, 1.0, 0.0, 0.0, 1.0, 0.0, 1.0, 0.0, 1.0, 1.0, 0.0, 1.0, 1.0, 1.0, 1.0, 1.0, 1.0, 1.0, 0.0, 1.0, 1.0, 1.0, 0.0, 1.0, 0.0, 0.0, 1.0, 0.0, 1.0, 0.0, 0.0, 1.0, 0.0, 0.0, 0.0, 0.0, 0.0, 1.0, 1.0, 1.0, 1.0, 0.0, 1.0, 1.0, 0.0, 0.0, 1.0, 1.0, 1.0, 1.0, 0.0, 0.0, 1.0, 0.0, 0.0, 0.0, 0.0, 0.0, 1.0, 1.0, 0.0, 0.0, 0.0, 1.0, 1.0, 1.0, 1.0, 1.0, 0.0, 1.0, 1.0, 1.0, 0.0, 0.0, 1.0, 0.0, 1.0, 1.0, 0.0, 1.0, 0.0, 0.0, 1.0, 0.0, 0.0, 0.0, 0.0, 1.0, 0.0, 0.0, 0.0, 1.0, 0.0, 1.0, 0.0, 0.0, 1.0, 1.0, 0.0, 0.0, 1.0, 1.0, 0.0, 0.0, 1.0, 0.0, 1.0, 1.0, 0.0, 0.0, 1.0, 0.0, 0.0, 0.0, 0.0, 0.0, 1.0, 1.0, 1.0, 0.0, 0.0, 0.0, 1.0, 0.0, 1.0, 1.0, 0.0, 1.0, 0.0, 0.0, 1.0, 0.0, 1.0, 0.0, 1.0, 0.0, 1.0, 1.0, 0.0, 0.0, 0.0, 0.0, 1.0, 1.0, 1.0, 1.0, 1.0, 0.0, 0.0, 1.0, 0.0, 0.0, 1.0, 1.0, 0.0, 0.0, 0.0, 0.0, 1.0, 0.0, 1.0, 0.0, 1.0, 1.0, 0.0, 1.0, 1.0, 1.0, 1.0, 0.0, "
                    ]
                }
            ],
            "source": [
                "y_pred = tf.matmul(x_val, w) + b\n",
                "print(\"Ground:\")\n",
                "for ground_value in y_val:\n",
                "    print(ground_value[0], end=\", \")\n",
                "print()\n",
                "print(\"Predict: \")\n",
                "for predict_value in y_pred.numpy():\n",
                "    print(abs(np.round(predict_value[0])), end=\", \")"
            ]
        }
    ],
    "metadata": {
        "kernelspec": {
            "display_name": "projects",
            "language": "python",
            "name": "python3"
        },
        "language_info": {
            "codemirror_mode": {
                "name": "ipython",
                "version": 3
            },
            "file_extension": ".py",
            "mimetype": "text/x-python",
            "name": "python",
            "nbconvert_exporter": "python",
            "pygments_lexer": "ipython3",
            "version": "3.11.5"
        }
    },
    "nbformat": 4,
    "nbformat_minor": 2
}
