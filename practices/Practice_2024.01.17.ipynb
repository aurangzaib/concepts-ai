{
 "cells": [
  {
   "cell_type": "code",
   "execution_count": 1,
   "metadata": {},
   "outputs": [
    {
     "data": {
      "text/plain": [
       "<module 'modules.Common' from '/Users/siddiqui/Projects/concepts/concepts-ai/practices/../modules/Common.py'>"
      ]
     },
     "execution_count": 1,
     "metadata": {},
     "output_type": "execute_result"
    }
   ],
   "source": [
    "# System Libraries\n",
    "from tensorflow import keras\n",
    "import tensorflow as tf\n",
    "import numpy as np\n",
    "import importlib\n",
    "import sys\n",
    "\n",
    "sys.path.append(\"../\")\n",
    "\n",
    "# User Libraries\n",
    "from modules import Chapter_01\n",
    "from modules import Common\n",
    "\n",
    "# Reload Libraries\n",
    "importlib.reload(Chapter_01)\n",
    "importlib.reload(Common)"
   ]
  },
  {
   "cell_type": "markdown",
   "metadata": {},
   "source": [
    "### **Single IO — Sequential**"
   ]
  },
  {
   "cell_type": "code",
   "execution_count": 2,
   "metadata": {},
   "outputs": [],
   "source": [
    "model = keras.Sequential()\n",
    "model.add(keras.layers.Input(shape=(3,)))\n",
    "model.add(keras.layers.Dense(units=64, activation=tf.nn.relu))\n",
    "model.add(keras.layers.Dense(units=10, activation=tf.nn.softmax))"
   ]
  },
  {
   "cell_type": "markdown",
   "metadata": {},
   "source": [
    "### **Single IO — Functional**"
   ]
  },
  {
   "cell_type": "code",
   "execution_count": 3,
   "metadata": {},
   "outputs": [],
   "source": [
    "inputs = keras.layers.Input(shape=(3,))\n",
    "features = keras.layers.Dense(units=64, activation=tf.nn.relu)(inputs)\n",
    "outputs = keras.layers.Dense(units=10, activation=tf.nn.softmax)(features)\n",
    "model = keras.Model(inputs=inputs, outputs=outputs)"
   ]
  },
  {
   "cell_type": "markdown",
   "metadata": {},
   "source": [
    "### **Multi IO — Functional**"
   ]
  },
  {
   "cell_type": "code",
   "execution_count": 4,
   "metadata": {},
   "outputs": [],
   "source": [
    "num_samples = 100\n",
    "num_words = 10\n",
    "num_tags = 5\n",
    "num_priorities = 1\n",
    "num_departments = 4\n",
    "num_difficulties = 3"
   ]
  },
  {
   "cell_type": "code",
   "execution_count": 5,
   "metadata": {},
   "outputs": [],
   "source": [
    "title = keras.layers.Input(shape=(num_words,))\n",
    "text = keras.layers.Input(shape=(num_words,))\n",
    "tag = keras.layers.Input(shape=(num_tags,))\n",
    "features = keras.layers.Concatenate()([title, text, tag])\n",
    "features = keras.layers.Dense(units=64, activation=tf.nn.relu)(features)\n",
    "features = keras.layers.Dropout(rate=0.5)(features)\n",
    "priority = keras.layers.Dense(units=num_priorities, activation=tf.nn.sigmoid, name=\"O_priority\")(features)\n",
    "department = keras.layers.Dense(units=num_departments, activation=tf.nn.softmax, name=\"O_department\")(features)\n",
    "model = keras.Model(inputs=[title, text, tag], outputs=[priority, department])"
   ]
  },
  {
   "cell_type": "code",
   "execution_count": 6,
   "metadata": {},
   "outputs": [],
   "source": [
    "features = model.layers[5].output\n",
    "difficulty = keras.layers.Dense(units=num_difficulties, activation=tf.nn.softmax, name=\"O_difficulty\")(features)\n",
    "model = keras.Model(inputs=[title, text, tag], outputs=[priority, department, difficulty])"
   ]
  },
  {
   "cell_type": "code",
   "execution_count": 7,
   "metadata": {},
   "outputs": [],
   "source": [
    "I_title = np.random.randint(0, num_words, size=(num_samples, num_words))\n",
    "I_text = np.random.randint(0, num_words, size=(num_samples, num_words))\n",
    "I_tag = np.random.randint(0, num_tags, size=(num_samples, num_tags))\n",
    "O_priority = np.random.random(size=(num_samples, num_priorities))\n",
    "O_department = np.random.randint(0, num_departments, size=(num_samples, num_departments))\n",
    "O_difficulty = np.random.randint(0, num_difficulties, size=(num_samples, num_difficulties))"
   ]
  },
  {
   "cell_type": "code",
   "execution_count": 8,
   "metadata": {},
   "outputs": [],
   "source": [
    "model.compile(\n",
    "    loss={\n",
    "        \"O_priority\": keras.losses.MeanSquaredError(),\n",
    "        \"O_department\": keras.losses.CategoricalCrossentropy(),\n",
    "        \"O_difficulty\": keras.losses.CategoricalCrossentropy(),\n",
    "    },\n",
    "    metrics={\n",
    "        \"O_priority\": keras.metrics.MeanAbsoluteError(),\n",
    "        \"O_department\": keras.metrics.CategoricalAccuracy(),\n",
    "        \"O_difficulty\": keras.metrics.CategoricalAccuracy(),\n",
    "    },\n",
    "    optimizer=keras.optimizers.legacy.RMSprop(),\n",
    ")"
   ]
  },
  {
   "cell_type": "code",
   "execution_count": 9,
   "metadata": {},
   "outputs": [],
   "source": [
    "history = model.fit(\n",
    "    x=[I_title, I_text, I_tag],\n",
    "    y=[O_priority, O_department, O_difficulty],\n",
    "    verbose=False,\n",
    "    epochs=2,\n",
    "    validation_split=0.3,\n",
    ")\n",
    "model.evaluate(\n",
    "    x=[I_title, I_text, I_tag],\n",
    "    y=[O_priority, O_department, O_difficulty],\n",
    "    verbose=False,\n",
    ")\n",
    "predictions = model.predict(x=[I_title, I_text, I_tag], verbose=False)"
   ]
  },
  {
   "cell_type": "markdown",
   "metadata": {},
   "source": [
    "### **Multi IO — Subclass**"
   ]
  },
  {
   "cell_type": "code",
   "execution_count": 10,
   "metadata": {},
   "outputs": [],
   "source": [
    "class CustomModel(keras.Model):\n",
    "    def __init__(self):\n",
    "        super().__init__()\n",
    "        self.concat_layer = keras.layers.Concatenate()\n",
    "        self.mixing_layer = keras.layers.Dense(units=64, activation=tf.nn.relu)\n",
    "        self.priority_scorer = keras.layers.Dense(units=num_priorities, activation=tf.nn.sigmoid, name=\"O_priority\")\n",
    "        self.department_classifier = keras.layers.Dense(\n",
    "            units=num_departments, activation=tf.nn.softmax, name=\"O_department\"\n",
    "        )\n",
    "\n",
    "    def call(self, inputs):\n",
    "        title, text, tag = inputs\n",
    "        features = self.concat_layer([title, text, tag])\n",
    "        features = self.mixing_layer(features)\n",
    "        priority = self.priority_scorer(features)\n",
    "        department = self.department_classifier(features)\n",
    "        return priority, department"
   ]
  },
  {
   "cell_type": "code",
   "execution_count": 11,
   "metadata": {},
   "outputs": [],
   "source": [
    "model = CustomModel()\n",
    "model.compile(\n",
    "    loss=[keras.losses.MeanSquaredError(), keras.losses.CategoricalCrossentropy()],\n",
    "    metrics=[keras.metrics.MeanAbsoluteError(), keras.metrics.CategoricalAccuracy()],\n",
    "    optimizer=keras.optimizers.legacy.RMSprop(),\n",
    ")"
   ]
  },
  {
   "cell_type": "code",
   "execution_count": 12,
   "metadata": {},
   "outputs": [],
   "source": [
    "history = model.fit(\n",
    "    x=[I_title, I_text, I_tag],\n",
    "    y=[O_priority, O_department],\n",
    "    verbose=False,\n",
    "    epochs=2,\n",
    "    validation_split=0.3,\n",
    ")\n",
    "model.evaluate(\n",
    "    x=[I_title, I_text, I_tag],\n",
    "    y=[O_priority, O_department],\n",
    "    verbose=False,\n",
    ")\n",
    "predictions = model.predict(x=[I_title, I_text, I_tag], verbose=False)"
   ]
  },
  {
   "cell_type": "markdown",
   "metadata": {},
   "source": [
    "### **Mnist — Functional**"
   ]
  },
  {
   "cell_type": "code",
   "execution_count": 13,
   "metadata": {},
   "outputs": [],
   "source": [
    "(x_train, y_train), (x_test, y_test) = Chapter_01.prepare()\n",
    "inputs = keras.layers.Input(shape=(x_train.shape[1]))\n",
    "features = keras.layers.Dense(units=256, activation=tf.nn.relu)(inputs)\n",
    "features = keras.layers.Dropout(rate=0.5)(features)\n",
    "outputs = keras.layers.Dense(units=10, activation=tf.nn.softmax)(features)\n",
    "model = keras.Model(inputs=inputs, outputs=outputs)"
   ]
  },
  {
   "cell_type": "code",
   "execution_count": 14,
   "metadata": {},
   "outputs": [],
   "source": [
    "model.compile(\n",
    "    loss=keras.losses.SparseCategoricalCrossentropy(),\n",
    "    metrics=[keras.metrics.SparseCategoricalAccuracy()],\n",
    "    optimizer=keras.optimizers.legacy.RMSprop(),\n",
    ")"
   ]
  },
  {
   "cell_type": "code",
   "execution_count": 15,
   "metadata": {},
   "outputs": [],
   "source": [
    "history = model.fit(\n",
    "    x=x_train,\n",
    "    y=y_train,\n",
    "    validation_split=0.3,\n",
    "    epochs=5,\n",
    "    batch_size=5000,\n",
    "    verbose=False,\n",
    ")\n",
    "evaluation = model.evaluate(x=x_test, y=y_test, verbose=False)\n",
    "y_pred = model.predict(x=x_test, verbose=False)"
   ]
  },
  {
   "cell_type": "markdown",
   "metadata": {},
   "source": [
    "### **Custom Metrics**"
   ]
  },
  {
   "cell_type": "code",
   "execution_count": 16,
   "metadata": {},
   "outputs": [],
   "source": [
    "class RootMeanSquaredError(keras.metrics.Metric):\n",
    "    def __init__(self, name=\"rmse\", **kwargs):\n",
    "        super().__init__(name, **kwargs)\n",
    "        self.mse_sum = self.add_weight(name=\"mse_sum\", initializer=\"zeros\")\n",
    "        self.num_samples = self.add_weight(name=\"num_samples\", initializer=\"zeros\", dtype=\"int32\")\n",
    "\n",
    "    def update_state(self, y_true, y_pred, sample_weight=None):\n",
    "        y_true = tf.one_hot(y_true, depth=tf.shape(y_pred)[1])\n",
    "        mse = tf.reduce_mean(tf.square(y_true - y_pred))\n",
    "        num_samples = tf.shape(y_pred)[0]\n",
    "        self.mse_sum.assign_add(mse)\n",
    "        self.num_samples.assign_add(num_samples)\n",
    "\n",
    "    def result(self):\n",
    "        return tf.sqrt(self.mse_sum / tf.cast(self.num_samples, np.float32))\n",
    "\n",
    "    def reset_state(self):\n",
    "        self.mse_sum.assign(0.0)\n",
    "        self.num_samples.assign(0)"
   ]
  },
  {
   "cell_type": "code",
   "execution_count": 17,
   "metadata": {},
   "outputs": [],
   "source": [
    "model.compile(\n",
    "    loss=keras.losses.SparseCategoricalCrossentropy(),\n",
    "    metrics=[keras.metrics.SparseCategoricalAccuracy(), RootMeanSquaredError()],\n",
    "    optimizer=keras.optimizers.legacy.RMSprop(),\n",
    ")"
   ]
  },
  {
   "cell_type": "code",
   "execution_count": 18,
   "metadata": {},
   "outputs": [
    {
     "name": "stdout",
     "output_type": "stream",
     "text": [
      "dict_keys(['loss', 'sparse_categorical_accuracy', 'rmse', 'val_loss', 'val_sparse_categorical_accuracy', 'val_rmse'])\n"
     ]
    }
   ],
   "source": [
    "history = model.fit(\n",
    "    x=x_train,\n",
    "    y=y_train,\n",
    "    validation_split=0.3,\n",
    "    epochs=5,\n",
    "    batch_size=5000,\n",
    "    verbose=False,\n",
    ")\n",
    "evaluation = model.evaluate(x=x_test, y=y_test, verbose=False)\n",
    "y_pred = model.predict(x=x_test, verbose=False)\n",
    "print(history.history.keys())"
   ]
  },
  {
   "cell_type": "markdown",
   "metadata": {},
   "source": [
    "### **Builtin Callbacks**"
   ]
  },
  {
   "cell_type": "code",
   "execution_count": 19,
   "metadata": {},
   "outputs": [],
   "source": [
    "callbacks = [\n",
    "    keras.callbacks.EarlyStopping(\n",
    "        monitor=\"val_loss\",\n",
    "        patience=2,\n",
    "    ),\n",
    "    keras.callbacks.ModelCheckpoint(\n",
    "        filepath=\"model.keras\",\n",
    "        monitor=\"val_sparse_categorical_accuracy\",\n",
    "        save_best_only=True,\n",
    "    ),\n",
    "]"
   ]
  },
  {
   "cell_type": "code",
   "execution_count": 20,
   "metadata": {},
   "outputs": [],
   "source": [
    "model = Chapter_01.get_function_model()\n",
    "history = model.fit(\n",
    "    x=x_train,\n",
    "    y=y_train,\n",
    "    validation_split=0.3,\n",
    "    epochs=50,\n",
    "    batch_size=5000,\n",
    "    callbacks=[callbacks],\n",
    "    verbose=False,\n",
    ")"
   ]
  },
  {
   "cell_type": "markdown",
   "metadata": {},
   "source": [
    "### **Custom Callbacks**"
   ]
  },
  {
   "cell_type": "code",
   "execution_count": 29,
   "metadata": {},
   "outputs": [],
   "source": [
    "class CustomCallback(keras.callbacks.Callback):\n",
    "    def on_batch_begin(self, batch, logs):\n",
    "        pass\n",
    "\n",
    "    def on_batch_end(self, batch, logs):\n",
    "        pass\n",
    "\n",
    "    def on_epoch_begin(self, epoch, logs):\n",
    "        pass\n",
    "\n",
    "    def on_epoch_end(self, epoch, logs):\n",
    "        pass\n",
    "\n",
    "    def on_train_begin(self, logs):\n",
    "        pass\n",
    "\n",
    "    def on_train_end(self, logs):\n",
    "        pass\n",
    "\n",
    "\n",
    "callbacks = CustomCallback()"
   ]
  },
  {
   "cell_type": "code",
   "execution_count": 30,
   "metadata": {},
   "outputs": [],
   "source": [
    "model = Chapter_01.get_function_model()\n",
    "history = model.fit(\n",
    "    x=x_train,\n",
    "    y=y_train,\n",
    "    validation_split=0.3,\n",
    "    epochs=2,\n",
    "    batch_size=52000,\n",
    "    callbacks=[callbacks],\n",
    "    verbose=False,\n",
    ")"
   ]
  },
  {
   "cell_type": "markdown",
   "metadata": {},
   "source": [
    "### **Save and Load Model**"
   ]
  },
  {
   "cell_type": "code",
   "execution_count": 23,
   "metadata": {},
   "outputs": [],
   "source": [
    "model.save(\"model.keras\")\n",
    "model = keras.models.load_model(\"model.keras\")"
   ]
  },
  {
   "cell_type": "markdown",
   "metadata": {},
   "source": [
    "### **TensorBoard**"
   ]
  },
  {
   "cell_type": "code",
   "execution_count": 24,
   "metadata": {},
   "outputs": [],
   "source": [
    "model = Chapter_01.get_function_model()\n",
    "history = model.fit(\n",
    "    x=x_train,\n",
    "    y=y_train,\n",
    "    validation_split=0.3,\n",
    "    epochs=10,\n",
    "    batch_size=12000,\n",
    "    callbacks=[keras.callbacks.TensorBoard(log_dir=\"\")],\n",
    "    verbose=False,\n",
    ")"
   ]
  },
  {
   "cell_type": "markdown",
   "metadata": {},
   "source": [
    "### **Low Level Metrics**"
   ]
  },
  {
   "cell_type": "code",
   "execution_count": 25,
   "metadata": {},
   "outputs": [],
   "source": [
    "metric = keras.metrics.SparseCategoricalAccuracy()\n",
    "predictions = [[1, 0, 0], [0, 1, 0], [0, 0, 1]]\n",
    "targets = [0, 1, 2]\n",
    "targets_onehot = tf.one_hot(targets, depth=tf.shape(predictions)[1])\n",
    "metric.update_state(targets, predictions)\n",
    "metric.result()\n",
    "metric.reset_state()"
   ]
  },
  {
   "cell_type": "code",
   "execution_count": 26,
   "metadata": {},
   "outputs": [],
   "source": [
    "metric = keras.metrics.Mean()\n",
    "values = [1, 3, 9]\n",
    "metric.update_state(values)\n",
    "metric.result()\n",
    "metric.reset_state()"
   ]
  }
 ],
 "metadata": {
  "kernelspec": {
   "display_name": "projects",
   "language": "python",
   "name": "python3"
  },
  "language_info": {
   "codemirror_mode": {
    "name": "ipython",
    "version": 3
   },
   "file_extension": ".py",
   "mimetype": "text/x-python",
   "name": "python",
   "nbconvert_exporter": "python",
   "pygments_lexer": "ipython3",
   "version": "3.11.0"
  }
 },
 "nbformat": 4,
 "nbformat_minor": 2
}
