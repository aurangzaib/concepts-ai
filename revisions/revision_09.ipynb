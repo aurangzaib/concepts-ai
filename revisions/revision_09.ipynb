{
 "cells": [
  {
   "cell_type": "code",
   "execution_count": null,
   "metadata": {
    "ExecuteTime": {
     "end_time": "2024-01-27T13:05:22.816223Z",
     "start_time": "2024-01-27T13:05:21.162397Z"
    }
   },
   "outputs": [],
   "source": [
    "# System Libraries\n",
    "import importlib, sys, os\n",
    "import numpy as np\n",
    "import random\n",
    "\n",
    "# TensorFlow Libraries\n",
    "os.environ[\"TF_CPP_MIN_LOG_LEVEL\"] = \"1\"\n",
    "from tensorflow import keras\n",
    "import tensorflow as tf\n",
    "\n",
    "# User Libraries\n",
    "sys.path.append(\"../\")\n",
    "from modules import common, chapter_01, chapter_09\n",
    "\n",
    "# Reload Libraries\n",
    "importlib.reload(chapter_01)\n",
    "importlib.reload(chapter_09)\n",
    "importlib.reload(common)\n",
    "\n",
    "# Check GPU\n",
    "print(tf.config.list_physical_devices())\n",
    "\n",
    "# Module variables\n",
    "batch_size = 64\n",
    "epochs = 10"
   ]
  },
  {
   "cell_type": "markdown",
   "metadata": {},
   "source": [
    "**Semantic Segmentation**"
   ]
  },
  {
   "cell_type": "code",
   "execution_count": null,
   "metadata": {},
   "outputs": [],
   "source": [
    "augmentation = keras.Sequential(\n",
    "    [\n",
    "        keras.layers.RandomFlip(\"horizontal\"),\n",
    "        keras.layers.RandomZoom(0.2),\n",
    "        keras.layers.RandomRotation(0.2),\n",
    "    ]\n",
    ")"
   ]
  },
  {
   "cell_type": "code",
   "execution_count": null,
   "metadata": {},
   "outputs": [],
   "source": [
    "i = keras.Input(shape=(200, 200, 3))\n",
    "# ---------------------\n",
    "# Augmentation\n",
    "# ---------------------\n",
    "x = augmentation(i)\n",
    "# ---------------------\n",
    "# Downsample\n",
    "# ---------------------\n",
    "x = keras.layers.Rescaling(1.0 / 255)(x)\n",
    "x = keras.layers.Conv2D(filters=64, kernel_size=3, padding=\"same\", activation=tf.nn.relu, strides=2)(x)\n",
    "x = keras.layers.Conv2D(filters=64, kernel_size=3, padding=\"same\", activation=tf.nn.relu)(x)\n",
    "x = keras.layers.Conv2D(filters=128, kernel_size=3, padding=\"same\", activation=tf.nn.relu, strides=2)(x)\n",
    "x = keras.layers.Conv2D(filters=128, kernel_size=3, padding=\"same\", activation=tf.nn.relu)(x)\n",
    "x = keras.layers.Conv2D(filters=256, kernel_size=3, padding=\"same\", activation=tf.nn.relu, strides=2)(x)\n",
    "x = keras.layers.Conv2D(filters=256, kernel_size=3, padding=\"same\", activation=tf.nn.relu)(x)\n",
    "# ---------------------\n",
    "# Upsample\n",
    "# ---------------------\n",
    "x = keras.layers.Conv2DTranspose(filters=256, kernel_size=3, padding=\"same\", activation=tf.nn.relu)(x)\n",
    "x = keras.layers.Conv2DTranspose(filters=256, kernel_size=3, padding=\"same\", activation=tf.nn.relu, strides=2)(x)\n",
    "x = keras.layers.Conv2DTranspose(filters=128, kernel_size=3, padding=\"same\", activation=tf.nn.relu)(x)\n",
    "x = keras.layers.Conv2DTranspose(filters=128, kernel_size=3, padding=\"same\", activation=tf.nn.relu, strides=2)(x)\n",
    "x = keras.layers.Conv2DTranspose(filters=64, kernel_size=3, padding=\"same\", activation=tf.nn.relu)(x)\n",
    "x = keras.layers.Conv2DTranspose(filters=64, kernel_size=3, padding=\"same\", activation=tf.nn.relu, strides=2)(x)\n",
    "# ---------------------\n",
    "# Output\n",
    "# ---------------------\n",
    "o = keras.layers.Conv2D(filters=3, kernel_size=3, padding=\"same\", activation=tf.nn.softmax)(x)\n",
    "model = keras.Model(inputs=i, outputs=o)"
   ]
  },
  {
   "cell_type": "code",
   "execution_count": 6,
   "metadata": {},
   "outputs": [],
   "source": [
    "model.compile(\n",
    "    loss=keras.losses.SparseCategoricalCrossentropy(),\n",
    "    optimizer=keras.optimizers.legacy.RMSprop(0.001),\n",
    ")"
   ]
  },
  {
   "cell_type": "markdown",
   "metadata": {},
   "source": [
    "**Residual Connections without Maxpooling**"
   ]
  },
  {
   "cell_type": "code",
   "execution_count": 17,
   "metadata": {},
   "outputs": [],
   "source": [
    "# ----------------------------\n",
    "# Without residual connection\n",
    "# ----------------------------\n",
    "i = keras.Input(shape=(200, 200, 3))\n",
    "x = keras.layers.Rescaling(1.0 / 255)(i)\n",
    "x = keras.layers.Conv2D(filters=32, kernel_size=3, padding=\"same\", activation=tf.nn.relu)(x)\n",
    "x = keras.layers.Conv2D(filters=64, kernel_size=3, padding=\"same\", activation=tf.nn.relu)(x)\n",
    "o = keras.layers.Conv2D(filters=3, kernel_size=3, padding=\"same\", activation=tf.nn.softmax)(x)\n",
    "# ----------------------------\n",
    "# Without residual connection\n",
    "# ----------------------------\n",
    "i = keras.Input(shape=(200, 200, 3))\n",
    "x = keras.layers.Rescaling(1.0 / 255)(i)\n",
    "x = keras.layers.Conv2D(filters=32, kernel_size=3, padding=\"same\", activation=tf.nn.relu)(x)\n",
    "residual = x\n",
    "x = keras.layers.Conv2D(filters=64, kernel_size=3, padding=\"same\", activation=tf.nn.relu)(x)\n",
    "residual = keras.layers.Conv2D(filters=64, kernel_size=1, padding=\"same\", activation=None, strides=1)(residual)\n",
    "x = keras.layers.add([x, residual])\n",
    "o = keras.layers.Conv2D(filters=3, kernel_size=3, padding=\"same\", activation=tf.nn.softmax)(x)"
   ]
  },
  {
   "cell_type": "markdown",
   "metadata": {},
   "source": [
    "**Residual Connections with Maxpooling**"
   ]
  },
  {
   "cell_type": "code",
   "execution_count": 25,
   "metadata": {},
   "outputs": [],
   "source": [
    "# ----------------------------\n",
    "# Without residual connection\n",
    "# ----------------------------\n",
    "i = keras.Input(shape=(200, 200, 3))\n",
    "x = keras.layers.Rescaling(1.0 / 255)(i)\n",
    "x = keras.layers.Conv2D(filters=32, kernel_size=3, padding=\"same\", activation=tf.nn.relu)(x)\n",
    "x = keras.layers.MaxPool2D(pool_size=2)(x)\n",
    "x = keras.layers.Conv2D(filters=64, kernel_size=3, padding=\"same\", activation=tf.nn.relu)(x)\n",
    "x = keras.layers.MaxPool2D(pool_size=2)(x)\n",
    "o = keras.layers.Conv2D(filters=3, kernel_size=3, padding=\"same\", activation=tf.nn.softmax)(x)\n",
    "model1 = keras.Model(inputs=i, outputs=o)\n",
    "# ----------------------------\n",
    "# Without residual connection\n",
    "# ----------------------------\n",
    "i = keras.Input(shape=(200, 200, 3))\n",
    "x = keras.layers.Rescaling(1.0 / 255)(i)\n",
    "x = keras.layers.Conv2D(filters=32, kernel_size=3, padding=\"same\", activation=tf.nn.relu)(x)\n",
    "x = keras.layers.MaxPool2D(pool_size=2)(x)\n",
    "x = keras.layers.Conv2D(filters=64, kernel_size=3, padding=\"same\", activation=tf.nn.relu)(x)\n",
    "residual = x\n",
    "x = keras.layers.MaxPool2D(pool_size=2)(x)\n",
    "residual = keras.layers.Conv2D(filters=64, kernel_size=1, padding=\"same\", activation=None, strides=2)(residual)\n",
    "x = keras.layers.add([residual, x])\n",
    "o = keras.layers.Conv2D(filters=3, kernel_size=3, padding=\"same\", activation=tf.nn.softmax)(x)\n",
    "model2 = keras.Model(inputs=i, outputs=o)"
   ]
  },
  {
   "cell_type": "code",
   "execution_count": 26,
   "metadata": {},
   "outputs": [
    {
     "name": "stdout",
     "output_type": "stream",
     "text": [
      "Model: \"model_10\"\n",
      "_________________________________________________________________\n",
      " Layer (type)                Output Shape              Param #   \n",
      "=================================================================\n",
      " input_31 (InputLayer)       [(None, 200, 200, 3)]     0         \n",
      "                                                                 \n",
      " rescaling_29 (Rescaling)    (None, 200, 200, 3)       0         \n",
      "                                                                 \n",
      " conv2d_91 (Conv2D)          (None, 200, 200, 32)      896       \n",
      "                                                                 \n",
      " max_pooling2d_18 (MaxPooli  (None, 100, 100, 32)      0         \n",
      " ng2D)                                                           \n",
      "                                                                 \n",
      " conv2d_92 (Conv2D)          (None, 100, 100, 64)      18496     \n",
      "                                                                 \n",
      " max_pooling2d_19 (MaxPooli  (None, 50, 50, 64)        0         \n",
      " ng2D)                                                           \n",
      "                                                                 \n",
      " conv2d_93 (Conv2D)          (None, 50, 50, 3)         1731      \n",
      "                                                                 \n",
      "=================================================================\n",
      "Total params: 21123 (82.51 KB)\n",
      "Trainable params: 21123 (82.51 KB)\n",
      "Non-trainable params: 0 (0.00 Byte)\n",
      "_________________________________________________________________\n"
     ]
    }
   ],
   "source": [
    "model1.summary()"
   ]
  },
  {
   "cell_type": "code",
   "execution_count": 27,
   "metadata": {},
   "outputs": [
    {
     "name": "stdout",
     "output_type": "stream",
     "text": [
      "Model: \"model_11\"\n",
      "__________________________________________________________________________________________________\n",
      " Layer (type)                Output Shape                 Param #   Connected to                  \n",
      "==================================================================================================\n",
      " input_32 (InputLayer)       [(None, 200, 200, 3)]        0         []                            \n",
      "                                                                                                  \n",
      " rescaling_30 (Rescaling)    (None, 200, 200, 3)          0         ['input_32[0][0]']            \n",
      "                                                                                                  \n",
      " conv2d_94 (Conv2D)          (None, 200, 200, 32)         896       ['rescaling_30[0][0]']        \n",
      "                                                                                                  \n",
      " max_pooling2d_20 (MaxPooli  (None, 100, 100, 32)         0         ['conv2d_94[0][0]']           \n",
      " ng2D)                                                                                            \n",
      "                                                                                                  \n",
      " conv2d_95 (Conv2D)          (None, 100, 100, 64)         18496     ['max_pooling2d_20[0][0]']    \n",
      "                                                                                                  \n",
      " conv2d_96 (Conv2D)          (None, 50, 50, 64)           4160      ['conv2d_95[0][0]']           \n",
      "                                                                                                  \n",
      " max_pooling2d_21 (MaxPooli  (None, 50, 50, 64)           0         ['conv2d_95[0][0]']           \n",
      " ng2D)                                                                                            \n",
      "                                                                                                  \n",
      " add_9 (Add)                 (None, 50, 50, 64)           0         ['conv2d_96[0][0]',           \n",
      "                                                                     'max_pooling2d_21[0][0]']    \n",
      "                                                                                                  \n",
      " conv2d_97 (Conv2D)          (None, 50, 50, 3)            1731      ['add_9[0][0]']               \n",
      "                                                                                                  \n",
      "==================================================================================================\n",
      "Total params: 25283 (98.76 KB)\n",
      "Trainable params: 25283 (98.76 KB)\n",
      "Non-trainable params: 0 (0.00 Byte)\n",
      "__________________________________________________________________________________________________\n"
     ]
    }
   ],
   "source": [
    "model2.summary()"
   ]
  },
  {
   "cell_type": "markdown",
   "metadata": {},
   "source": [
    "**Batch normalization**"
   ]
  },
  {
   "cell_type": "code",
   "execution_count": 31,
   "metadata": {},
   "outputs": [],
   "source": [
    "# ----------------------------\n",
    "# Without residual connection\n",
    "# ----------------------------\n",
    "i = keras.Input(shape=(200, 200, 3))\n",
    "x = keras.layers.Rescaling(1.0 / 255)(i)\n",
    "x = keras.layers.Conv2D(filters=32, kernel_size=3, padding=\"same\", activation=tf.nn.relu)(x)\n",
    "x = keras.layers.Conv2D(filters=64, kernel_size=3, padding=\"same\", activation=tf.nn.relu)(x)\n",
    "o = keras.layers.Conv2D(filters=3, kernel_size=3, padding=\"same\", activation=tf.nn.softmax)(x)\n",
    "# ----------------------------\n",
    "# Without residual connection\n",
    "# ----------------------------\n",
    "i = keras.Input(shape=(200, 200, 3))\n",
    "x = keras.layers.Rescaling(1.0 / 255)(i)\n",
    "x = keras.layers.Conv2D(filters=32, kernel_size=3, padding=\"same\", use_bias=False, activation=None)(x)\n",
    "x = keras.layers.BatchNormalization()(x)\n",
    "x = keras.layers.Activation(activation=tf.nn.relu)(x)\n",
    "x = keras.layers.Conv2D(filters=64, kernel_size=3, padding=\"same\", use_bias=False, activation=None)(x)\n",
    "x = keras.layers.BatchNormalization()(x)\n",
    "x = keras.layers.Activation(activation=tf.nn.relu)(x)\n",
    "o = keras.layers.Conv2D(filters=3, kernel_size=3, padding=\"same\", activation=tf.nn.softmax)(x)"
   ]
  },
  {
   "cell_type": "markdown",
   "metadata": {},
   "source": [
    "**Depthwise separable convolution**"
   ]
  },
  {
   "cell_type": "code",
   "execution_count": 33,
   "metadata": {},
   "outputs": [],
   "source": [
    "# ----------------------------\n",
    "# With standard convolution\n",
    "# ----------------------------\n",
    "i = keras.Input(shape=(200, 200, 3))\n",
    "x = keras.layers.Rescaling(1.0 / 255)(i)\n",
    "x = keras.layers.Conv2D(filters=32, kernel_size=3, padding=\"same\", activation=tf.nn.relu)(x)\n",
    "x = keras.layers.Conv2D(filters=64, kernel_size=3, padding=\"same\", activation=tf.nn.relu)(x)\n",
    "o = keras.layers.Conv2D(filters=3, kernel_size=3, padding=\"same\", activation=tf.nn.softmax)(x)\n",
    "model1 = keras.Model(inputs=i, outputs=o)\n",
    "# ----------------------------\n",
    "# With separable convolution\n",
    "# ----------------------------\n",
    "i = keras.Input(shape=(200, 200, 3))\n",
    "x = keras.layers.Rescaling(1.0 / 255)(i)\n",
    "x = keras.layers.SeparableConv2D(filters=32, kernel_size=3, padding=\"same\", activation=tf.nn.relu)(x)\n",
    "x = keras.layers.SeparableConv2D(filters=64, kernel_size=3, padding=\"same\", activation=tf.nn.relu)(x)\n",
    "o = keras.layers.SeparableConv2D(filters=3, kernel_size=3, padding=\"same\", activation=tf.nn.softmax)(x)\n",
    "model2 = keras.Model(inputs=i, outputs=o)"
   ]
  },
  {
   "cell_type": "code",
   "execution_count": 34,
   "metadata": {},
   "outputs": [
    {
     "name": "stdout",
     "output_type": "stream",
     "text": [
      "Model: \"model_13\"\n",
      "_________________________________________________________________\n",
      " Layer (type)                Output Shape              Param #   \n",
      "=================================================================\n",
      " input_42 (InputLayer)       [(None, 200, 200, 3)]     0         \n",
      "                                                                 \n",
      " rescaling_40 (Rescaling)    (None, 200, 200, 3)       0         \n",
      "                                                                 \n",
      " conv2d_121 (Conv2D)         (None, 200, 200, 32)      896       \n",
      "                                                                 \n",
      " conv2d_122 (Conv2D)         (None, 200, 200, 64)      18496     \n",
      "                                                                 \n",
      " conv2d_123 (Conv2D)         (None, 200, 200, 3)       1731      \n",
      "                                                                 \n",
      "=================================================================\n",
      "Total params: 21123 (82.51 KB)\n",
      "Trainable params: 21123 (82.51 KB)\n",
      "Non-trainable params: 0 (0.00 Byte)\n",
      "_________________________________________________________________\n"
     ]
    }
   ],
   "source": [
    "model1.summary()"
   ]
  },
  {
   "cell_type": "code",
   "execution_count": 35,
   "metadata": {},
   "outputs": [
    {
     "name": "stdout",
     "output_type": "stream",
     "text": [
      "Model: \"model_14\"\n",
      "_________________________________________________________________\n",
      " Layer (type)                Output Shape              Param #   \n",
      "=================================================================\n",
      " input_43 (InputLayer)       [(None, 200, 200, 3)]     0         \n",
      "                                                                 \n",
      " rescaling_41 (Rescaling)    (None, 200, 200, 3)       0         \n",
      "                                                                 \n",
      " separable_conv2d_3 (Separa  (None, 200, 200, 32)      155       \n",
      " bleConv2D)                                                      \n",
      "                                                                 \n",
      " separable_conv2d_4 (Separa  (None, 200, 200, 64)      2400      \n",
      " bleConv2D)                                                      \n",
      "                                                                 \n",
      " separable_conv2d_5 (Separa  (None, 200, 200, 3)       771       \n",
      " bleConv2D)                                                      \n",
      "                                                                 \n",
      "=================================================================\n",
      "Total params: 3326 (12.99 KB)\n",
      "Trainable params: 3326 (12.99 KB)\n",
      "Non-trainable params: 0 (0.00 Byte)\n",
      "_________________________________________________________________\n"
     ]
    }
   ],
   "source": [
    "model2.summary()"
   ]
  }
 ],
 "metadata": {
  "kernelspec": {
   "display_name": "projects",
   "language": "python",
   "name": "python3"
  },
  "language_info": {
   "codemirror_mode": {
    "name": "ipython",
    "version": 3
   },
   "file_extension": ".py",
   "mimetype": "text/x-python",
   "name": "python",
   "nbconvert_exporter": "python",
   "pygments_lexer": "ipython3",
   "version": "3.11.7"
  }
 },
 "nbformat": 4,
 "nbformat_minor": 2
}
