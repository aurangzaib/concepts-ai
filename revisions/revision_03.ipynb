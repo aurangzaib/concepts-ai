{
 "cells": [
  {
   "cell_type": "code",
   "execution_count": 4,
   "metadata": {},
   "outputs": [
    {
     "name": "stdout",
     "output_type": "stream",
     "text": [
      "[PhysicalDevice(name='/physical_device:CPU:0', device_type='CPU'), PhysicalDevice(name='/physical_device:GPU:0', device_type='GPU')]\n"
     ]
    }
   ],
   "source": [
    "# System Libraries\n",
    "import matplotlib.pyplot as plt\n",
    "import tensorflow as tf\n",
    "import numpy as np\n",
    "import importlib\n",
    "import sys\n",
    "\n",
    "sys.path.append(\"../\")\n",
    "from modules import common, chapter_03\n",
    "\n",
    "# Reload Libraries\n",
    "importlib.reload(common)\n",
    "importlib.reload(chapter_03)\n",
    "\n",
    "# Class Instances\n",
    "constant = chapter_03.Constant()\n",
    "chapter_03 = chapter_03.chapter_03()\n",
    "\n",
    "# Check GPU\n",
    "print(tf.config.list_physical_devices())"
   ]
  },
  {
   "cell_type": "code",
   "execution_count": 3,
   "metadata": {},
   "outputs": [
    {
     "data": {
      "text/plain": [
       "<matplotlib.collections.PathCollection at 0x154e63590>"
      ]
     },
     "execution_count": 3,
     "metadata": {},
     "output_type": "execute_result"
    },
    {
     "data": {
      "image/png": "[encoded data removed]",
      "text/plain": [
       "<Figure size 640x480 with 1 Axes>"
      ]
     },
     "metadata": {},
     "output_type": "display_data"
    }
   ],
   "source": [
    "v1 = tf.constant(value=2.0)\n",
    "v2 = tf.Variable(initial_value=2.0)\n",
    "v3 = tf.Variable(initial_value=tf.zeros(shape=(2, 2)))\n",
    "v4 = tf.Variable(initial_value=tf.random.uniform(shape=(100, 100)))\n",
    "v5 = tf.Variable(initial_value=tf.random.normal(shape=(100, 100)))\n",
    "plt.scatter(x=v5[:, 0], y=v5[:, 1])"
   ]
  },
  {
   "cell_type": "code",
   "execution_count": 5,
   "metadata": {},
   "outputs": [
    {
     "name": "stdout",
     "output_type": "stream",
     "text": [
      "Acceleration: 33.20000076293945\n"
     ]
    }
   ],
   "source": [
    "time = tf.Variable(initial_value=2.0)\n",
    "with tf.GradientTape() as tape1:\n",
    "    with tf.GradientTape() as tape2:\n",
    "        position = (1 / 2) * (33.2) * tf.square(time)\n",
    "    velocity = tape2.gradient(position, time)\n",
    "acceleration = tape1.gradient(velocity, time)\n",
    "print(\"Acceleration: {}\".format(acceleration.numpy()))"
   ]
  },
  {
   "cell_type": "code",
   "execution_count": 9,
   "metadata": {},
   "outputs": [],
   "source": [
    "num_sample = 100\n",
    "x_pos = np.random.multivariate_normal(mean=[0, 3], cov=[[1.0, 0.5], [0.5, 1.0]], size=num_sample)\n",
    "x_neg = np.random.multivariate_normal(mean=[3, 0], cov=[[1.0, 0.5], [0.5, 1.0]], size=num_sample)\n",
    "y_pos = np.ones(shape=(num_sample, 1))\n",
    "y_neg = np.zeros(shape=(num_sample, 1))\n",
    "x_train = np.vstack((x_pos, x_neg)).astype(np.float32)\n",
    "y_train = np.vstack((y_pos, y_neg)).astype(np.float32)\n",
    "x_train, y_train = common.shuffle_data(x_train, y_train)\n",
    "num_sample = len(x_train)"
   ]
  },
  {
   "cell_type": "markdown",
   "metadata": {},
   "source": [
    "**Linear classifier using TensorFlow**"
   ]
  },
  {
   "cell_type": "code",
   "execution_count": 29,
   "metadata": {},
   "outputs": [
    {
     "data": {
      "text/plain": [
       "<tf.Tensor: shape=(), dtype=float32, numpy=2.270115>"
      ]
     },
     "execution_count": 29,
     "metadata": {},
     "output_type": "execute_result"
    }
   ],
   "source": [
    "class LinearClassifierTF:\n",
    "    def __init__(self):\n",
    "        self.w = tf.Variable(initial_value=(tf.random.uniform(shape=(2, 1))))\n",
    "        self.b = tf.Variable(initial_value=(tf.zeros(shape=(1))))\n",
    "        self.n = 0.001\n",
    "\n",
    "    def train_step(self, x, y):\n",
    "        with tf.GradientTape() as tape:\n",
    "            y_pred = tf.matmul(x, self.w) + self.b\n",
    "            loss = tf.reduce_mean(tf.square(y - y_pred))\n",
    "        gw, gb = tape.gradient(loss, [self.w, self.b])\n",
    "        self.w.assign_sub(self.n * gw)\n",
    "        self.b.assign_sub(self.n * gb)\n",
    "        return loss\n",
    "\n",
    "    def fit(self, x, y, epochs=3):\n",
    "        losses = []\n",
    "        for _ in range(epochs):\n",
    "            losses.append(self.train_step(x, y))\n",
    "        return losses"
   ]
  },
  {
   "cell_type": "markdown",
   "metadata": {},
   "source": [
    "**Linear classifier using Keras Optimizer and Loss**"
   ]
  },
  {
   "cell_type": "code",
   "execution_count": 43,
   "metadata": {},
   "outputs": [
    {
     "name": "stderr",
     "output_type": "stream",
     "text": [
      "WARNING:absl:At this time, the v2.11+ optimizer `tf.keras.optimizers.RMSprop` runs slowly on M1/M2 Macs, please use the legacy Keras optimizer instead, located at `tf.keras.optimizers.legacy.RMSprop`.\n"
     ]
    },
    {
     "data": {
      "text/plain": [
       "[<tf.Tensor: shape=(), dtype=float32, numpy=2.585778>,\n",
       " <tf.Tensor: shape=(), dtype=float32, numpy=2.5437527>,\n",
       " <tf.Tensor: shape=(), dtype=float32, numpy=2.5136392>]"
      ]
     },
     "execution_count": 43,
     "metadata": {},
     "output_type": "execute_result"
    }
   ],
   "source": [
    "class LinearClassifierKeras:\n",
    "    def __init__(self):\n",
    "        self.w = tf.Variable(initial_value=(tf.random.uniform(shape=(2, 1))))\n",
    "        self.b = tf.Variable(initial_value=(tf.zeros(shape=(1))))\n",
    "        self.n = 0.001\n",
    "        self.loss_fn = tf.keras.losses.MeanSquaredError()\n",
    "        self.optimizer_fn = tf.keras.optimizers.RMSprop(learning_rate=self.n)\n",
    "\n",
    "    def train_step(self, x, y):\n",
    "        with tf.GradientTape() as tape:\n",
    "            y_pred = tf.matmul(x, self.w) + self.b\n",
    "            loss = self.loss_fn(y, y_pred)\n",
    "        gradient = tape.gradient(loss, [self.w, self.b])\n",
    "        self.optimizer_fn.apply_gradients(zip(gradient, [self.w, self.b]))\n",
    "        return loss\n",
    "\n",
    "    def fit(self, x, y, epochs=3):\n",
    "        losses = []\n",
    "        for _ in range(epochs):\n",
    "            losses.append(self.train_step(x, y))\n",
    "        return losses\n",
    "\n",
    "\n",
    "l = LinearClassifierKeras()\n",
    "l.fit(x_train, y_train, 3)"
   ]
  },
  {
   "cell_type": "markdown",
   "metadata": {},
   "source": [
    "**Linear classifier using Keras Model**"
   ]
  },
  {
   "cell_type": "code",
   "execution_count": 41,
   "metadata": {},
   "outputs": [
    {
     "name": "stderr",
     "output_type": "stream",
     "text": [
      "WARNING:absl:At this time, the v2.11+ optimizer `tf.keras.optimizers.RMSprop` runs slowly on M1/M2 Macs, please use the legacy Keras optimizer instead, located at `tf.keras.optimizers.legacy.RMSprop`.\n"
     ]
    },
    {
     "data": {
      "text/plain": [
       "<keras.src.callbacks.History at 0x1559ee890>"
      ]
     },
     "execution_count": 41,
     "metadata": {},
     "output_type": "execute_result"
    }
   ],
   "source": [
    "model = tf.keras.Sequential(tf.keras.layers.Dense(units=1, activation=None))\n",
    "model.compile(loss=tf.keras.losses.MeanSquaredError(), optimizer=tf.keras.optimizers.RMSprop(learning_rate=0.001))\n",
    "model.fit(x=x_train, y=y_train, epochs=3, verbose=False)"
   ]
  }
 ],
 "metadata": {
  "kernelspec": {
   "display_name": "projects",
   "language": "python",
   "name": "python3"
  },
  "language_info": {
   "codemirror_mode": {
    "name": "ipython",
    "version": 3
   },
   "file_extension": ".py",
   "mimetype": "text/x-python",
   "name": "python",
   "nbconvert_exporter": "python",
   "pygments_lexer": "ipython3",
   "version": "3.11.7"
  }
 },
 "nbformat": 4,
 "nbformat_minor": 2
}
