{
  "cells": [
    {
      "cell_type": "markdown",
      "metadata": {},
      "source": [
        "---\n",
        "# **Preparation**\n",
        "---"
      ]
    },
    {
      "cell_type": "code",
      "execution_count": 1,
      "metadata": {
        "id": "I4KXsS7ljMGk"
      },
      "outputs": [],
      "source": [
        "# System Libraries\n",
        "from dataclasses import dataclass\n",
        "import matplotlib.pyplot as plt\n",
        "import tensorflow as tf\n",
        "import numpy as np"
      ]
    },
    {
      "cell_type": "markdown",
      "metadata": {
        "id": "gDMZbc7bn1eZ"
      },
      "source": [
        "---\n",
        "# **TensorFlow / Keras Use Cases**\n",
        "---\n",
        "\n",
        "**TensorFlow:**\n",
        "|  Concept | Description  |\n",
        "|---|---|\n",
        "| Static Computation Graphs  | Calculate gradient of a variable using automatic differentation |\n",
        "|  Runtimes |  TensorFlow can be run in C++, JavaScript, and mobile devices (TensorFlow Lite)| \n",
        "|  TensorFlow Serving | Production deployment  |\n",
        "|  TF-Agents | Reinforcement Learning  |\n",
        "|  TensorFlow Hub | Pretrained models  |\n",
        "|  TFX | Industrial Machine Learning  |\n",
        "\n",
        "--    \n",
        "\n",
        "|  Use Case | Description  |\n",
        "|---|---|\n",
        "| Variable creation| tf.Variable |\n",
        "| Mathematical Transformations| tf.matmul |\n",
        "| Backpropagation | tf.GradientTape |"
      ]
    },
    {
      "cell_type": "markdown",
      "metadata": {
        "id": "4koUjyYkptnz"
      },
      "source": [
        "**Keras:**\n",
        "\n",
        "|  Use Case | Description  |\n",
        "|---|---|\n",
        "| Layers| tf.keras.layers |\n",
        "| Loss Functions| tf.keras.losses.sparse_categorical_crossentropy |\n",
        "| Metrics | accuracy |\n",
        "| Optimizer | tf.keras.optimizers.SGD |"
      ]
    },
    {
      "cell_type": "markdown",
      "metadata": {
        "id": "oqkLNl12heox"
      },
      "source": [
        "---\n",
        "# **Tensor Variable and Constant**\n",
        "---"
      ]
    },
    {
      "cell_type": "code",
      "execution_count": 2,
      "metadata": {
        "colab": {
          "base_uri": "https://localhost:8080/"
        },
        "id": "UM36IQiMgfYQ",
        "outputId": "535c0130-4a0b-4906-d484-12f562649280"
      },
      "outputs": [
        {
          "data": {
            "text/plain": [
              "<tf.Tensor: shape=(2, 2), dtype=float32, numpy=\n",
              "array([[ 3.377597,  7.242276],\n",
              "       [ 5.583919, 12.725226]], dtype=float32)>"
            ]
          },
          "execution_count": 2,
          "metadata": {},
          "output_type": "execute_result"
        }
      ],
      "source": [
        "# Constant\n",
        "tf.zeros(shape=(2, 1))\n",
        "tf.ones(shape=(2, 2))\n",
        "tf.random.uniform(shape=(2, 2), minval=0, maxval=1e-3)\n",
        "tf.random.normal(shape=(2, 2), mean=0.0, stddev=1.0)\n",
        "\n",
        "# Variable\n",
        "tf_var1 = tf.Variable(initial_value=tf.ones(shape=(2, 2)))\n",
        "tf_var2 = tf.Variable(initial_value=tf.random.uniform(shape=(2, 2)))\n",
        "\n",
        "# Assign\n",
        "tf_var1[1, 1].assign(3)\n",
        "\n",
        "# Math operations\n",
        "tf.square(tf_var1)  # Square\n",
        "tf.sqrt(tf_var1)  # Square root\n",
        "\n",
        "tf_var1 + tf_var2  # Add (Elementwise)\n",
        "tf_var1.assign_add(tf_var2)  # tf_var1 += tf_var2\n",
        "\n",
        "tf_var1 * tf_var1  # Multiply (Elementwise)\n",
        "tf.matmul(tf_var1, tf_var1)  # Multiply (Dot Product)"
      ]
    },
    {
      "cell_type": "markdown",
      "metadata": {
        "id": "A42Lko3A9MeA"
      },
      "source": [
        "---\n",
        "# **1st Order Gradient**\n",
        "---"
      ]
    },
    {
      "cell_type": "code",
      "execution_count": 3,
      "metadata": {
        "colab": {
          "base_uri": "https://localhost:8080/"
        },
        "id": "OKmxRHCF9__K",
        "outputId": "60a9f1aa-6956-4cde-c3bb-feafc69e623d"
      },
      "outputs": [
        {
          "name": "stdout",
          "output_type": "stream",
          "text": [
            "tf.Tensor(3.0, shape=(), dtype=float32)\n",
            "3.0\n",
            "tf.Tensor(9.0, shape=(), dtype=float32)\n",
            "tf.Tensor(6.0, shape=(), dtype=float32)\n"
          ]
        }
      ],
      "source": [
        "input_const = tf.constant(value=3.0)\n",
        "with tf.GradientTape() as tape:\n",
        "    tape.watch(input_const)\n",
        "    result = tf.square(input_const)\n",
        "gradient = tape.gradient(result, input_const)\n",
        "\n",
        "print(input_const)\n",
        "print(input_const.numpy())\n",
        "print(result)\n",
        "print(gradient)"
      ]
    },
    {
      "cell_type": "markdown",
      "metadata": {
        "id": "tooZmT2sAvEb"
      },
      "source": [
        "---\n",
        "# **2nd Order Gradient**\n",
        "---"
      ]
    },
    {
      "cell_type": "code",
      "execution_count": 4,
      "metadata": {
        "colab": {
          "base_uri": "https://localhost:8080/"
        },
        "id": "QhJOQWpN-zNV",
        "outputId": "cf818ff1-5c82-4d34-8ecb-a687fdab92db"
      },
      "outputs": [
        {
          "name": "stdout",
          "output_type": "stream",
          "text": [
            "tf.Tensor(497.25, shape=(), dtype=float32)\n",
            "tf.Tensor(198.9, shape=(), dtype=float32)\n",
            "tf.Tensor(39.78, shape=(), dtype=float32)\n"
          ]
        }
      ],
      "source": [
        "time = tf.Variable(initial_value=5.0)\n",
        "with tf.GradientTape() as outer_tape:\n",
        "    with tf.GradientTape() as inner_tape:\n",
        "        position = (1 / 2.0) * (39.78) * (time**2)  # 1/2 * a * t2\n",
        "    velocity = inner_tape.gradient(position, time)  # a * t\n",
        "acceleration = outer_tape.gradient(velocity, time)  # a\n",
        "\n",
        "print(position)\n",
        "print(velocity)\n",
        "print(acceleration)"
      ]
    },
    {
      "cell_type": "markdown",
      "metadata": {},
      "source": [
        "---\n",
        "# **Dataset**\n",
        "---"
      ]
    },
    {
      "cell_type": "markdown",
      "metadata": {},
      "source": [
        "**Dataset**"
      ]
    },
    {
      "cell_type": "code",
      "execution_count": 5,
      "metadata": {},
      "outputs": [],
      "source": [
        "@dataclass\n",
        "class Constant:\n",
        "    input_dim = 2\n",
        "    output_dim = 1\n",
        "    epoch = 500\n",
        "    n = 0.1\n",
        "\n",
        "\n",
        "class Dataset:\n",
        "    def __init__(self):\n",
        "        self.dataset()\n",
        "\n",
        "    def dataset(self):\n",
        "        n_samples = 1000\n",
        "\n",
        "        # ---------------------------------------------------------------\n",
        "\n",
        "        pos_samples = np.random.multivariate_normal(\n",
        "            mean=[3, 0], cov=[[1.0, 0.5], [0.5, 1.0]], size=n_samples\n",
        "        )\n",
        "        neg_samples = np.random.multivariate_normal(\n",
        "            mean=[0, 3], cov=[[1.0, 0.5], [0.5, 1.0]], size=n_samples\n",
        "        )\n",
        "        pos_targets = np.ones(shape=(n_samples, 1))\n",
        "        neg_targets = np.zeros(shape=(n_samples, 1))\n",
        "\n",
        "        pos_test_samples = np.array([[4, 0], [5, -2], [2, -1]]).astype(np.float32)\n",
        "        neg_test_samples = np.array([[0, 2], [1, 4], [2, 4]]).astype(np.float32)\n",
        "\n",
        "        samples = np.vstack(tup=(pos_samples, neg_samples)).astype(np.float32)\n",
        "        targets = np.vstack(tup=(pos_targets, neg_targets)).astype(np.float32)\n",
        "\n",
        "        # ---------------------------------------------------------------\n",
        "\n",
        "        shuffle_indices = np.random.permutation(len(samples))\n",
        "        shuffle_samples = samples[shuffle_indices]\n",
        "        shuffle_targets = targets[shuffle_indices]\n",
        "\n",
        "        # ---------------------------------------------------------------\n",
        "\n",
        "        n_val = int(0.3 * len(shuffle_indices))\n",
        "\n",
        "        self.train_samples = shuffle_samples[n_val:]\n",
        "        self.train_targets = shuffle_targets[n_val:]\n",
        "\n",
        "        self.val_samples = shuffle_samples[:n_val]\n",
        "        self.val_targets = shuffle_targets[:n_val]\n",
        "\n",
        "        self.test_samples = np.vstack(tup=(pos_test_samples, neg_test_samples)).astype(\n",
        "            np.float32\n",
        "        )\n",
        "\n",
        "    def explore(self):\n",
        "        plt.scatter(x=self.train_samples[:, 0], y=self.train_samples[:, 1])\n",
        "        plt.scatter(x=self.val_samples[:, 0], y=self.val_samples[:, 1])\n",
        "\n",
        "\n",
        "constant = Constant()\n",
        "dataset = Dataset()"
      ]
    },
    {
      "cell_type": "markdown",
      "metadata": {},
      "source": [
        "**Exploration**"
      ]
    },
    {
      "cell_type": "code",
      "execution_count": 6,
      "metadata": {},
      "outputs": [
        {
          "data": {
            "image/png": "[encoded data removed]",
            "text/plain": [
              "<Figure size 640x480 with 1 Axes>"
            ]
          },
          "metadata": {},
          "output_type": "display_data"
        }
      ],
      "source": [
        "dataset.explore()"
      ]
    },
    {
      "cell_type": "markdown",
      "metadata": {},
      "source": [
        "---\n",
        "# **Linear Classifier — TensorFlow**\n",
        "---"
      ]
    },
    {
      "cell_type": "markdown",
      "metadata": {},
      "source": [
        "**Implementation**"
      ]
    },
    {
      "cell_type": "code",
      "execution_count": 7,
      "metadata": {},
      "outputs": [],
      "source": [
        "class LinearClassifierTensorFlow:\n",
        "    def __init__(self, n):\n",
        "        self.w = tf.Variable(\n",
        "            initial_value=tf.random.uniform(\n",
        "                shape=(constant.input_dim, constant.output_dim)\n",
        "            )\n",
        "        )\n",
        "        self.b = tf.Variable(initial_value=tf.zeros(shape=(constant.output_dim,)))\n",
        "        self.n = n\n",
        "\n",
        "    def fit(self, samples, targets):\n",
        "        # ---------------------------------------\n",
        "        # Forward Propagation\n",
        "        # ---------------------------------------\n",
        "        with tf.GradientTape() as tape:\n",
        "            predict_targets = tf.matmul(samples, self.w) + self.b\n",
        "            predict_loss = tf.reduce_mean(tf.square(targets - predict_targets))\n",
        "        # ---------------------------------------\n",
        "        # Backward Propagation\n",
        "        # ---------------------------------------\n",
        "        gradient_w, gradient_b = tape.gradient(predict_loss, [self.w, self.b])\n",
        "        self.w.assign_sub(self.n * gradient_w)\n",
        "        self.b.assign_sub(self.n * gradient_b)\n",
        "        return predict_loss\n",
        "\n",
        "    def evaluate(self, val_samples, targets):\n",
        "        val_targets = tf.matmul(val_samples, self.w) + self.b\n",
        "        val_loss = tf.reduce_mean(tf.square(targets - val_targets))\n",
        "        return val_loss\n",
        "\n",
        "    def predict(self, samples):\n",
        "        return tf.matmul(samples, self.w) + self.b"
      ]
    },
    {
      "cell_type": "markdown",
      "metadata": {},
      "source": [
        "**Usage**"
      ]
    },
    {
      "cell_type": "code",
      "execution_count": 8,
      "metadata": {},
      "outputs": [
        {
          "name": "stdout",
          "output_type": "stream",
          "text": [
            "Train Loss — TF:  0.024911445\n",
            "Val Loss — TF:  0.02379599\n"
          ]
        },
        {
          "data": {
            "text/plain": [
              "[<matplotlib.lines.Line2D at 0x167f1b290>]"
            ]
          },
          "execution_count": 8,
          "metadata": {},
          "output_type": "execute_result"
        },
        {
          "data": {
            "image/png": "[encoded data removed]",
            "text/plain": [
              "<Figure size 640x480 with 1 Axes>"
            ]
          },
          "metadata": {},
          "output_type": "display_data"
        }
      ],
      "source": [
        "lc_tf = LinearClassifierTensorFlow(constant.n)\n",
        "train_loss_tf, val_loss_tf = [], []\n",
        "for epoch in range(constant.epoch):\n",
        "    train_loss_tf.append(\n",
        "        lc_tf.fit(dataset.train_samples, dataset.train_targets).numpy()\n",
        "    )\n",
        "    val_loss_tf.append(lc_tf.evaluate(dataset.val_samples, dataset.val_targets).numpy())\n",
        "\n",
        "print(\"Train Loss — TF: \", train_loss_tf[-1])\n",
        "print(\"Val Loss — TF: \", val_loss_tf[-1])\n",
        "plt.plot(train_loss_tf)\n",
        "plt.plot(val_loss_tf)"
      ]
    },
    {
      "cell_type": "markdown",
      "metadata": {},
      "source": [
        "---\n",
        "# **Linear Classifier — Keras V1**\n",
        "---"
      ]
    },
    {
      "cell_type": "markdown",
      "metadata": {},
      "source": [
        "**General**\n",
        "- Layer encapsulates state (weight) and function (forward propagation)\n",
        "- When implementing own layer, put the forward propagation in the call method"
      ]
    },
    {
      "cell_type": "markdown",
      "metadata": {},
      "source": [
        "**Implementation**"
      ]
    },
    {
      "cell_type": "code",
      "execution_count": 9,
      "metadata": {},
      "outputs": [],
      "source": [
        "class LinearClassifierKerasV1:\n",
        "    def __init__(self, n):\n",
        "        self.optimizer = tf.keras.optimizers.SGD(learning_rate=n)\n",
        "        self.loss = tf.keras.losses.MeanSquaredError()\n",
        "        self.w = tf.Variable(\n",
        "            initial_value=tf.random.uniform(\n",
        "                shape=(constant.input_dim, constant.output_dim)\n",
        "            )\n",
        "        )\n",
        "        self.b = tf.Variable(initial_value=tf.zeros(shape=(constant.output_dim,)))\n",
        "        self.n = n\n",
        "\n",
        "    def fit(self, samples, targets):\n",
        "        # ---------------------------------------\n",
        "        # Forward Propagation\n",
        "        # ---------------------------------------\n",
        "        with tf.GradientTape() as tape:\n",
        "            predict_targets = tf.matmul(samples, self.w) + self.b\n",
        "            predict_loss = self.loss(targets, predict_targets)\n",
        "        # ---------------------------------------\n",
        "        # Backward Propagation\n",
        "        # ---------------------------------------\n",
        "        gradient = tape.gradient(predict_loss, [self.w, self.b])\n",
        "        self.optimizer.apply_gradients(zip(gradient, [self.w, self.b]))\n",
        "        return predict_loss\n",
        "\n",
        "    def evaluate(self, samples, true_targets):\n",
        "        targets = tf.matmul(samples, self.w) + self.b\n",
        "        loss = self.loss(true_targets, targets)\n",
        "        return loss\n",
        "\n",
        "    def predict(self, samples):\n",
        "        return tf.matmul(samples, self.w) + self.b"
      ]
    },
    {
      "cell_type": "markdown",
      "metadata": {},
      "source": [
        "**Usage**"
      ]
    },
    {
      "cell_type": "code",
      "execution_count": 10,
      "metadata": {},
      "outputs": [
        {
          "name": "stderr",
          "output_type": "stream",
          "text": [
            "WARNING:absl:At this time, the v2.11+ optimizer `tf.keras.optimizers.SGD` runs slowly on M1/M2 Macs, please use the legacy Keras optimizer instead, located at `tf.keras.optimizers.legacy.SGD`.\n"
          ]
        },
        {
          "name": "stdout",
          "output_type": "stream",
          "text": [
            "Train Loss — Kera V1:  0.024911445\n",
            "Val Loss — Kera V1:  0.02379599\n"
          ]
        },
        {
          "data": {
            "text/plain": [
              "[<matplotlib.lines.Line2D at 0x168857910>]"
            ]
          },
          "execution_count": 10,
          "metadata": {},
          "output_type": "execute_result"
        },
        {
          "data": {
            "image/png": "[encoded data removed]",
            "text/plain": [
              "<Figure size 640x480 with 1 Axes>"
            ]
          },
          "metadata": {},
          "output_type": "display_data"
        }
      ],
      "source": [
        "lc_keras_v1 = LinearClassifierKerasV1(constant.n)\n",
        "train_loss_kera_v1, val_loss_kera_v1 = [], []\n",
        "for epoch in range(constant.epoch):\n",
        "    train_loss_kera_v1.append(\n",
        "        lc_keras_v1.fit(dataset.train_samples, dataset.train_targets).numpy()\n",
        "    )\n",
        "    val_loss_kera_v1.append(\n",
        "        lc_keras_v1.evaluate(dataset.val_samples, dataset.val_targets).numpy()\n",
        "    )\n",
        "print(\"Train Loss — Kera V1: \", train_loss_kera_v1[-1])\n",
        "print(\"Val Loss — Kera V1: \", val_loss_kera_v1[-1])\n",
        "plt.plot(train_loss_kera_v1)\n",
        "plt.plot(val_loss_kera_v1)"
      ]
    },
    {
      "cell_type": "markdown",
      "metadata": {},
      "source": [
        "---\n",
        "# **Linear Classifier — Kera V2**\n",
        "---"
      ]
    },
    {
      "cell_type": "markdown",
      "metadata": {},
      "source": [
        "**Implementation**"
      ]
    },
    {
      "cell_type": "code",
      "execution_count": 11,
      "metadata": {},
      "outputs": [],
      "source": [
        "class LinearClassifierKerasV2:\n",
        "    def __init__(self, n):\n",
        "        model = tf.keras.Sequential(tf.keras.layers.Dense(units=1, activation=None))\n",
        "        model.compile(\n",
        "            optimizer=tf.keras.optimizers.SGD(n),\n",
        "            loss=tf.keras.losses.MeanSquaredError(),\n",
        "            metrics=[tf.keras.metrics.BinaryAccuracy()],\n",
        "        )\n",
        "        self.model = model\n",
        "\n",
        "    def fit(self, samples, targets):\n",
        "        history = self.model.fit(\n",
        "            x=samples,\n",
        "            y=targets,\n",
        "            epochs=constant.epoch,\n",
        "            validation_data=(dataset.val_samples, dataset.val_targets),\n",
        "            verbose=False,\n",
        "        )\n",
        "        return history.history\n",
        "\n",
        "    def evaluate(self, samples, true_targets):\n",
        "        return self.model.evaluate(x=samples, y=true_targets, verbose=False)\n",
        "\n",
        "    def predict(self, samples):\n",
        "        return self.model.predict(x=samples)"
      ]
    },
    {
      "cell_type": "markdown",
      "metadata": {},
      "source": [
        "**Usage**"
      ]
    },
    {
      "cell_type": "code",
      "execution_count": 12,
      "metadata": {},
      "outputs": [
        {
          "name": "stderr",
          "output_type": "stream",
          "text": [
            "WARNING:absl:At this time, the v2.11+ optimizer `tf.keras.optimizers.SGD` runs slowly on M1/M2 Macs, please use the legacy Keras optimizer instead, located at `tf.keras.optimizers.legacy.SGD`.\n"
          ]
        },
        {
          "name": "stdout",
          "output_type": "stream",
          "text": [
            "Train Loss — Keras V2:  0.027569901198148727\n",
            "Val Loss — Keras V2:  0.03531459718942642\n"
          ]
        },
        {
          "data": {
            "text/plain": [
              "[<matplotlib.lines.Line2D at 0x168f04590>]"
            ]
          },
          "execution_count": 12,
          "metadata": {},
          "output_type": "execute_result"
        },
        {
          "data": {
            "image/png": "[encoded data removed]",
            "text/plain": [
              "<Figure size 640x480 with 1 Axes>"
            ]
          },
          "metadata": {},
          "output_type": "display_data"
        }
      ],
      "source": [
        "lc_keras_v2 = LinearClassifierKerasV2(constant.n)\n",
        "train_loss_kera_v1 = lc_keras_v2.fit(dataset.train_samples, dataset.train_targets)[\n",
        "    \"loss\"\n",
        "]\n",
        "val_loss_kera_v2 = lc_keras_v2.evaluate(dataset.val_samples, dataset.val_targets)[0]\n",
        "print(\"Train Loss — Keras V2: \", train_loss_kera_v1[-1])\n",
        "print(\"Val Loss — Keras V2: \", val_loss_kera_v2)\n",
        "plt.plot(train_loss_kera_v1)"
      ]
    },
    {
      "cell_type": "markdown",
      "metadata": {},
      "source": [
        "---"
      ]
    }
  ],
  "metadata": {
    "colab": {
      "provenance": []
    },
    "kernelspec": {
      "display_name": "Python 3",
      "name": "python3"
    },
    "language_info": {
      "codemirror_mode": {
        "name": "ipython",
        "version": 3
      },
      "file_extension": ".py",
      "mimetype": "text/x-python",
      "name": "python",
      "nbconvert_exporter": "python",
      "pygments_lexer": "ipython3",
      "version": "3.11.5"
    }
  },
  "nbformat": 4,
  "nbformat_minor": 0
}
